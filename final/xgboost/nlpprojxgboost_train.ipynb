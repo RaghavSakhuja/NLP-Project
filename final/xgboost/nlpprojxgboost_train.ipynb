{
 "cells": [
  {
   "cell_type": "code",
   "execution_count": 1,
   "id": "9c496a92",
   "metadata": {
    "execution": {
     "iopub.execute_input": "2024-04-08T22:54:28.951169Z",
     "iopub.status.busy": "2024-04-08T22:54:28.950415Z",
     "iopub.status.idle": "2024-04-08T22:54:41.633585Z",
     "shell.execute_reply": "2024-04-08T22:54:41.632272Z"
    },
    "papermill": {
     "duration": 12.69237,
     "end_time": "2024-04-08T22:54:41.636319",
     "exception": false,
     "start_time": "2024-04-08T22:54:28.943949",
     "status": "completed"
    },
    "tags": []
   },
   "outputs": [
    {
     "name": "stdout",
     "output_type": "stream",
     "text": [
      "Requirement already satisfied: scikit-learn-intelex in /opt/conda/lib/python3.10/site-packages (2024.1.0)\r\n",
      "Requirement already satisfied: daal4py==2024.1.0 in /opt/conda/lib/python3.10/site-packages (from scikit-learn-intelex) (2024.1.0)\r\n",
      "Requirement already satisfied: scikit-learn>=0.22 in /opt/conda/lib/python3.10/site-packages (from scikit-learn-intelex) (1.2.2)\r\n",
      "Requirement already satisfied: daal==2024.1.0 in /opt/conda/lib/python3.10/site-packages (from daal4py==2024.1.0->scikit-learn-intelex) (2024.1.0)\r\n",
      "Requirement already satisfied: numpy>=1.19 in /opt/conda/lib/python3.10/site-packages (from daal4py==2024.1.0->scikit-learn-intelex) (1.26.4)\r\n",
      "Requirement already satisfied: tbb==2021.* in /opt/conda/lib/python3.10/site-packages (from daal==2024.1.0->daal4py==2024.1.0->scikit-learn-intelex) (2021.11.0)\r\n",
      "Requirement already satisfied: scipy>=1.3.2 in /opt/conda/lib/python3.10/site-packages (from scikit-learn>=0.22->scikit-learn-intelex) (1.11.4)\r\n",
      "Requirement already satisfied: joblib>=1.1.1 in /opt/conda/lib/python3.10/site-packages (from scikit-learn>=0.22->scikit-learn-intelex) (1.3.2)\r\n",
      "Requirement already satisfied: threadpoolctl>=2.0.0 in /opt/conda/lib/python3.10/site-packages (from scikit-learn>=0.22->scikit-learn-intelex) (3.2.0)\r\n"
     ]
    }
   ],
   "source": [
    "! pip install scikit-learn-intelex\n"
   ]
  },
  {
   "cell_type": "code",
   "execution_count": 2,
   "id": "df5c27d8",
   "metadata": {
    "execution": {
     "iopub.execute_input": "2024-04-08T22:54:41.646346Z",
     "iopub.status.busy": "2024-04-08T22:54:41.645950Z",
     "iopub.status.idle": "2024-04-08T22:54:44.575371Z",
     "shell.execute_reply": "2024-04-08T22:54:44.573911Z"
    },
    "papermill": {
     "duration": 2.937146,
     "end_time": "2024-04-08T22:54:44.577657",
     "exception": false,
     "start_time": "2024-04-08T22:54:41.640511",
     "status": "completed"
    },
    "tags": []
   },
   "outputs": [
    {
     "name": "stderr",
     "output_type": "stream",
     "text": [
      "Intel(R) Extension for Scikit-learn* enabled (https://github.com/intel/scikit-learn-intelex)\n"
     ]
    }
   ],
   "source": [
    "from sklearnex import patch_sklearn\n",
    "patch_sklearn()\n",
    "\n",
    "import json\n",
    "import pandas as pd\n",
    "from sklearn.model_selection import GridSearchCV\n",
    "from sklearn.feature_extraction.text import TfidfVectorizer\n",
    "from sklearn.preprocessing import LabelEncoder\n",
    "from sklearn.model_selection import train_test_split\n",
    "from sklearn.metrics import accuracy_score\n",
    "from sklearn.model_selection import GridSearchCV\n",
    "from sklearn.pipeline import Pipeline\n",
    "from sklearn.svm import SVC\n",
    "from sklearn.linear_model import LogisticRegression\n",
    "import pickle\n",
    "import numpy as np\n",
    "from sklearn.metrics import balanced_accuracy_score\n",
    "from sklearn.metrics import f1_score\n",
    "from sklearn.metrics import classification_report\n",
    "from xgboost import XGBClassifier\n",
    "\n",
    "PATH=\"/kaggle/input/webis-clickbait-22/\"\n",
    "sep='[SEP]'\n",
    "\n",
    "label_encoder = LabelEncoder()"
   ]
  },
  {
   "cell_type": "code",
   "execution_count": 3,
   "id": "6822c9fd",
   "metadata": {
    "execution": {
     "iopub.execute_input": "2024-04-08T22:54:44.586984Z",
     "iopub.status.busy": "2024-04-08T22:54:44.586507Z",
     "iopub.status.idle": "2024-04-08T22:54:44.597070Z",
     "shell.execute_reply": "2024-04-08T22:54:44.596369Z"
    },
    "papermill": {
     "duration": 0.017245,
     "end_time": "2024-04-08T22:54:44.598853",
     "exception": false,
     "start_time": "2024-04-08T22:54:44.581608",
     "status": "completed"
    },
    "tags": []
   },
   "outputs": [],
   "source": [
    "\n",
    "def get_split_data(file_path,if_train=True):\n",
    "    global label_encoder\n",
    "    data=pd.read_json(file_path,lines=True,encoding='utf-8')\n",
    "\n",
    "    y = data[\"tags\"]\n",
    "    Y = [i[0] for i in y]\n",
    "    print(\"len of Y: \",len(Y))\n",
    "    if if_train:\n",
    "        Y = label_encoder.fit_transform(Y)\n",
    "    else:\n",
    "        Y = label_encoder.transform(Y)\n",
    "\n",
    "    new_data=data[['postText','targetParagraphs','targetTitle','targetDescription','targetKeywords']]\n",
    "    dic=new_data.to_dict(orient='records')\n",
    "\n",
    "    desccount=0\n",
    "    keycount=0\n",
    "    for i in dic:\n",
    "        # print(i)\n",
    "        i['postText']='postText: '+i['postText'][0]\n",
    "        targetparah=\" \".join(i['targetParagraphs'])\n",
    "        i['targetParagraphs']='targetParagraphs: '+targetparah\n",
    "        i['targetTitle']='targetTitle: '+i['targetTitle']\n",
    "        targetDescription=i['targetDescription']\n",
    "        if(targetDescription is None or len(targetDescription)==0):\n",
    "            targetDescription='none'\n",
    "            desccount+=1\n",
    "        i['targetDescription']='targetDescription: '+targetDescription\n",
    "        targetkey=i['targetKeywords']\n",
    "        if(targetkey is None or len(targetkey)==0):\n",
    "            targetkey='none'\n",
    "            keycount+=1\n",
    "        i['targetKeywords']='targetKeywords: '+targetkey\n",
    "        i['text']=i['postText']+sep+i['targetParagraphs']+sep+i['targetTitle']+sep+i['targetDescription']+sep+i['targetKeywords']\n",
    "        del i['postText']\n",
    "        del i['targetParagraphs']\n",
    "        del i['targetTitle']\n",
    "        del i['targetDescription']\n",
    "        del i['targetKeywords']\n",
    "\n",
    "    print(\"desccount: \",desccount)\n",
    "    print(\"keycount: \",keycount)\n",
    "    X = [i['text'] for i in dic]\n",
    "    X=np.array(X)\n",
    "#     return X[0:100],Y[0:100]\n",
    "    return X,Y\n"
   ]
  },
  {
   "cell_type": "code",
   "execution_count": 4,
   "id": "9ee00f5a",
   "metadata": {
    "execution": {
     "iopub.execute_input": "2024-04-08T22:54:44.608144Z",
     "iopub.status.busy": "2024-04-08T22:54:44.607508Z",
     "iopub.status.idle": "2024-04-08T22:54:47.232758Z",
     "shell.execute_reply": "2024-04-08T22:54:47.231697Z"
    },
    "papermill": {
     "duration": 2.632352,
     "end_time": "2024-04-08T22:54:47.235168",
     "exception": false,
     "start_time": "2024-04-08T22:54:44.602816",
     "status": "completed"
    },
    "tags": []
   },
   "outputs": [
    {
     "name": "stdout",
     "output_type": "stream",
     "text": [
      "len of Y:  3200\n",
      "desccount:  332\n",
      "keycount:  1314\n",
      "len of Y:  1000\n",
      "desccount:  104\n",
      "keycount:  414\n",
      "len of Y:  800\n",
      "desccount:  78\n",
      "keycount:  330\n"
     ]
    }
   ],
   "source": [
    "\n",
    "x_train,y_train = get_split_data(PATH+'train.jsonl')\n",
    "x_test,y_test = get_split_data(PATH+'test.jsonl',False)\n",
    "x_val,y_val = get_split_data(PATH+'validation.jsonl',False)\n"
   ]
  },
  {
   "cell_type": "code",
   "execution_count": 5,
   "id": "e1ddf373",
   "metadata": {
    "execution": {
     "iopub.execute_input": "2024-04-08T22:54:47.246094Z",
     "iopub.status.busy": "2024-04-08T22:54:47.245402Z",
     "iopub.status.idle": "2024-04-08T22:54:47.254248Z",
     "shell.execute_reply": "2024-04-08T22:54:47.253077Z"
    },
    "papermill": {
     "duration": 0.016706,
     "end_time": "2024-04-08T22:54:47.256534",
     "exception": false,
     "start_time": "2024-04-08T22:54:47.239828",
     "status": "completed"
    },
    "tags": []
   },
   "outputs": [
    {
     "data": {
      "text/plain": [
       "((3200,), (3200,), (1000,), (1000,), (800,), (800,), 3518)"
      ]
     },
     "execution_count": 5,
     "metadata": {},
     "output_type": "execute_result"
    }
   ],
   "source": [
    "# len(x_train),len(y_train),len(x_test),len(y_test),len(x_val),len(y_val),len(x_train[0]),len(y_train[0])\n",
    "x_train.shape,y_train.shape,x_test.shape,y_test.shape,x_val.shape,y_val.shape,len(x_train[10])\n"
   ]
  },
  {
   "cell_type": "code",
   "execution_count": 6,
   "id": "4f167648",
   "metadata": {
    "execution": {
     "iopub.execute_input": "2024-04-08T22:54:47.267018Z",
     "iopub.status.busy": "2024-04-08T22:54:47.266676Z",
     "iopub.status.idle": "2024-04-08T22:54:47.274053Z",
     "shell.execute_reply": "2024-04-08T22:54:47.273108Z"
    },
    "papermill": {
     "duration": 0.01497,
     "end_time": "2024-04-08T22:54:47.276175",
     "exception": false,
     "start_time": "2024-04-08T22:54:47.261205",
     "status": "completed"
    },
    "tags": []
   },
   "outputs": [
    {
     "data": {
      "text/plain": [
       "(numpy.ndarray,\n",
       " numpy.ndarray,\n",
       " numpy.ndarray,\n",
       " numpy.ndarray,\n",
       " numpy.ndarray,\n",
       " numpy.ndarray,\n",
       " numpy.str_,\n",
       " numpy.int64)"
      ]
     },
     "execution_count": 6,
     "metadata": {},
     "output_type": "execute_result"
    }
   ],
   "source": [
    "type(x_train),type(y_train),type(x_test),type(y_test),type(x_val),type(y_val),type(x_train[0]),type(y_train[0])"
   ]
  },
  {
   "cell_type": "code",
   "execution_count": 7,
   "id": "bb04b8ea",
   "metadata": {
    "execution": {
     "iopub.execute_input": "2024-04-08T22:54:47.286689Z",
     "iopub.status.busy": "2024-04-08T22:54:47.286352Z",
     "iopub.status.idle": "2024-04-08T22:54:51.366749Z",
     "shell.execute_reply": "2024-04-08T22:54:51.365622Z"
    },
    "papermill": {
     "duration": 4.087648,
     "end_time": "2024-04-08T22:54:51.368713",
     "exception": false,
     "start_time": "2024-04-08T22:54:47.281065",
     "status": "completed"
    },
    "tags": []
   },
   "outputs": [
    {
     "name": "stderr",
     "output_type": "stream",
     "text": [
      "INFO:sklearnex: sklearn.utils.validation._assert_all_finite: running accelerated version on CPU\n",
      "INFO:sklearnex: sklearn.utils.validation._assert_all_finite: running accelerated version on CPU\n",
      "INFO:sklearnex: sklearn.utils.validation._assert_all_finite: running accelerated version on CPU\n",
      "INFO:sklearnex: sklearn.utils.validation._assert_all_finite: running accelerated version on CPU\n",
      "INFO:sklearnex: sklearn.utils.validation._assert_all_finite: running accelerated version on CPU\n",
      "INFO:sklearnex: sklearn.utils.validation._assert_all_finite: running accelerated version on CPU\n",
      "INFO:sklearnex: sklearn.utils.validation._assert_all_finite: running accelerated version on CPU\n"
     ]
    }
   ],
   "source": [
    "vectorizer = TfidfVectorizer(ngram_range=(1,1),stop_words=None)\n",
    "x_train =  vectorizer.fit_transform(x_train)\n",
    "x_test = vectorizer.transform(x_test)\n",
    "x_val = vectorizer.transform(x_val)"
   ]
  },
  {
   "cell_type": "code",
   "execution_count": 8,
   "id": "d21e8a2a",
   "metadata": {
    "execution": {
     "iopub.execute_input": "2024-04-08T22:54:51.380494Z",
     "iopub.status.busy": "2024-04-08T22:54:51.379792Z",
     "iopub.status.idle": "2024-04-08T23:06:08.320376Z",
     "shell.execute_reply": "2024-04-08T23:06:08.319322Z"
    },
    "papermill": {
     "duration": 676.954261,
     "end_time": "2024-04-08T23:06:08.328029",
     "exception": false,
     "start_time": "2024-04-08T22:54:51.373768",
     "status": "completed"
    },
    "tags": []
   },
   "outputs": [
    {
     "data": {
      "text/html": [
       "<style>#sk-container-id-1 {color: black;background-color: white;}#sk-container-id-1 pre{padding: 0;}#sk-container-id-1 div.sk-toggleable {background-color: white;}#sk-container-id-1 label.sk-toggleable__label {cursor: pointer;display: block;width: 100%;margin-bottom: 0;padding: 0.3em;box-sizing: border-box;text-align: center;}#sk-container-id-1 label.sk-toggleable__label-arrow:before {content: \"▸\";float: left;margin-right: 0.25em;color: #696969;}#sk-container-id-1 label.sk-toggleable__label-arrow:hover:before {color: black;}#sk-container-id-1 div.sk-estimator:hover label.sk-toggleable__label-arrow:before {color: black;}#sk-container-id-1 div.sk-toggleable__content {max-height: 0;max-width: 0;overflow: hidden;text-align: left;background-color: #f0f8ff;}#sk-container-id-1 div.sk-toggleable__content pre {margin: 0.2em;color: black;border-radius: 0.25em;background-color: #f0f8ff;}#sk-container-id-1 input.sk-toggleable__control:checked~div.sk-toggleable__content {max-height: 200px;max-width: 100%;overflow: auto;}#sk-container-id-1 input.sk-toggleable__control:checked~label.sk-toggleable__label-arrow:before {content: \"▾\";}#sk-container-id-1 div.sk-estimator input.sk-toggleable__control:checked~label.sk-toggleable__label {background-color: #d4ebff;}#sk-container-id-1 div.sk-label input.sk-toggleable__control:checked~label.sk-toggleable__label {background-color: #d4ebff;}#sk-container-id-1 input.sk-hidden--visually {border: 0;clip: rect(1px 1px 1px 1px);clip: rect(1px, 1px, 1px, 1px);height: 1px;margin: -1px;overflow: hidden;padding: 0;position: absolute;width: 1px;}#sk-container-id-1 div.sk-estimator {font-family: monospace;background-color: #f0f8ff;border: 1px dotted black;border-radius: 0.25em;box-sizing: border-box;margin-bottom: 0.5em;}#sk-container-id-1 div.sk-estimator:hover {background-color: #d4ebff;}#sk-container-id-1 div.sk-parallel-item::after {content: \"\";width: 100%;border-bottom: 1px solid gray;flex-grow: 1;}#sk-container-id-1 div.sk-label:hover label.sk-toggleable__label {background-color: #d4ebff;}#sk-container-id-1 div.sk-serial::before {content: \"\";position: absolute;border-left: 1px solid gray;box-sizing: border-box;top: 0;bottom: 0;left: 50%;z-index: 0;}#sk-container-id-1 div.sk-serial {display: flex;flex-direction: column;align-items: center;background-color: white;padding-right: 0.2em;padding-left: 0.2em;position: relative;}#sk-container-id-1 div.sk-item {position: relative;z-index: 1;}#sk-container-id-1 div.sk-parallel {display: flex;align-items: stretch;justify-content: center;background-color: white;position: relative;}#sk-container-id-1 div.sk-item::before, #sk-container-id-1 div.sk-parallel-item::before {content: \"\";position: absolute;border-left: 1px solid gray;box-sizing: border-box;top: 0;bottom: 0;left: 50%;z-index: -1;}#sk-container-id-1 div.sk-parallel-item {display: flex;flex-direction: column;z-index: 1;position: relative;background-color: white;}#sk-container-id-1 div.sk-parallel-item:first-child::after {align-self: flex-end;width: 50%;}#sk-container-id-1 div.sk-parallel-item:last-child::after {align-self: flex-start;width: 50%;}#sk-container-id-1 div.sk-parallel-item:only-child::after {width: 0;}#sk-container-id-1 div.sk-dashed-wrapped {border: 1px dashed gray;margin: 0 0.4em 0.5em 0.4em;box-sizing: border-box;padding-bottom: 0.4em;background-color: white;}#sk-container-id-1 div.sk-label label {font-family: monospace;font-weight: bold;display: inline-block;line-height: 1.2em;}#sk-container-id-1 div.sk-label-container {text-align: center;}#sk-container-id-1 div.sk-container {/* jupyter's `normalize.less` sets `[hidden] { display: none; }` but bootstrap.min.css set `[hidden] { display: none !important; }` so we also need the `!important` here to be able to override the default hidden behavior on the sphinx rendered scikit-learn.org. See: https://github.com/scikit-learn/scikit-learn/issues/21755 */display: inline-block !important;position: relative;}#sk-container-id-1 div.sk-text-repr-fallback {display: none;}</style><div id=\"sk-container-id-1\" class=\"sk-top-container\"><div class=\"sk-text-repr-fallback\"><pre>XGBClassifier(base_score=None, booster=None, callbacks=None,\n",
       "              colsample_bylevel=None, colsample_bynode=None,\n",
       "              colsample_bytree=None, device=None, early_stopping_rounds=None,\n",
       "              enable_categorical=False, eval_metric=None, feature_types=None,\n",
       "              gamma=None, grow_policy=None, importance_type=None,\n",
       "              interaction_constraints=None, learning_rate=0.1, max_bin=None,\n",
       "              max_cat_threshold=None, max_cat_to_onehot=None,\n",
       "              max_delta_step=None, max_depth=7, max_leaves=None,\n",
       "              min_child_weight=None, missing=nan, monotone_constraints=None,\n",
       "              multi_strategy=None, n_estimators=1000, n_jobs=-1,\n",
       "              num_parallel_tree=None, objective=&#x27;multi:softprob&#x27;, ...)</pre><b>In a Jupyter environment, please rerun this cell to show the HTML representation or trust the notebook. <br />On GitHub, the HTML representation is unable to render, please try loading this page with nbviewer.org.</b></div><div class=\"sk-container\" hidden><div class=\"sk-item\"><div class=\"sk-estimator sk-toggleable\"><input class=\"sk-toggleable__control sk-hidden--visually\" id=\"sk-estimator-id-1\" type=\"checkbox\" checked><label for=\"sk-estimator-id-1\" class=\"sk-toggleable__label sk-toggleable__label-arrow\">XGBClassifier</label><div class=\"sk-toggleable__content\"><pre>XGBClassifier(base_score=None, booster=None, callbacks=None,\n",
       "              colsample_bylevel=None, colsample_bynode=None,\n",
       "              colsample_bytree=None, device=None, early_stopping_rounds=None,\n",
       "              enable_categorical=False, eval_metric=None, feature_types=None,\n",
       "              gamma=None, grow_policy=None, importance_type=None,\n",
       "              interaction_constraints=None, learning_rate=0.1, max_bin=None,\n",
       "              max_cat_threshold=None, max_cat_to_onehot=None,\n",
       "              max_delta_step=None, max_depth=7, max_leaves=None,\n",
       "              min_child_weight=None, missing=nan, monotone_constraints=None,\n",
       "              multi_strategy=None, n_estimators=1000, n_jobs=-1,\n",
       "              num_parallel_tree=None, objective=&#x27;multi:softprob&#x27;, ...)</pre></div></div></div></div></div>"
      ],
      "text/plain": [
       "XGBClassifier(base_score=None, booster=None, callbacks=None,\n",
       "              colsample_bylevel=None, colsample_bynode=None,\n",
       "              colsample_bytree=None, device=None, early_stopping_rounds=None,\n",
       "              enable_categorical=False, eval_metric=None, feature_types=None,\n",
       "              gamma=None, grow_policy=None, importance_type=None,\n",
       "              interaction_constraints=None, learning_rate=0.1, max_bin=None,\n",
       "              max_cat_threshold=None, max_cat_to_onehot=None,\n",
       "              max_delta_step=None, max_depth=7, max_leaves=None,\n",
       "              min_child_weight=None, missing=nan, monotone_constraints=None,\n",
       "              multi_strategy=None, n_estimators=1000, n_jobs=-1,\n",
       "              num_parallel_tree=None, objective='multi:softprob', ...)"
      ]
     },
     "execution_count": 8,
     "metadata": {},
     "output_type": "execute_result"
    }
   ],
   "source": [
    "param_grid = {\n",
    "    'model_xgb__learning_rate': [0.01,0.1],\n",
    "    'model_xgb__n_estimators': [100, 500, 1000],\n",
    "    'model_xgb__max_depth': [3, 5, 7]\n",
    "    }\n",
    "\n",
    "#     ('to_coo', FunctionTransformer(lambda x: x.tocoo()),\n",
    "#     ('to_tensor',FunctionTransformer(lambda x: csr_to_sparse_tensor(x))),\n",
    "xgb_model=XGBClassifier(n_jobs=-1,learning_rate=0.1,n_estimators=1000,max_depth=7)\n",
    "# xgb_model=XGBClassifier(n_jobs=-1)\n",
    "xgb_model.fit(x_train,y_train)\n",
    "# print(tf_idf_pipeline.fit(x_train,y_train))\n",
    "# print(tf_idf_pipeline.predict(x_train))\n",
    "# grid_search = GridSearchCV(tf_idf_pipeline, param_grid, cv=5, n_jobs=-1,verbose=10)\n",
    "# grid_search.fit(x_train, y_train)\n"
   ]
  },
  {
   "cell_type": "code",
   "execution_count": 9,
   "id": "560968af",
   "metadata": {
    "execution": {
     "iopub.execute_input": "2024-04-08T23:06:08.340238Z",
     "iopub.status.busy": "2024-04-08T23:06:08.339581Z",
     "iopub.status.idle": "2024-04-08T23:06:08.344019Z",
     "shell.execute_reply": "2024-04-08T23:06:08.343087Z"
    },
    "papermill": {
     "duration": 0.012971,
     "end_time": "2024-04-08T23:06:08.346189",
     "exception": false,
     "start_time": "2024-04-08T23:06:08.333218",
     "status": "completed"
    },
    "tags": []
   },
   "outputs": [],
   "source": [
    "# optimal_rate = grid_search.best_params_[\"learning_rate\"]\n",
    "# optimal_estimators = grid_search.best_params_[\"n_estimators\"]\n",
    "# optimal_depth=grid_search.best_params_[\"max_depth\"]\n",
    "# optimal_ngram = grid_search.best_params_[\"vectorizer__ngram_range\"]\n",
    "# optimal_stop_words = grid_search.best_params_[\"vectorizer__stop_words\"]\n",
    "# print(\"optimal_rate: \",optimal_rate)\n",
    "# print(\"optimal_estimators: \",optimal_estimators)\n",
    "# print(\"optimal_depth: \",optimal_depth)\n",
    "# print(\"optimal_ngram: \",optimal_ngram)\n",
    "# print(\"optimal_stop_words: \",optimal_stop_words)\n",
    "# # print(grid_search.best_estimator_)\n",
    "# print(\"Best parameters found by GridSearchCV:\")\n",
    "# print(grid_search.best_params_)\n",
    "\n"
   ]
  },
  {
   "cell_type": "code",
   "execution_count": 10,
   "id": "a3305974",
   "metadata": {
    "execution": {
     "iopub.execute_input": "2024-04-08T23:06:08.359116Z",
     "iopub.status.busy": "2024-04-08T23:06:08.358489Z",
     "iopub.status.idle": "2024-04-08T23:06:08.362902Z",
     "shell.execute_reply": "2024-04-08T23:06:08.361876Z"
    },
    "papermill": {
     "duration": 0.013218,
     "end_time": "2024-04-08T23:06:08.364969",
     "exception": false,
     "start_time": "2024-04-08T23:06:08.351751",
     "status": "completed"
    },
    "tags": []
   },
   "outputs": [],
   "source": [
    "\n",
    "# vectorizer = TfidfVectorizer(ngram_range=optimal_ngram,stop_words=optimal_stop_words)\n",
    "# x_train =  vectorizer.fit_transform(x_train)\n",
    "# x_test = vectorizer.transform(x_test)\n",
    "# x_val = vectorizer.transform(x_val)\n",
    "# print(x_train.shape)\n",
    "# print(x_test.shape)\n",
    "\n"
   ]
  },
  {
   "cell_type": "code",
   "execution_count": 11,
   "id": "6767a146",
   "metadata": {
    "execution": {
     "iopub.execute_input": "2024-04-08T23:06:08.377366Z",
     "iopub.status.busy": "2024-04-08T23:06:08.377052Z",
     "iopub.status.idle": "2024-04-08T23:06:09.000134Z",
     "shell.execute_reply": "2024-04-08T23:06:08.999359Z"
    },
    "papermill": {
     "duration": 0.631902,
     "end_time": "2024-04-08T23:06:09.002375",
     "exception": false,
     "start_time": "2024-04-08T23:06:08.370473",
     "status": "completed"
    },
    "tags": []
   },
   "outputs": [
    {
     "name": "stdout",
     "output_type": "stream",
     "text": [
      "Training data metrics : \n",
      "1.0\n",
      "Testing data accuracy\n",
      "0.547\n",
      "Validation data accuracy\n",
      "0.5325\n"
     ]
    }
   ],
   "source": [
    "# xgb_model=XGBClassifier(learning_rate=optimal_rate,n_estimators=optimal_estimators,max_depth=optimal_depth,n_jobs=-1)\n",
    "# xgb_model.fit(X_train, y_train)\n",
    "y_train_pred = xgb_model.predict(x_train)\n",
    "y_test_pred = xgb_model.predict(x_test)\n",
    "y_val_pred = xgb_model.predict(x_val)\n",
    "print(\"Training data metrics : \")\n",
    "print(accuracy_score(y_train_pred,y_train))\n",
    "\n",
    "print(\"Testing data accuracy\")\n",
    "print(accuracy_score(y_test,y_test_pred))\n",
    "\n",
    "print(\"Validation data accuracy\")\n",
    "print(accuracy_score(y_val,y_val_pred))\n",
    "\n"
   ]
  },
  {
   "cell_type": "code",
   "execution_count": 12,
   "id": "2fe58c3c",
   "metadata": {
    "execution": {
     "iopub.execute_input": "2024-04-08T23:06:09.017360Z",
     "iopub.status.busy": "2024-04-08T23:06:09.016725Z",
     "iopub.status.idle": "2024-04-08T23:06:09.058984Z",
     "shell.execute_reply": "2024-04-08T23:06:09.057931Z"
    },
    "papermill": {
     "duration": 0.053019,
     "end_time": "2024-04-08T23:06:09.061043",
     "exception": false,
     "start_time": "2024-04-08T23:06:09.008024",
     "status": "completed"
    },
    "tags": []
   },
   "outputs": [
    {
     "name": "stdout",
     "output_type": "stream",
     "text": [
      "Training data metrics:\n",
      "1.0\n",
      "1.0\n",
      "              precision    recall  f1-score   support\n",
      "\n",
      "           0       1.00      1.00      1.00       559\n",
      "           1       1.00      1.00      1.00      1274\n",
      "           2       1.00      1.00      1.00      1367\n",
      "\n",
      "    accuracy                           1.00      3200\n",
      "   macro avg       1.00      1.00      1.00      3200\n",
      "weighted avg       1.00      1.00      1.00      3200\n",
      "\n",
      "Testing data metrics:\n",
      "0.56007526492108\n",
      "0.5551968279038493\n",
      "              precision    recall  f1-score   support\n",
      "\n",
      "           0       0.29      0.60      0.39        84\n",
      "           1       0.60      0.53      0.56       454\n",
      "           2       0.60      0.55      0.58       462\n",
      "\n",
      "    accuracy                           0.55      1000\n",
      "   macro avg       0.50      0.56      0.51      1000\n",
      "weighted avg       0.58      0.55      0.56      1000\n",
      "\n",
      "Validation data metrics:\n",
      "0.523480550641534\n",
      "0.5425220888735143\n",
      "              precision    recall  f1-score   support\n",
      "\n",
      "           0       0.26      0.50      0.34        74\n",
      "           1       0.55      0.53      0.54       338\n",
      "           2       0.63      0.54      0.58       388\n",
      "\n",
      "    accuracy                           0.53       800\n",
      "   macro avg       0.48      0.52      0.49       800\n",
      "weighted avg       0.56      0.53      0.54       800\n",
      "\n"
     ]
    }
   ],
   "source": [
    "print(\"Training data metrics:\")\n",
    "print(balanced_accuracy_score(y_train_pred, y_train))\n",
    "print(f1_score(y_train_pred, y_train, average='weighted'))\n",
    "print(classification_report(y_train_pred, y_train))\n",
    "\n",
    "print(\"Testing data metrics:\")\n",
    "print(balanced_accuracy_score(y_test_pred, y_test))\n",
    "print(f1_score(y_test_pred, y_test, average='weighted'))\n",
    "print(classification_report(y_test_pred, y_test))\n",
    "\n",
    "print(\"Validation data metrics:\")\n",
    "print(balanced_accuracy_score(y_val_pred, y_val))\n",
    "print(f1_score(y_val_pred, y_val, average='weighted'))\n",
    "print(classification_report(y_val_pred, y_val))"
   ]
  },
  {
   "cell_type": "code",
   "execution_count": 13,
   "id": "b0b097f6",
   "metadata": {
    "execution": {
     "iopub.execute_input": "2024-04-08T23:06:09.073890Z",
     "iopub.status.busy": "2024-04-08T23:06:09.073327Z",
     "iopub.status.idle": "2024-04-08T23:06:09.135870Z",
     "shell.execute_reply": "2024-04-08T23:06:09.134760Z"
    },
    "papermill": {
     "duration": 0.071541,
     "end_time": "2024-04-08T23:06:09.138219",
     "exception": false,
     "start_time": "2024-04-08T23:06:09.066678",
     "status": "completed"
    },
    "tags": []
   },
   "outputs": [],
   "source": [
    "pickle.dump((xgb_model,label_encoder,vectorizer),open('model_xgb.pkl','wb'))"
   ]
  },
  {
   "cell_type": "code",
   "execution_count": 14,
   "id": "a6a621ea",
   "metadata": {
    "execution": {
     "iopub.execute_input": "2024-04-08T23:06:09.151332Z",
     "iopub.status.busy": "2024-04-08T23:06:09.150971Z",
     "iopub.status.idle": "2024-04-08T23:06:09.236318Z",
     "shell.execute_reply": "2024-04-08T23:06:09.235440Z"
    },
    "papermill": {
     "duration": 0.094397,
     "end_time": "2024-04-08T23:06:09.238568",
     "exception": false,
     "start_time": "2024-04-08T23:06:09.144171",
     "status": "completed"
    },
    "tags": []
   },
   "outputs": [],
   "source": [
    "model2,encoder,vectorizer = pickle.load(open(\"model_xgb.pkl\",\"rb\"))"
   ]
  },
  {
   "cell_type": "code",
   "execution_count": 15,
   "id": "be0663ba",
   "metadata": {
    "execution": {
     "iopub.execute_input": "2024-04-08T23:06:09.251558Z",
     "iopub.status.busy": "2024-04-08T23:06:09.251185Z",
     "iopub.status.idle": "2024-04-08T23:06:09.886719Z",
     "shell.execute_reply": "2024-04-08T23:06:09.885937Z"
    },
    "papermill": {
     "duration": 0.644655,
     "end_time": "2024-04-08T23:06:09.889116",
     "exception": false,
     "start_time": "2024-04-08T23:06:09.244461",
     "status": "completed"
    },
    "tags": []
   },
   "outputs": [
    {
     "name": "stdout",
     "output_type": "stream",
     "text": [
      "Training data metrics : \n",
      "1.0\n",
      "Testing data accuracy\n",
      "0.547\n",
      "Testing data accuracy\n",
      "0.5325\n"
     ]
    }
   ],
   "source": [
    "y_train_pred = model2.predict(x_train)\n",
    "y_test_pred = model2.predict(x_test)\n",
    "y_val_pred = model2.predict(x_val)\n",
    "print(\"Training data metrics : \")\n",
    "print(accuracy_score(y_train_pred,y_train))\n",
    "\n",
    "print(\"Testing data accuracy\")\n",
    "print(accuracy_score(y_test,y_test_pred))\n",
    "\n",
    "print(\"Testing data accuracy\")\n",
    "print(accuracy_score(y_val,y_val_pred))"
   ]
  },
  {
   "cell_type": "code",
   "execution_count": 16,
   "id": "d55007ba",
   "metadata": {
    "execution": {
     "iopub.execute_input": "2024-04-08T23:06:09.902782Z",
     "iopub.status.busy": "2024-04-08T23:06:09.902201Z",
     "iopub.status.idle": "2024-04-08T23:06:09.943770Z",
     "shell.execute_reply": "2024-04-08T23:06:09.942684Z"
    },
    "papermill": {
     "duration": 0.050563,
     "end_time": "2024-04-08T23:06:09.945939",
     "exception": false,
     "start_time": "2024-04-08T23:06:09.895376",
     "status": "completed"
    },
    "tags": []
   },
   "outputs": [
    {
     "name": "stdout",
     "output_type": "stream",
     "text": [
      "Training data metrics:\n",
      "1.0\n",
      "1.0\n",
      "              precision    recall  f1-score   support\n",
      "\n",
      "           0       1.00      1.00      1.00       559\n",
      "           1       1.00      1.00      1.00      1274\n",
      "           2       1.00      1.00      1.00      1367\n",
      "\n",
      "    accuracy                           1.00      3200\n",
      "   macro avg       1.00      1.00      1.00      3200\n",
      "weighted avg       1.00      1.00      1.00      3200\n",
      "\n",
      "Testing data metrics:\n",
      "0.56007526492108\n",
      "0.5551968279038493\n",
      "              precision    recall  f1-score   support\n",
      "\n",
      "           0       0.29      0.60      0.39        84\n",
      "           1       0.60      0.53      0.56       454\n",
      "           2       0.60      0.55      0.58       462\n",
      "\n",
      "    accuracy                           0.55      1000\n",
      "   macro avg       0.50      0.56      0.51      1000\n",
      "weighted avg       0.58      0.55      0.56      1000\n",
      "\n",
      "Validation data metrics:\n",
      "0.523480550641534\n",
      "0.5425220888735143\n",
      "              precision    recall  f1-score   support\n",
      "\n",
      "           0       0.26      0.50      0.34        74\n",
      "           1       0.55      0.53      0.54       338\n",
      "           2       0.63      0.54      0.58       388\n",
      "\n",
      "    accuracy                           0.53       800\n",
      "   macro avg       0.48      0.52      0.49       800\n",
      "weighted avg       0.56      0.53      0.54       800\n",
      "\n"
     ]
    }
   ],
   "source": [
    "print(\"Training data metrics:\")\n",
    "print(balanced_accuracy_score(y_train_pred, y_train))\n",
    "print(f1_score(y_train_pred, y_train, average='weighted'))\n",
    "print(classification_report(y_train_pred, y_train))\n",
    "\n",
    "print(\"Testing data metrics:\")\n",
    "print(balanced_accuracy_score(y_test_pred, y_test))\n",
    "print(f1_score(y_test_pred, y_test, average='weighted'))\n",
    "print(classification_report(y_test_pred, y_test))\n",
    "\n",
    "print(\"Validation data metrics:\")\n",
    "print(balanced_accuracy_score(y_val_pred, y_val))\n",
    "print(f1_score(y_val_pred, y_val, average='weighted'))\n",
    "print(classification_report(y_val_pred, y_val))"
   ]
  }
 ],
 "metadata": {
  "kaggle": {
   "accelerator": "none",
   "dataSources": [
    {
     "datasetId": 4749278,
     "sourceId": 8052995,
     "sourceType": "datasetVersion"
    }
   ],
   "dockerImageVersionId": 30673,
   "isGpuEnabled": false,
   "isInternetEnabled": true,
   "language": "python",
   "sourceType": "notebook"
  },
  "kernelspec": {
   "display_name": "Python 3",
   "language": "python",
   "name": "python3"
  },
  "language_info": {
   "codemirror_mode": {
    "name": "ipython",
    "version": 3
   },
   "file_extension": ".py",
   "mimetype": "text/x-python",
   "name": "python",
   "nbconvert_exporter": "python",
   "pygments_lexer": "ipython3",
   "version": "3.10.13"
  },
  "papermill": {
   "default_parameters": {},
   "duration": 704.185678,
   "end_time": "2024-04-08T23:06:10.572654",
   "environment_variables": {},
   "exception": null,
   "input_path": "__notebook__.ipynb",
   "output_path": "__notebook__.ipynb",
   "parameters": {},
   "start_time": "2024-04-08T22:54:26.386976",
   "version": "2.5.0"
  }
 },
 "nbformat": 4,
 "nbformat_minor": 5
}
