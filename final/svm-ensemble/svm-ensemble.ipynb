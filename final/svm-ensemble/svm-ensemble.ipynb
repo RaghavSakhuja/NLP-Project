{
 "cells": [
  {
   "cell_type": "code",
   "execution_count": 1,
   "id": "2e7e71dd",
   "metadata": {
    "_cell_guid": "b1076dfc-b9ad-4769-8c92-a6c4dae69d19",
    "_uuid": "8f2839f25d086af736a60e9eeb907d3b93b6e0e5",
    "execution": {
     "iopub.execute_input": "2024-04-25T12:46:06.901409Z",
     "iopub.status.busy": "2024-04-25T12:46:06.900876Z",
     "iopub.status.idle": "2024-04-25T12:46:07.874949Z",
     "shell.execute_reply": "2024-04-25T12:46:07.873731Z"
    },
    "papermill": {
     "duration": 0.984974,
     "end_time": "2024-04-25T12:46:07.877674",
     "exception": false,
     "start_time": "2024-04-25T12:46:06.892700",
     "status": "completed"
    },
    "tags": []
   },
   "outputs": [
    {
     "name": "stdout",
     "output_type": "stream",
     "text": [
      "/kaggle/input/webis-clickbait-22/test.jsonl\n",
      "/kaggle/input/webis-clickbait-22/validation.jsonl\n",
      "/kaggle/input/webis-clickbait-22/train.jsonl\n",
      "/kaggle/input/logits-roberta-deberta-final/roberta_val_without_para.npy\n",
      "/kaggle/input/logits-roberta-deberta-final/deberta_train_without_para.npy\n",
      "/kaggle/input/logits-roberta-deberta-final/roberta_test_without_para.npy\n",
      "/kaggle/input/logits-roberta-deberta-final/deberta_test_with_para.npy\n",
      "/kaggle/input/logits-roberta-deberta-final/roberta_train_with_para.npy\n",
      "/kaggle/input/logits-roberta-deberta-final/deberta_test_without_para.npy\n",
      "/kaggle/input/logits-roberta-deberta-final/deberta_val_without_para.npy\n",
      "/kaggle/input/logits-roberta-deberta-final/roberta_val_with_para.npy\n",
      "/kaggle/input/logits-roberta-deberta-final/roberta_train_without_para.npy\n",
      "/kaggle/input/logits-roberta-deberta-final/roberta_test_with_para.npy\n",
      "/kaggle/input/logits-roberta-deberta-final/deberta_train_with_para.npy\n",
      "/kaggle/input/logits-roberta-deberta-final/deberta_val_with_para.npy\n",
      "/kaggle/input/logits-roberta-deberta-final/wandb/run-20240425_083609-kegt07fm/run-kegt07fm.wandb\n",
      "/kaggle/input/logits-roberta-deberta-final/wandb/run-20240425_083609-kegt07fm/logs/debug.log\n",
      "/kaggle/input/logits-roberta-deberta-final/wandb/run-20240425_083609-kegt07fm/logs/debug-internal.log\n",
      "/kaggle/input/logits-roberta-deberta-final/wandb/run-20240425_083609-kegt07fm/files/conda-environment.yaml\n",
      "/kaggle/input/logits-roberta-deberta-final/wandb/run-20240425_083609-kegt07fm/files/config.yaml\n",
      "/kaggle/input/logits-roberta-deberta-final/wandb/run-20240425_083609-kegt07fm/files/output.log\n",
      "/kaggle/input/logits-roberta-deberta-final/wandb/run-20240425_083609-kegt07fm/files/requirements.txt\n",
      "/kaggle/input/logits-roberta-deberta-final/wandb/run-20240425_083609-kegt07fm/files/wandb-metadata.json\n"
     ]
    }
   ],
   "source": [
    "# This Python 3 environment comes with many helpful analytics libraries installed\n",
    "# It is defined by the kaggle/python Docker image: https://github.com/kaggle/docker-python\n",
    "# For example, here's several helpful packages to load\n",
    "\n",
    "import numpy as np # linear algebra\n",
    "import pandas as pd # data processing, CSV file I/O (e.g. pd.read_csv)\n",
    "\n",
    "# Input data files are available in the read-only \"../input/\" directory\n",
    "# For example, running this (by clicking run or pressing Shift+Enter) will list all files under the input directory\n",
    "\n",
    "import os\n",
    "for dirname, _, filenames in os.walk('/kaggle/input'):\n",
    "    for filename in filenames:\n",
    "        print(os.path.join(dirname, filename))\n",
    "\n",
    "# You can write up to 20GB to the current directory (/kaggle/working/) that gets preserved as output when you create a version using \"Save & Run All\" \n",
    "# You can also write temporary files to /kaggle/temp/, but they won't be saved outside of the current session"
   ]
  },
  {
   "cell_type": "code",
   "execution_count": 2,
   "id": "f5809139",
   "metadata": {
    "execution": {
     "iopub.execute_input": "2024-04-25T12:46:07.891852Z",
     "iopub.status.busy": "2024-04-25T12:46:07.890982Z",
     "iopub.status.idle": "2024-04-25T12:46:23.413542Z",
     "shell.execute_reply": "2024-04-25T12:46:23.411735Z"
    },
    "papermill": {
     "duration": 15.532543,
     "end_time": "2024-04-25T12:46:23.416276",
     "exception": false,
     "start_time": "2024-04-25T12:46:07.883733",
     "status": "completed"
    },
    "tags": []
   },
   "outputs": [
    {
     "name": "stdout",
     "output_type": "stream",
     "text": [
      "\u001b[31mERROR: Could not find a version that satisfies the requirement accelarate (from versions: none)\u001b[0m\u001b[31m\r\n",
      "\u001b[0m\u001b[31mERROR: No matching distribution found for accelarate\u001b[0m\u001b[31m\r\n",
      "\u001b[0mRequirement already satisfied: datasets in /opt/conda/lib/python3.10/site-packages (2.18.0)\r\n",
      "Requirement already satisfied: filelock in /opt/conda/lib/python3.10/site-packages (from datasets) (3.13.1)\r\n",
      "Requirement already satisfied: numpy>=1.17 in /opt/conda/lib/python3.10/site-packages (from datasets) (1.26.4)\r\n",
      "Requirement already satisfied: pyarrow>=12.0.0 in /opt/conda/lib/python3.10/site-packages (from datasets) (15.0.2)\r\n",
      "Requirement already satisfied: pyarrow-hotfix in /opt/conda/lib/python3.10/site-packages (from datasets) (0.6)\r\n",
      "Requirement already satisfied: dill<0.3.9,>=0.3.0 in /opt/conda/lib/python3.10/site-packages (from datasets) (0.3.8)\r\n",
      "Requirement already satisfied: pandas in /opt/conda/lib/python3.10/site-packages (from datasets) (2.2.2)\r\n",
      "Requirement already satisfied: requests>=2.19.0 in /opt/conda/lib/python3.10/site-packages (from datasets) (2.31.0)\r\n",
      "Requirement already satisfied: tqdm>=4.62.1 in /opt/conda/lib/python3.10/site-packages (from datasets) (4.66.1)\r\n",
      "Requirement already satisfied: xxhash in /opt/conda/lib/python3.10/site-packages (from datasets) (3.4.1)\r\n",
      "Requirement already satisfied: multiprocess in /opt/conda/lib/python3.10/site-packages (from datasets) (0.70.16)\r\n",
      "Requirement already satisfied: fsspec<=2024.2.0,>=2023.1.0 in /opt/conda/lib/python3.10/site-packages (from fsspec[http]<=2024.2.0,>=2023.1.0->datasets) (2024.2.0)\r\n",
      "Requirement already satisfied: aiohttp in /opt/conda/lib/python3.10/site-packages (from datasets) (3.9.1)\r\n",
      "Requirement already satisfied: huggingface-hub>=0.19.4 in /opt/conda/lib/python3.10/site-packages (from datasets) (0.22.2)\r\n",
      "Requirement already satisfied: packaging in /opt/conda/lib/python3.10/site-packages (from datasets) (21.3)\r\n",
      "Requirement already satisfied: pyyaml>=5.1 in /opt/conda/lib/python3.10/site-packages (from datasets) (6.0.1)\r\n",
      "Requirement already satisfied: attrs>=17.3.0 in /opt/conda/lib/python3.10/site-packages (from aiohttp->datasets) (23.2.0)\r\n",
      "Requirement already satisfied: multidict<7.0,>=4.5 in /opt/conda/lib/python3.10/site-packages (from aiohttp->datasets) (6.0.4)\r\n",
      "Requirement already satisfied: yarl<2.0,>=1.0 in /opt/conda/lib/python3.10/site-packages (from aiohttp->datasets) (1.9.3)\r\n",
      "Requirement already satisfied: frozenlist>=1.1.1 in /opt/conda/lib/python3.10/site-packages (from aiohttp->datasets) (1.4.1)\r\n",
      "Requirement already satisfied: aiosignal>=1.1.2 in /opt/conda/lib/python3.10/site-packages (from aiohttp->datasets) (1.3.1)\r\n",
      "Requirement already satisfied: async-timeout<5.0,>=4.0 in /opt/conda/lib/python3.10/site-packages (from aiohttp->datasets) (4.0.3)\r\n",
      "Requirement already satisfied: typing-extensions>=3.7.4.3 in /opt/conda/lib/python3.10/site-packages (from huggingface-hub>=0.19.4->datasets) (4.9.0)\r\n",
      "Requirement already satisfied: pyparsing!=3.0.5,>=2.0.2 in /opt/conda/lib/python3.10/site-packages (from packaging->datasets) (3.1.1)\r\n",
      "Requirement already satisfied: charset-normalizer<4,>=2 in /opt/conda/lib/python3.10/site-packages (from requests>=2.19.0->datasets) (3.3.2)\r\n",
      "Requirement already satisfied: idna<4,>=2.5 in /opt/conda/lib/python3.10/site-packages (from requests>=2.19.0->datasets) (3.6)\r\n",
      "Requirement already satisfied: urllib3<3,>=1.21.1 in /opt/conda/lib/python3.10/site-packages (from requests>=2.19.0->datasets) (1.26.18)\r\n",
      "Requirement already satisfied: certifi>=2017.4.17 in /opt/conda/lib/python3.10/site-packages (from requests>=2.19.0->datasets) (2024.2.2)\r\n",
      "Requirement already satisfied: python-dateutil>=2.8.2 in /opt/conda/lib/python3.10/site-packages (from pandas->datasets) (2.9.0.post0)\r\n",
      "Requirement already satisfied: pytz>=2020.1 in /opt/conda/lib/python3.10/site-packages (from pandas->datasets) (2023.3.post1)\r\n",
      "Requirement already satisfied: tzdata>=2022.7 in /opt/conda/lib/python3.10/site-packages (from pandas->datasets) (2023.4)\r\n",
      "Requirement already satisfied: six>=1.5 in /opt/conda/lib/python3.10/site-packages (from python-dateutil>=2.8.2->pandas->datasets) (1.16.0)\r\n"
     ]
    }
   ],
   "source": [
    "! pip install accelarate -U\n",
    "! pip install datasets"
   ]
  },
  {
   "cell_type": "code",
   "execution_count": 3,
   "id": "3c22a6c4",
   "metadata": {
    "execution": {
     "iopub.execute_input": "2024-04-25T12:46:23.431759Z",
     "iopub.status.busy": "2024-04-25T12:46:23.431196Z",
     "iopub.status.idle": "2024-04-25T12:46:42.264330Z",
     "shell.execute_reply": "2024-04-25T12:46:42.263025Z"
    },
    "papermill": {
     "duration": 18.84397,
     "end_time": "2024-04-25T12:46:42.266668",
     "exception": false,
     "start_time": "2024-04-25T12:46:23.422698",
     "status": "completed"
    },
    "tags": []
   },
   "outputs": [
    {
     "name": "stderr",
     "output_type": "stream",
     "text": [
      "\u001b[34m\u001b[1mwandb\u001b[0m: W&B API key is configured. Use \u001b[1m`wandb login --relogin`\u001b[0m to force relogin\n",
      "\u001b[34m\u001b[1mwandb\u001b[0m: \u001b[33mWARNING\u001b[0m If you're specifying your api key in code, ensure this code is not shared publicly.\n",
      "\u001b[34m\u001b[1mwandb\u001b[0m: \u001b[33mWARNING\u001b[0m Consider setting the WANDB_API_KEY environment variable, or running `wandb login` from the command line.\n",
      "\u001b[34m\u001b[1mwandb\u001b[0m: Appending key for api.wandb.ai to your netrc file: /root/.netrc\n",
      "\u001b[34m\u001b[1mwandb\u001b[0m: Currently logged in as: \u001b[33mraghav21274\u001b[0m (\u001b[33mragha\u001b[0m). Use \u001b[1m`wandb login --relogin`\u001b[0m to force relogin\n",
      "\u001b[34m\u001b[1mwandb\u001b[0m: Tracking run with wandb version 0.16.6\n",
      "\u001b[34m\u001b[1mwandb\u001b[0m: Run data is saved locally in \u001b[35m\u001b[1m/kaggle/working/wandb/run-20240425_124625-t336we2q\u001b[0m\n",
      "\u001b[34m\u001b[1mwandb\u001b[0m: Run \u001b[1m`wandb offline`\u001b[0m to turn off syncing.\n",
      "\u001b[34m\u001b[1mwandb\u001b[0m: Syncing run \u001b[33munique-terrain-116\u001b[0m\n",
      "\u001b[34m\u001b[1mwandb\u001b[0m: ⭐️ View project at \u001b[34m\u001b[4mhttps://wandb.ai/ragha/uncategorized\u001b[0m\n",
      "\u001b[34m\u001b[1mwandb\u001b[0m: 🚀 View run at \u001b[34m\u001b[4mhttps://wandb.ai/ragha/uncategorized/runs/t336we2q\u001b[0m\n"
     ]
    },
    {
     "data": {
      "text/html": [
       "<button onClick=\"this.nextSibling.style.display='block';this.style.display='none';\">Display W&B run</button><iframe src='https://wandb.ai/ragha/uncategorized/runs/t336we2q?jupyter=true' style='border:none;width:100%;height:420px;display:none;'></iframe>"
      ],
      "text/plain": [
       "<wandb.sdk.wandb_run.Run at 0x7d901d48efb0>"
      ]
     },
     "execution_count": 3,
     "metadata": {},
     "output_type": "execute_result"
    }
   ],
   "source": [
    "import wandb\n",
    "api_key = \"9963cf6219e451d47251ea34645181ada1b2526b\"\n",
    "wandb.login(key=api_key)\n",
    "wandb.init()"
   ]
  },
  {
   "cell_type": "code",
   "execution_count": 4,
   "id": "cd0a475d",
   "metadata": {
    "execution": {
     "iopub.execute_input": "2024-04-25T12:46:42.283087Z",
     "iopub.status.busy": "2024-04-25T12:46:42.282713Z",
     "iopub.status.idle": "2024-04-25T12:47:04.575637Z",
     "shell.execute_reply": "2024-04-25T12:47:04.574554Z"
    },
    "papermill": {
     "duration": 22.304038,
     "end_time": "2024-04-25T12:47:04.577967",
     "exception": false,
     "start_time": "2024-04-25T12:46:42.273929",
     "status": "completed"
    },
    "tags": []
   },
   "outputs": [
    {
     "name": "stderr",
     "output_type": "stream",
     "text": [
      "Intel(R) Extension for Scikit-learn* enabled (https://github.com/intel/scikit-learn-intelex)\n",
      "2024-04-25 12:46:54.789543: E external/local_xla/xla/stream_executor/cuda/cuda_dnn.cc:9261] Unable to register cuDNN factory: Attempting to register factory for plugin cuDNN when one has already been registered\n",
      "2024-04-25 12:46:54.789673: E external/local_xla/xla/stream_executor/cuda/cuda_fft.cc:607] Unable to register cuFFT factory: Attempting to register factory for plugin cuFFT when one has already been registered\n",
      "2024-04-25 12:46:54.955295: E external/local_xla/xla/stream_executor/cuda/cuda_blas.cc:1515] Unable to register cuBLAS factory: Attempting to register factory for plugin cuBLAS when one has already been registered\n"
     ]
    },
    {
     "name": "stdout",
     "output_type": "stream",
     "text": [
      "Using CPU\n"
     ]
    }
   ],
   "source": [
    "from sklearnex import patch_sklearn\n",
    "patch_sklearn()\n",
    "\n",
    "import torch\n",
    "from datasets import load_dataset\n",
    "from transformers import (\n",
    "    RobertaTokenizerFast,\n",
    "    RobertaForSequenceClassification,\n",
    "    TrainingArguments,\n",
    "    Trainer,\n",
    "    DebertaTokenizer,\n",
    "    DebertaForSequenceClassification,\n",
    "    AutoConfig,\n",
    ")\n",
    "\n",
    "import matplotlib.pyplot as plt\n",
    "\n",
    "import csv\n",
    "from torch.utils.data import DataLoader, Dataset\n",
    "import json\n",
    "import pandas as pd\n",
    "from sklearn.model_selection import GridSearchCV\n",
    "from sklearn.feature_extraction.text import TfidfVectorizer\n",
    "from sklearn.preprocessing import LabelEncoder\n",
    "from sklearn.model_selection import train_test_split\n",
    "from sklearn.metrics import accuracy_score\n",
    "from sklearn.model_selection import GridSearchCV\n",
    "from sklearn.pipeline import Pipeline\n",
    "from sklearn.svm import SVC\n",
    "from sklearn.linear_model import LogisticRegression\n",
    "import pickle\n",
    "import numpy as np\n",
    "from sklearn.metrics import balanced_accuracy_score\n",
    "from sklearn.metrics import f1_score\n",
    "from sklearn.metrics import classification_report\n",
    "from sklearn.preprocessing import StandardScaler\n",
    "device=\"\"\n",
    "if torch.cuda.is_available():\n",
    "    device = torch.device(\"cuda\")\n",
    "    print(f'Using GPU: {torch.cuda.get_device_name()}')\n",
    "else:\n",
    "    device = torch.device(\"cpu\")\n",
    "    print('Using CPU')\n",
    "\n",
    "PATH=\"/kaggle/input/webis-clickbait-22/\"\n",
    "PATH_LOGITS=\"/kaggle/input/logits-roberta-deberta-final/\"\n",
    "OUTPATH=\"/kaggle/working/\"\n",
    "\n",
    "BATCH=8\n",
    "sep='[SEP]'\n",
    "\n",
    "roberta = \"roberta-base\"\n",
    "deberta = \"microsoft/deberta-base\""
   ]
  },
  {
   "cell_type": "code",
   "execution_count": 5,
   "id": "1e548f64",
   "metadata": {
    "execution": {
     "iopub.execute_input": "2024-04-25T12:47:04.595466Z",
     "iopub.status.busy": "2024-04-25T12:47:04.594336Z",
     "iopub.status.idle": "2024-04-25T12:47:04.601898Z",
     "shell.execute_reply": "2024-04-25T12:47:04.601142Z"
    },
    "papermill": {
     "duration": 0.018668,
     "end_time": "2024-04-25T12:47:04.604000",
     "exception": false,
     "start_time": "2024-04-25T12:47:04.585332",
     "status": "completed"
    },
    "tags": []
   },
   "outputs": [],
   "source": [
    "import torch\n",
    "from torch.utils.data import Dataset, DataLoader\n",
    "from transformers import RobertaTokenizer\n",
    "\n",
    "class Dataset(torch.utils.data.Dataset):\n",
    "    def __init__(self,encodings,labels=None):\n",
    "        self.labels = labels\n",
    "        self.encodings = encodings\n",
    "    \n",
    "    def __getitem__(self,idx):\n",
    "        item = {key:torch.tensor(val[idx]) for key,val in self.encodings.items()}\n",
    "        if self.labels is not None:\n",
    "            item[\"label\"]  = torch.tensor(self.labels[idx])\n",
    "        return item\n",
    "\n",
    "    def __len__(self):\n",
    "        return len(self.encodings[\"input_ids\"])"
   ]
  },
  {
   "cell_type": "code",
   "execution_count": 6,
   "id": "7fba19e3",
   "metadata": {
    "execution": {
     "iopub.execute_input": "2024-04-25T12:47:04.620803Z",
     "iopub.status.busy": "2024-04-25T12:47:04.619987Z",
     "iopub.status.idle": "2024-04-25T12:47:05.937924Z",
     "shell.execute_reply": "2024-04-25T12:47:05.936806Z"
    },
    "papermill": {
     "duration": 1.329103,
     "end_time": "2024-04-25T12:47:05.940596",
     "exception": false,
     "start_time": "2024-04-25T12:47:04.611493",
     "status": "completed"
    },
    "tags": []
   },
   "outputs": [],
   "source": [
    "data_train=pd.read_json(\"/kaggle/input/webis-clickbait-22/train.jsonl\",lines=True,encoding='utf-8')\n",
    "data_test=pd.read_json(\"/kaggle/input/webis-clickbait-22/test.jsonl\",lines=True,encoding='utf-8')\n",
    "data_val=pd.read_json(\"/kaggle/input/webis-clickbait-22/validation.jsonl\",lines=True,encoding='utf-8')\n"
   ]
  },
  {
   "cell_type": "code",
   "execution_count": 7,
   "id": "a7493ba3",
   "metadata": {
    "execution": {
     "iopub.execute_input": "2024-04-25T12:47:05.966162Z",
     "iopub.status.busy": "2024-04-25T12:47:05.965777Z",
     "iopub.status.idle": "2024-04-25T12:47:05.971324Z",
     "shell.execute_reply": "2024-04-25T12:47:05.969870Z"
    },
    "papermill": {
     "duration": 0.017495,
     "end_time": "2024-04-25T12:47:05.973519",
     "exception": false,
     "start_time": "2024-04-25T12:47:05.956024",
     "status": "completed"
    },
    "tags": []
   },
   "outputs": [],
   "source": [
    "label={\n",
    "    'multi':0,\n",
    "    'passage':1,\n",
    "    'phrase':2\n",
    "}"
   ]
  },
  {
   "cell_type": "code",
   "execution_count": 8,
   "id": "f8ab735d",
   "metadata": {
    "execution": {
     "iopub.execute_input": "2024-04-25T12:47:05.990963Z",
     "iopub.status.busy": "2024-04-25T12:47:05.990598Z",
     "iopub.status.idle": "2024-04-25T12:47:06.001923Z",
     "shell.execute_reply": "2024-04-25T12:47:06.000836Z"
    },
    "papermill": {
     "duration": 0.023287,
     "end_time": "2024-04-25T12:47:06.004212",
     "exception": false,
     "start_time": "2024-04-25T12:47:05.980925",
     "status": "completed"
    },
    "tags": []
   },
   "outputs": [],
   "source": [
    "\n",
    "def get_split_data(data,if_train,option):\n",
    "    global label_encoder\n",
    "#     data=pd.read_json(file_path,lines=True,encoding='utf-8')\n",
    "\n",
    "    y = data[\"tags\"]\n",
    "    Y = [i[0] for i in y]\n",
    "    print(\"len of Y: \",len(Y))\n",
    "    if if_train:\n",
    "        Y=[label[i] for i in Y]\n",
    "    else:\n",
    "        Y =[label[i] for i in Y]\n",
    "\n",
    "    new_data=data[['postText','targetParagraphs','targetTitle','targetDescription','targetKeywords']]\n",
    "    dic=new_data.to_dict(orient='records')\n",
    "\n",
    "    desccount=0\n",
    "    keycount=0\n",
    "    for i in dic:\n",
    "        # print(i)\n",
    "        i['postText']='postText: '+i['postText'][0]\n",
    "        targetparah=\" \".join(i['targetParagraphs'])\n",
    "        i['targetParagraphs']='targetParagraphs: '+targetparah\n",
    "        i['targetTitle']='targetTitle: '+i['targetTitle']\n",
    "        targetDescription=i['targetDescription']\n",
    "        if(targetDescription is None or len(targetDescription)==0):\n",
    "            targetDescription='none'\n",
    "            desccount+=1\n",
    "        i['targetDescription']='targetDescription: '+targetDescription\n",
    "        targetkey=i['targetKeywords']\n",
    "        if(targetkey is None or len(targetkey)==0):\n",
    "            targetkey='none'\n",
    "            keycount+=1\n",
    "        i['targetKeywords']='targetKeywords: '+targetkey\n",
    "        if option==1:\n",
    "            i['text']=i['postText']+\" \"+i['targetTitle']+\" \"+i['targetKeywords']+\" \"+sep+i['targetDescription']\n",
    "        else:\n",
    "            i['text']=i['targetParagraphs']+sep+i['postText']\n",
    "        del i['postText']\n",
    "        del i['targetParagraphs']\n",
    "        del i['targetTitle']\n",
    "        del i['targetDescription']\n",
    "        del i['targetKeywords']\n",
    "\n",
    "    print(\"desccount: \",desccount)\n",
    "    print(\"keycount: \",keycount)\n",
    "    X = [i['text'] for i in dic]\n",
    "    X=np.array(X)\n",
    "#     return X[0:100],Y[0:100]\n",
    "    return X,Y"
   ]
  },
  {
   "cell_type": "code",
   "execution_count": 9,
   "id": "3afade79",
   "metadata": {
    "execution": {
     "iopub.execute_input": "2024-04-25T12:47:06.020513Z",
     "iopub.status.busy": "2024-04-25T12:47:06.020084Z",
     "iopub.status.idle": "2024-04-25T12:47:06.294720Z",
     "shell.execute_reply": "2024-04-25T12:47:06.293292Z"
    },
    "papermill": {
     "duration": 0.285179,
     "end_time": "2024-04-25T12:47:06.296961",
     "exception": false,
     "start_time": "2024-04-25T12:47:06.011782",
     "status": "completed"
    },
    "tags": []
   },
   "outputs": [
    {
     "name": "stdout",
     "output_type": "stream",
     "text": [
      "len of Y:  3200\n",
      "desccount:  332\n",
      "keycount:  1314\n",
      "len of Y:  1000\n",
      "desccount:  104\n",
      "keycount:  414\n",
      "len of Y:  800\n",
      "desccount:  78\n",
      "keycount:  330\n"
     ]
    }
   ],
   "source": [
    "x_train_without_para,y_train = get_split_data(data_train,True,1)\n",
    "x_test_without_para,y_test = get_split_data(data_test,False,1)\n",
    "x_val_without_para,y_val= get_split_data(data_val,False,1)"
   ]
  },
  {
   "cell_type": "code",
   "execution_count": 10,
   "id": "1a0f22e7",
   "metadata": {
    "execution": {
     "iopub.execute_input": "2024-04-25T12:47:06.314353Z",
     "iopub.status.busy": "2024-04-25T12:47:06.313591Z",
     "iopub.status.idle": "2024-04-25T12:47:07.831214Z",
     "shell.execute_reply": "2024-04-25T12:47:07.829938Z"
    },
    "papermill": {
     "duration": 1.529265,
     "end_time": "2024-04-25T12:47:07.833980",
     "exception": false,
     "start_time": "2024-04-25T12:47:06.304715",
     "status": "completed"
    },
    "tags": []
   },
   "outputs": [
    {
     "name": "stdout",
     "output_type": "stream",
     "text": [
      "len of Y:  3200\n",
      "desccount:  332\n",
      "keycount:  1314\n",
      "len of Y:  1000\n",
      "desccount:  104\n",
      "keycount:  414\n",
      "len of Y:  800\n",
      "desccount:  78\n",
      "keycount:  330\n"
     ]
    }
   ],
   "source": [
    "x_train_with_para,y_train = get_split_data(data_train,True,0)\n",
    "x_test_with_para,y_test = get_split_data(data_test,False,0)\n",
    "x_val_with_para,y_val= get_split_data(data_val,False,0)"
   ]
  },
  {
   "cell_type": "code",
   "execution_count": 11,
   "id": "ad2450f9",
   "metadata": {
    "execution": {
     "iopub.execute_input": "2024-04-25T12:47:07.852196Z",
     "iopub.status.busy": "2024-04-25T12:47:07.851808Z",
     "iopub.status.idle": "2024-04-25T12:47:07.871564Z",
     "shell.execute_reply": "2024-04-25T12:47:07.870598Z"
    },
    "papermill": {
     "duration": 0.031824,
     "end_time": "2024-04-25T12:47:07.874149",
     "exception": false,
     "start_time": "2024-04-25T12:47:07.842325",
     "status": "completed"
    },
    "tags": []
   },
   "outputs": [],
   "source": [
    "logits_train_roberta_without_para = np.load(PATH_LOGITS+\"roberta_train_without_para.npy\")\n",
    "logits_train_roberta_with_para = np.load(PATH_LOGITS+\"roberta_train_with_para.npy\")\n",
    "logits_train_deberta_without_para = np.load(PATH_LOGITS+\"deberta_train_without_para.npy\")\n",
    "logits_train_deberta_with_para = np.load(PATH_LOGITS+\"deberta_train_with_para.npy\")"
   ]
  },
  {
   "cell_type": "code",
   "execution_count": 12,
   "id": "1be12550",
   "metadata": {
    "execution": {
     "iopub.execute_input": "2024-04-25T12:47:07.891769Z",
     "iopub.status.busy": "2024-04-25T12:47:07.891344Z",
     "iopub.status.idle": "2024-04-25T12:47:07.908933Z",
     "shell.execute_reply": "2024-04-25T12:47:07.907766Z"
    },
    "papermill": {
     "duration": 0.029041,
     "end_time": "2024-04-25T12:47:07.911360",
     "exception": false,
     "start_time": "2024-04-25T12:47:07.882319",
     "status": "completed"
    },
    "tags": []
   },
   "outputs": [],
   "source": [
    "logits_val_roberta_without_para = np.load(PATH_LOGITS+\"roberta_val_without_para.npy\")\n",
    "logits_val_roberta_with_para = np.load(PATH_LOGITS+\"roberta_val_with_para.npy\")\n",
    "logits_val_deberta_without_para = np.load(PATH_LOGITS+\"deberta_val_without_para.npy\")\n",
    "logits_val_deberta_with_para = np.load(PATH_LOGITS+\"deberta_val_with_para.npy\")"
   ]
  },
  {
   "cell_type": "code",
   "execution_count": 13,
   "id": "ef101734",
   "metadata": {
    "execution": {
     "iopub.execute_input": "2024-04-25T12:47:07.929536Z",
     "iopub.status.busy": "2024-04-25T12:47:07.929108Z",
     "iopub.status.idle": "2024-04-25T12:47:07.948964Z",
     "shell.execute_reply": "2024-04-25T12:47:07.947937Z"
    },
    "papermill": {
     "duration": 0.031784,
     "end_time": "2024-04-25T12:47:07.951332",
     "exception": false,
     "start_time": "2024-04-25T12:47:07.919548",
     "status": "completed"
    },
    "tags": []
   },
   "outputs": [],
   "source": [
    "logits_test_roberta_without_para = np.load(PATH_LOGITS+\"roberta_test_without_para.npy\")\n",
    "logits_test_roberta_with_para = np.load(PATH_LOGITS+\"roberta_test_with_para.npy\")\n",
    "logits_test_deberta_without_para = np.load(PATH_LOGITS+\"deberta_test_without_para.npy\")\n",
    "logits_test_deberta_with_para = np.load(PATH_LOGITS+\"deberta_test_with_para.npy\")"
   ]
  },
  {
   "cell_type": "code",
   "execution_count": 14,
   "id": "24381569",
   "metadata": {
    "execution": {
     "iopub.execute_input": "2024-04-25T12:47:07.970310Z",
     "iopub.status.busy": "2024-04-25T12:47:07.969315Z",
     "iopub.status.idle": "2024-04-25T12:47:07.975231Z",
     "shell.execute_reply": "2024-04-25T12:47:07.974414Z"
    },
    "papermill": {
     "duration": 0.017619,
     "end_time": "2024-04-25T12:47:07.977525",
     "exception": false,
     "start_time": "2024-04-25T12:47:07.959906",
     "status": "completed"
    },
    "tags": []
   },
   "outputs": [],
   "source": [
    "combined_train = np.concatenate([logits_train_roberta_without_para,logits_train_roberta_with_para,logits_train_deberta_without_para,logits_train_deberta_with_para],axis=2)\n",
    "combined_val = np.concatenate([logits_val_roberta_without_para,logits_val_roberta_with_para,logits_val_deberta_without_para,logits_val_deberta_with_para],axis=2)\n",
    "combined_test = np.concatenate([logits_test_roberta_without_para,logits_test_roberta_with_para,logits_test_deberta_without_para,logits_test_deberta_with_para],axis=2)"
   ]
  },
  {
   "cell_type": "code",
   "execution_count": 15,
   "id": "db2ab0ca",
   "metadata": {
    "execution": {
     "iopub.execute_input": "2024-04-25T12:47:07.994716Z",
     "iopub.status.busy": "2024-04-25T12:47:07.994237Z",
     "iopub.status.idle": "2024-04-25T12:47:07.999270Z",
     "shell.execute_reply": "2024-04-25T12:47:07.998405Z"
    },
    "papermill": {
     "duration": 0.016091,
     "end_time": "2024-04-25T12:47:08.001379",
     "exception": false,
     "start_time": "2024-04-25T12:47:07.985288",
     "status": "completed"
    },
    "tags": []
   },
   "outputs": [],
   "source": [
    "combined_train = np.squeeze(combined_train,axis=1)\n",
    "combined_val = np.squeeze(combined_val,axis=1)\n",
    "combined_test = np.squeeze(combined_test,axis=1)"
   ]
  },
  {
   "cell_type": "code",
   "execution_count": 16,
   "id": "151f7c0d",
   "metadata": {
    "execution": {
     "iopub.execute_input": "2024-04-25T12:47:08.019590Z",
     "iopub.status.busy": "2024-04-25T12:47:08.019162Z",
     "iopub.status.idle": "2024-04-25T12:47:08.055492Z",
     "shell.execute_reply": "2024-04-25T12:47:08.054208Z"
    },
    "papermill": {
     "duration": 0.048789,
     "end_time": "2024-04-25T12:47:08.058015",
     "exception": false,
     "start_time": "2024-04-25T12:47:08.009226",
     "status": "completed"
    },
    "tags": []
   },
   "outputs": [
    {
     "name": "stderr",
     "output_type": "stream",
     "text": [
      "INFO:sklearnex: sklearn.utils.validation._assert_all_finite: running accelerated version on CPU\n",
      "INFO:sklearnex: sklearn.utils.validation._assert_all_finite: running accelerated version on CPU\n"
     ]
    }
   ],
   "source": [
    "standard_scaler = StandardScaler()\n",
    "combined_train = standard_scaler.fit_transform(combined_train)\n",
    "combined_val = standard_scaler.transform(combined_val)\n",
    "combined_test = standard_scaler.transform(combined_test)"
   ]
  },
  {
   "cell_type": "code",
   "execution_count": 17,
   "id": "778fc696",
   "metadata": {
    "execution": {
     "iopub.execute_input": "2024-04-25T12:47:08.076050Z",
     "iopub.status.busy": "2024-04-25T12:47:08.075629Z",
     "iopub.status.idle": "2024-04-25T12:48:47.332942Z",
     "shell.execute_reply": "2024-04-25T12:48:47.332115Z"
    },
    "papermill": {
     "duration": 99.269096,
     "end_time": "2024-04-25T12:48:47.335112",
     "exception": false,
     "start_time": "2024-04-25T12:47:08.066016",
     "status": "completed"
    },
    "tags": []
   },
   "outputs": [
    {
     "name": "stderr",
     "output_type": "stream",
     "text": [
      "INFO:sklearnex: sklearn.svm.SVC.fit: running accelerated version on CPU\n"
     ]
    },
    {
     "name": "stdout",
     "output_type": "stream",
     "text": [
      "Fitting 5 folds for each of 72 candidates, totalling 360 fits\n"
     ]
    },
    {
     "name": "stderr",
     "output_type": "stream",
     "text": [
      "INFO:sklearnex: sklearn.svm.SVC.predict: running accelerated version on CPU\n",
      "INFO:sklearnex: sklearn.svm.SVC.fit: running accelerated version on CPU\n"
     ]
    },
    {
     "name": "stdout",
     "output_type": "stream",
     "text": [
      "[CV 1/5] END ......C=0.2, gamma=0.1, kernel=rbf;, score=0.895 total time=   0.3s\n"
     ]
    },
    {
     "name": "stderr",
     "output_type": "stream",
     "text": [
      "INFO:sklearnex: sklearn.svm.SVC.predict: running accelerated version on CPU\n",
      "INFO:sklearnex: sklearn.svm.SVC.fit: running accelerated version on CPU\n"
     ]
    },
    {
     "name": "stdout",
     "output_type": "stream",
     "text": [
      "[CV 2/5] END ......C=0.2, gamma=0.1, kernel=rbf;, score=0.880 total time=   0.3s\n"
     ]
    },
    {
     "name": "stderr",
     "output_type": "stream",
     "text": [
      "INFO:sklearnex: sklearn.svm.SVC.predict: running accelerated version on CPU\n",
      "INFO:sklearnex: sklearn.svm.SVC.fit: running accelerated version on CPU\n"
     ]
    },
    {
     "name": "stdout",
     "output_type": "stream",
     "text": [
      "[CV 3/5] END ......C=0.2, gamma=0.1, kernel=rbf;, score=0.873 total time=   0.2s\n"
     ]
    },
    {
     "name": "stderr",
     "output_type": "stream",
     "text": [
      "INFO:sklearnex: sklearn.svm.SVC.predict: running accelerated version on CPU\n",
      "INFO:sklearnex: sklearn.svm.SVC.fit: running accelerated version on CPU\n"
     ]
    },
    {
     "name": "stdout",
     "output_type": "stream",
     "text": [
      "[CV 4/5] END ......C=0.2, gamma=0.1, kernel=rbf;, score=0.870 total time=   0.2s\n"
     ]
    },
    {
     "name": "stderr",
     "output_type": "stream",
     "text": [
      "INFO:sklearnex: sklearn.svm.SVC.predict: running accelerated version on CPU\n",
      "INFO:sklearnex: sklearn.svm.SVC.fit: running accelerated version on CPU\n"
     ]
    },
    {
     "name": "stdout",
     "output_type": "stream",
     "text": [
      "[CV 5/5] END ......C=0.2, gamma=0.1, kernel=rbf;, score=0.922 total time=   0.3s\n"
     ]
    },
    {
     "name": "stderr",
     "output_type": "stream",
     "text": [
      "INFO:sklearnex: sklearn.svm.SVC.predict: running accelerated version on CPU\n",
      "INFO:sklearnex: sklearn.svm.SVC.fit: running accelerated version on CPU\n"
     ]
    },
    {
     "name": "stdout",
     "output_type": "stream",
     "text": [
      "[CV 1/5] END .....C=0.2, gamma=0.1, kernel=poly;, score=0.872 total time=   0.3s\n"
     ]
    },
    {
     "name": "stderr",
     "output_type": "stream",
     "text": [
      "INFO:sklearnex: sklearn.svm.SVC.predict: running accelerated version on CPU\n",
      "INFO:sklearnex: sklearn.svm.SVC.fit: running accelerated version on CPU\n"
     ]
    },
    {
     "name": "stdout",
     "output_type": "stream",
     "text": [
      "[CV 2/5] END .....C=0.2, gamma=0.1, kernel=poly;, score=0.847 total time=   0.3s\n"
     ]
    },
    {
     "name": "stderr",
     "output_type": "stream",
     "text": [
      "INFO:sklearnex: sklearn.svm.SVC.predict: running accelerated version on CPU\n",
      "INFO:sklearnex: sklearn.svm.SVC.fit: running accelerated version on CPU\n"
     ]
    },
    {
     "name": "stdout",
     "output_type": "stream",
     "text": [
      "[CV 3/5] END .....C=0.2, gamma=0.1, kernel=poly;, score=0.832 total time=   0.3s\n"
     ]
    },
    {
     "name": "stderr",
     "output_type": "stream",
     "text": [
      "INFO:sklearnex: sklearn.svm.SVC.predict: running accelerated version on CPU\n",
      "INFO:sklearnex: sklearn.svm.SVC.fit: running accelerated version on CPU\n"
     ]
    },
    {
     "name": "stdout",
     "output_type": "stream",
     "text": [
      "[CV 4/5] END .....C=0.2, gamma=0.1, kernel=poly;, score=0.829 total time=   0.3s\n"
     ]
    },
    {
     "name": "stderr",
     "output_type": "stream",
     "text": [
      "INFO:sklearnex: sklearn.svm.SVC.predict: running accelerated version on CPU\n",
      "INFO:sklearnex: sklearn.svm.SVC.fit: running accelerated version on CPU\n"
     ]
    },
    {
     "name": "stdout",
     "output_type": "stream",
     "text": [
      "[CV 5/5] END .....C=0.2, gamma=0.1, kernel=poly;, score=0.873 total time=   0.3s\n"
     ]
    },
    {
     "name": "stderr",
     "output_type": "stream",
     "text": [
      "INFO:sklearnex: sklearn.svm.SVC.predict: running accelerated version on CPU\n",
      "INFO:sklearnex: sklearn.svm.SVC.fit: running accelerated version on CPU\n"
     ]
    },
    {
     "name": "stdout",
     "output_type": "stream",
     "text": [
      "[CV 1/5] END ..C=0.2, gamma=0.1, kernel=sigmoid;, score=0.892 total time=   0.3s\n"
     ]
    },
    {
     "name": "stderr",
     "output_type": "stream",
     "text": [
      "INFO:sklearnex: sklearn.svm.SVC.predict: running accelerated version on CPU\n",
      "INFO:sklearnex: sklearn.svm.SVC.fit: running accelerated version on CPU\n"
     ]
    },
    {
     "name": "stdout",
     "output_type": "stream",
     "text": [
      "[CV 2/5] END ..C=0.2, gamma=0.1, kernel=sigmoid;, score=0.880 total time=   0.3s\n"
     ]
    },
    {
     "name": "stderr",
     "output_type": "stream",
     "text": [
      "INFO:sklearnex: sklearn.svm.SVC.predict: running accelerated version on CPU\n",
      "INFO:sklearnex: sklearn.svm.SVC.fit: running accelerated version on CPU\n"
     ]
    },
    {
     "name": "stdout",
     "output_type": "stream",
     "text": [
      "[CV 3/5] END ..C=0.2, gamma=0.1, kernel=sigmoid;, score=0.875 total time=   0.3s\n"
     ]
    },
    {
     "name": "stderr",
     "output_type": "stream",
     "text": [
      "INFO:sklearnex: sklearn.svm.SVC.predict: running accelerated version on CPU\n",
      "INFO:sklearnex: sklearn.svm.SVC.fit: running accelerated version on CPU\n"
     ]
    },
    {
     "name": "stdout",
     "output_type": "stream",
     "text": [
      "[CV 4/5] END ..C=0.2, gamma=0.1, kernel=sigmoid;, score=0.883 total time=   0.3s\n"
     ]
    },
    {
     "name": "stderr",
     "output_type": "stream",
     "text": [
      "INFO:sklearnex: sklearn.svm.SVC.predict: running accelerated version on CPU\n",
      "INFO:sklearnex: sklearn.svm.SVC.fit: running accelerated version on CPU\n",
      "INFO:sklearnex: sklearn.svm.SVC.predict: running accelerated version on CPU\n"
     ]
    },
    {
     "name": "stdout",
     "output_type": "stream",
     "text": [
      "[CV 5/5] END ..C=0.2, gamma=0.1, kernel=sigmoid;, score=0.925 total time=   0.3s\n"
     ]
    },
    {
     "name": "stderr",
     "output_type": "stream",
     "text": [
      "INFO:sklearnex: sklearn.svm.SVC.fit: running accelerated version on CPU\n"
     ]
    },
    {
     "name": "stdout",
     "output_type": "stream",
     "text": [
      "[CV 1/5] END ...C=0.2, gamma=0.1, kernel=linear;, score=0.900 total time=   0.3s\n"
     ]
    },
    {
     "name": "stderr",
     "output_type": "stream",
     "text": [
      "INFO:sklearnex: sklearn.svm.SVC.predict: running accelerated version on CPU\n",
      "INFO:sklearnex: sklearn.svm.SVC.fit: running accelerated version on CPU\n"
     ]
    },
    {
     "name": "stdout",
     "output_type": "stream",
     "text": [
      "[CV 2/5] END ...C=0.2, gamma=0.1, kernel=linear;, score=0.895 total time=   0.3s\n"
     ]
    },
    {
     "name": "stderr",
     "output_type": "stream",
     "text": [
      "INFO:sklearnex: sklearn.svm.SVC.predict: running accelerated version on CPU\n",
      "INFO:sklearnex: sklearn.svm.SVC.fit: running accelerated version on CPU\n"
     ]
    },
    {
     "name": "stdout",
     "output_type": "stream",
     "text": [
      "[CV 3/5] END ...C=0.2, gamma=0.1, kernel=linear;, score=0.880 total time=   0.3s\n"
     ]
    },
    {
     "name": "stderr",
     "output_type": "stream",
     "text": [
      "INFO:sklearnex: sklearn.svm.SVC.predict: running accelerated version on CPU\n",
      "INFO:sklearnex: sklearn.svm.SVC.fit: running accelerated version on CPU\n"
     ]
    },
    {
     "name": "stdout",
     "output_type": "stream",
     "text": [
      "[CV 4/5] END ...C=0.2, gamma=0.1, kernel=linear;, score=0.872 total time=   0.3s\n"
     ]
    },
    {
     "name": "stderr",
     "output_type": "stream",
     "text": [
      "INFO:sklearnex: sklearn.svm.SVC.predict: running accelerated version on CPU\n",
      "INFO:sklearnex: sklearn.svm.SVC.fit: running accelerated version on CPU\n"
     ]
    },
    {
     "name": "stdout",
     "output_type": "stream",
     "text": [
      "[CV 5/5] END ...C=0.2, gamma=0.1, kernel=linear;, score=0.931 total time=   0.3s\n"
     ]
    },
    {
     "name": "stderr",
     "output_type": "stream",
     "text": [
      "INFO:sklearnex: sklearn.svm.SVC.predict: running accelerated version on CPU\n",
      "INFO:sklearnex: sklearn.svm.SVC.fit: running accelerated version on CPU\n"
     ]
    },
    {
     "name": "stdout",
     "output_type": "stream",
     "text": [
      "[CV 1/5] END .....C=0.2, gamma=0.01, kernel=rbf;, score=0.876 total time=   0.3s\n"
     ]
    },
    {
     "name": "stderr",
     "output_type": "stream",
     "text": [
      "INFO:sklearnex: sklearn.svm.SVC.predict: running accelerated version on CPU\n",
      "INFO:sklearnex: sklearn.svm.SVC.fit: running accelerated version on CPU\n"
     ]
    },
    {
     "name": "stdout",
     "output_type": "stream",
     "text": [
      "[CV 2/5] END .....C=0.2, gamma=0.01, kernel=rbf;, score=0.873 total time=   0.3s\n"
     ]
    },
    {
     "name": "stderr",
     "output_type": "stream",
     "text": [
      "INFO:sklearnex: sklearn.svm.SVC.predict: running accelerated version on CPU\n",
      "INFO:sklearnex: sklearn.svm.SVC.fit: running accelerated version on CPU\n"
     ]
    },
    {
     "name": "stdout",
     "output_type": "stream",
     "text": [
      "[CV 3/5] END .....C=0.2, gamma=0.01, kernel=rbf;, score=0.846 total time=   0.2s\n"
     ]
    },
    {
     "name": "stderr",
     "output_type": "stream",
     "text": [
      "INFO:sklearnex: sklearn.svm.SVC.predict: running accelerated version on CPU\n",
      "INFO:sklearnex: sklearn.svm.SVC.fit: running accelerated version on CPU\n"
     ]
    },
    {
     "name": "stdout",
     "output_type": "stream",
     "text": [
      "[CV 4/5] END .....C=0.2, gamma=0.01, kernel=rbf;, score=0.844 total time=   0.3s\n"
     ]
    },
    {
     "name": "stderr",
     "output_type": "stream",
     "text": [
      "INFO:sklearnex: sklearn.svm.SVC.predict: running accelerated version on CPU\n",
      "INFO:sklearnex: sklearn.svm.SVC.fit: running accelerated version on CPU\n"
     ]
    },
    {
     "name": "stdout",
     "output_type": "stream",
     "text": [
      "[CV 5/5] END .....C=0.2, gamma=0.01, kernel=rbf;, score=0.916 total time=   0.3s\n"
     ]
    },
    {
     "name": "stderr",
     "output_type": "stream",
     "text": [
      "INFO:sklearnex: sklearn.svm.SVC.predict: running accelerated version on CPU\n",
      "INFO:sklearnex: sklearn.svm.SVC.fit: running accelerated version on CPU\n"
     ]
    },
    {
     "name": "stdout",
     "output_type": "stream",
     "text": [
      "[CV 1/5] END ....C=0.2, gamma=0.01, kernel=poly;, score=0.465 total time=   0.3s\n"
     ]
    },
    {
     "name": "stderr",
     "output_type": "stream",
     "text": [
      "INFO:sklearnex: sklearn.svm.SVC.predict: running accelerated version on CPU\n",
      "INFO:sklearnex: sklearn.svm.SVC.fit: running accelerated version on CPU\n"
     ]
    },
    {
     "name": "stdout",
     "output_type": "stream",
     "text": [
      "[CV 2/5] END ....C=0.2, gamma=0.01, kernel=poly;, score=0.473 total time=   0.3s\n"
     ]
    },
    {
     "name": "stderr",
     "output_type": "stream",
     "text": [
      "INFO:sklearnex: sklearn.svm.SVC.predict: running accelerated version on CPU\n",
      "INFO:sklearnex: sklearn.svm.SVC.fit: running accelerated version on CPU\n"
     ]
    },
    {
     "name": "stdout",
     "output_type": "stream",
     "text": [
      "[CV 3/5] END ....C=0.2, gamma=0.01, kernel=poly;, score=0.443 total time=   0.3s\n"
     ]
    },
    {
     "name": "stderr",
     "output_type": "stream",
     "text": [
      "INFO:sklearnex: sklearn.svm.SVC.predict: running accelerated version on CPU\n",
      "INFO:sklearnex: sklearn.svm.SVC.fit: running accelerated version on CPU\n"
     ]
    },
    {
     "name": "stdout",
     "output_type": "stream",
     "text": [
      "[CV 4/5] END ....C=0.2, gamma=0.01, kernel=poly;, score=0.455 total time=   0.3s\n"
     ]
    },
    {
     "name": "stderr",
     "output_type": "stream",
     "text": [
      "INFO:sklearnex: sklearn.svm.SVC.predict: running accelerated version on CPU\n",
      "INFO:sklearnex: sklearn.svm.SVC.fit: running accelerated version on CPU\n"
     ]
    },
    {
     "name": "stdout",
     "output_type": "stream",
     "text": [
      "[CV 5/5] END ....C=0.2, gamma=0.01, kernel=poly;, score=0.485 total time=   0.3s\n"
     ]
    },
    {
     "name": "stderr",
     "output_type": "stream",
     "text": [
      "INFO:sklearnex: sklearn.svm.SVC.predict: running accelerated version on CPU\n",
      "INFO:sklearnex: sklearn.svm.SVC.fit: running accelerated version on CPU\n"
     ]
    },
    {
     "name": "stdout",
     "output_type": "stream",
     "text": [
      "[CV 1/5] END .C=0.2, gamma=0.01, kernel=sigmoid;, score=0.857 total time=   0.3s\n"
     ]
    },
    {
     "name": "stderr",
     "output_type": "stream",
     "text": [
      "INFO:sklearnex: sklearn.svm.SVC.predict: running accelerated version on CPU\n",
      "INFO:sklearnex: sklearn.svm.SVC.fit: running accelerated version on CPU\n"
     ]
    },
    {
     "name": "stdout",
     "output_type": "stream",
     "text": [
      "[CV 2/5] END .C=0.2, gamma=0.01, kernel=sigmoid;, score=0.855 total time=   0.3s\n"
     ]
    },
    {
     "name": "stderr",
     "output_type": "stream",
     "text": [
      "INFO:sklearnex: sklearn.svm.SVC.predict: running accelerated version on CPU\n",
      "INFO:sklearnex: sklearn.svm.SVC.fit: running accelerated version on CPU\n"
     ]
    },
    {
     "name": "stdout",
     "output_type": "stream",
     "text": [
      "[CV 3/5] END .C=0.2, gamma=0.01, kernel=sigmoid;, score=0.835 total time=   0.3s\n"
     ]
    },
    {
     "name": "stderr",
     "output_type": "stream",
     "text": [
      "INFO:sklearnex: sklearn.svm.SVC.predict: running accelerated version on CPU\n",
      "INFO:sklearnex: sklearn.svm.SVC.fit: running accelerated version on CPU\n"
     ]
    },
    {
     "name": "stdout",
     "output_type": "stream",
     "text": [
      "[CV 4/5] END .C=0.2, gamma=0.01, kernel=sigmoid;, score=0.834 total time=   0.3s\n"
     ]
    },
    {
     "name": "stderr",
     "output_type": "stream",
     "text": [
      "INFO:sklearnex: sklearn.svm.SVC.predict: running accelerated version on CPU\n",
      "INFO:sklearnex: sklearn.svm.SVC.fit: running accelerated version on CPU\n"
     ]
    },
    {
     "name": "stdout",
     "output_type": "stream",
     "text": [
      "[CV 5/5] END .C=0.2, gamma=0.01, kernel=sigmoid;, score=0.897 total time=   0.3s\n"
     ]
    },
    {
     "name": "stderr",
     "output_type": "stream",
     "text": [
      "INFO:sklearnex: sklearn.svm.SVC.predict: running accelerated version on CPU\n",
      "INFO:sklearnex: sklearn.svm.SVC.fit: running accelerated version on CPU\n"
     ]
    },
    {
     "name": "stdout",
     "output_type": "stream",
     "text": [
      "[CV 1/5] END ..C=0.2, gamma=0.01, kernel=linear;, score=0.900 total time=   0.3s\n"
     ]
    },
    {
     "name": "stderr",
     "output_type": "stream",
     "text": [
      "INFO:sklearnex: sklearn.svm.SVC.predict: running accelerated version on CPU\n",
      "INFO:sklearnex: sklearn.svm.SVC.fit: running accelerated version on CPU\n"
     ]
    },
    {
     "name": "stdout",
     "output_type": "stream",
     "text": [
      "[CV 2/5] END ..C=0.2, gamma=0.01, kernel=linear;, score=0.895 total time=   0.3s\n"
     ]
    },
    {
     "name": "stderr",
     "output_type": "stream",
     "text": [
      "INFO:sklearnex: sklearn.svm.SVC.predict: running accelerated version on CPU\n",
      "INFO:sklearnex: sklearn.svm.SVC.fit: running accelerated version on CPU\n"
     ]
    },
    {
     "name": "stdout",
     "output_type": "stream",
     "text": [
      "[CV 3/5] END ..C=0.2, gamma=0.01, kernel=linear;, score=0.880 total time=   0.3s\n"
     ]
    },
    {
     "name": "stderr",
     "output_type": "stream",
     "text": [
      "INFO:sklearnex: sklearn.svm.SVC.predict: running accelerated version on CPU\n",
      "INFO:sklearnex: sklearn.svm.SVC.fit: running accelerated version on CPU\n"
     ]
    },
    {
     "name": "stdout",
     "output_type": "stream",
     "text": [
      "[CV 4/5] END ..C=0.2, gamma=0.01, kernel=linear;, score=0.872 total time=   0.3s\n"
     ]
    },
    {
     "name": "stderr",
     "output_type": "stream",
     "text": [
      "INFO:sklearnex: sklearn.svm.SVC.predict: running accelerated version on CPU\n",
      "INFO:sklearnex: sklearn.svm.SVC.fit: running accelerated version on CPU\n"
     ]
    },
    {
     "name": "stdout",
     "output_type": "stream",
     "text": [
      "[CV 5/5] END ..C=0.2, gamma=0.01, kernel=linear;, score=0.931 total time=   0.3s\n"
     ]
    },
    {
     "name": "stderr",
     "output_type": "stream",
     "text": [
      "INFO:sklearnex: sklearn.svm.SVC.predict: running accelerated version on CPU\n",
      "INFO:sklearnex: sklearn.svm.SVC.fit: running accelerated version on CPU\n"
     ]
    },
    {
     "name": "stdout",
     "output_type": "stream",
     "text": [
      "[CV 1/5] END ....C=0.2, gamma=0.001, kernel=rbf;, score=0.771 total time=   0.3s\n"
     ]
    },
    {
     "name": "stderr",
     "output_type": "stream",
     "text": [
      "INFO:sklearnex: sklearn.svm.SVC.predict: running accelerated version on CPU\n",
      "INFO:sklearnex: sklearn.svm.SVC.fit: running accelerated version on CPU\n"
     ]
    },
    {
     "name": "stdout",
     "output_type": "stream",
     "text": [
      "[CV 2/5] END ....C=0.2, gamma=0.001, kernel=rbf;, score=0.801 total time=   0.3s\n"
     ]
    },
    {
     "name": "stderr",
     "output_type": "stream",
     "text": [
      "INFO:sklearnex: sklearn.svm.SVC.predict: running accelerated version on CPU\n",
      "INFO:sklearnex: sklearn.svm.SVC.fit: running accelerated version on CPU\n"
     ]
    },
    {
     "name": "stdout",
     "output_type": "stream",
     "text": [
      "[CV 3/5] END ....C=0.2, gamma=0.001, kernel=rbf;, score=0.745 total time=   0.3s\n"
     ]
    },
    {
     "name": "stderr",
     "output_type": "stream",
     "text": [
      "INFO:sklearnex: sklearn.svm.SVC.predict: running accelerated version on CPU\n",
      "INFO:sklearnex: sklearn.svm.SVC.fit: running accelerated version on CPU\n"
     ]
    },
    {
     "name": "stdout",
     "output_type": "stream",
     "text": [
      "[CV 4/5] END ....C=0.2, gamma=0.001, kernel=rbf;, score=0.775 total time=   0.3s\n"
     ]
    },
    {
     "name": "stderr",
     "output_type": "stream",
     "text": [
      "INFO:sklearnex: sklearn.svm.SVC.predict: running accelerated version on CPU\n",
      "INFO:sklearnex: sklearn.svm.SVC.fit: running accelerated version on CPU\n"
     ]
    },
    {
     "name": "stdout",
     "output_type": "stream",
     "text": [
      "[CV 5/5] END ....C=0.2, gamma=0.001, kernel=rbf;, score=0.830 total time=   0.3s\n"
     ]
    },
    {
     "name": "stderr",
     "output_type": "stream",
     "text": [
      "INFO:sklearnex: sklearn.svm.SVC.predict: running accelerated version on CPU\n",
      "INFO:sklearnex: sklearn.svm.SVC.fit: running accelerated version on CPU\n"
     ]
    },
    {
     "name": "stdout",
     "output_type": "stream",
     "text": [
      "[CV 1/5] END ...C=0.2, gamma=0.001, kernel=poly;, score=0.333 total time=   0.3s\n"
     ]
    },
    {
     "name": "stderr",
     "output_type": "stream",
     "text": [
      "INFO:sklearnex: sklearn.svm.SVC.predict: running accelerated version on CPU\n",
      "INFO:sklearnex: sklearn.svm.SVC.fit: running accelerated version on CPU\n"
     ]
    },
    {
     "name": "stdout",
     "output_type": "stream",
     "text": [
      "[CV 2/5] END ...C=0.2, gamma=0.001, kernel=poly;, score=0.333 total time=   0.4s\n"
     ]
    },
    {
     "name": "stderr",
     "output_type": "stream",
     "text": [
      "INFO:sklearnex: sklearn.svm.SVC.predict: running accelerated version on CPU\n",
      "INFO:sklearnex: sklearn.svm.SVC.fit: running accelerated version on CPU\n"
     ]
    },
    {
     "name": "stdout",
     "output_type": "stream",
     "text": [
      "[CV 3/5] END ...C=0.2, gamma=0.001, kernel=poly;, score=0.333 total time=   0.3s\n"
     ]
    },
    {
     "name": "stderr",
     "output_type": "stream",
     "text": [
      "INFO:sklearnex: sklearn.svm.SVC.predict: running accelerated version on CPU\n",
      "INFO:sklearnex: sklearn.svm.SVC.fit: running accelerated version on CPU\n"
     ]
    },
    {
     "name": "stdout",
     "output_type": "stream",
     "text": [
      "[CV 4/5] END ...C=0.2, gamma=0.001, kernel=poly;, score=0.333 total time=   0.4s\n"
     ]
    },
    {
     "name": "stderr",
     "output_type": "stream",
     "text": [
      "INFO:sklearnex: sklearn.svm.SVC.predict: running accelerated version on CPU\n",
      "INFO:sklearnex: sklearn.svm.SVC.fit: running accelerated version on CPU\n"
     ]
    },
    {
     "name": "stdout",
     "output_type": "stream",
     "text": [
      "[CV 5/5] END ...C=0.2, gamma=0.001, kernel=poly;, score=0.333 total time=   0.3s\n"
     ]
    },
    {
     "name": "stderr",
     "output_type": "stream",
     "text": [
      "INFO:sklearnex: sklearn.svm.SVC.predict: running accelerated version on CPU\n",
      "INFO:sklearnex: sklearn.svm.SVC.fit: running accelerated version on CPU\n",
      "INFO:sklearnex: sklearn.svm.SVC.predict: running accelerated version on CPU\n"
     ]
    },
    {
     "name": "stdout",
     "output_type": "stream",
     "text": [
      "[CV 1/5] END C=0.2, gamma=0.001, kernel=sigmoid;, score=0.754 total time=   0.3s\n"
     ]
    },
    {
     "name": "stderr",
     "output_type": "stream",
     "text": [
      "INFO:sklearnex: sklearn.svm.SVC.fit: running accelerated version on CPU\n"
     ]
    },
    {
     "name": "stdout",
     "output_type": "stream",
     "text": [
      "[CV 2/5] END C=0.2, gamma=0.001, kernel=sigmoid;, score=0.772 total time=   0.3s\n"
     ]
    },
    {
     "name": "stderr",
     "output_type": "stream",
     "text": [
      "INFO:sklearnex: sklearn.svm.SVC.predict: running accelerated version on CPU\n",
      "INFO:sklearnex: sklearn.svm.SVC.fit: running accelerated version on CPU\n"
     ]
    },
    {
     "name": "stdout",
     "output_type": "stream",
     "text": [
      "[CV 3/5] END C=0.2, gamma=0.001, kernel=sigmoid;, score=0.724 total time=   0.3s\n"
     ]
    },
    {
     "name": "stderr",
     "output_type": "stream",
     "text": [
      "INFO:sklearnex: sklearn.svm.SVC.predict: running accelerated version on CPU\n",
      "INFO:sklearnex: sklearn.svm.SVC.fit: running accelerated version on CPU\n"
     ]
    },
    {
     "name": "stdout",
     "output_type": "stream",
     "text": [
      "[CV 4/5] END C=0.2, gamma=0.001, kernel=sigmoid;, score=0.749 total time=   0.3s\n"
     ]
    },
    {
     "name": "stderr",
     "output_type": "stream",
     "text": [
      "INFO:sklearnex: sklearn.svm.SVC.predict: running accelerated version on CPU\n",
      "INFO:sklearnex: sklearn.svm.SVC.fit: running accelerated version on CPU\n"
     ]
    },
    {
     "name": "stdout",
     "output_type": "stream",
     "text": [
      "[CV 5/5] END C=0.2, gamma=0.001, kernel=sigmoid;, score=0.803 total time=   0.3s\n"
     ]
    },
    {
     "name": "stderr",
     "output_type": "stream",
     "text": [
      "INFO:sklearnex: sklearn.svm.SVC.predict: running accelerated version on CPU\n",
      "INFO:sklearnex: sklearn.svm.SVC.fit: running accelerated version on CPU\n"
     ]
    },
    {
     "name": "stdout",
     "output_type": "stream",
     "text": [
      "[CV 1/5] END .C=0.2, gamma=0.001, kernel=linear;, score=0.900 total time=   0.3s\n"
     ]
    },
    {
     "name": "stderr",
     "output_type": "stream",
     "text": [
      "INFO:sklearnex: sklearn.svm.SVC.predict: running accelerated version on CPU\n",
      "INFO:sklearnex: sklearn.svm.SVC.fit: running accelerated version on CPU\n"
     ]
    },
    {
     "name": "stdout",
     "output_type": "stream",
     "text": [
      "[CV 2/5] END .C=0.2, gamma=0.001, kernel=linear;, score=0.895 total time=   0.3s\n"
     ]
    },
    {
     "name": "stderr",
     "output_type": "stream",
     "text": [
      "INFO:sklearnex: sklearn.svm.SVC.predict: running accelerated version on CPU\n",
      "INFO:sklearnex: sklearn.svm.SVC.fit: running accelerated version on CPU\n"
     ]
    },
    {
     "name": "stdout",
     "output_type": "stream",
     "text": [
      "[CV 3/5] END .C=0.2, gamma=0.001, kernel=linear;, score=0.880 total time=   0.3s\n"
     ]
    },
    {
     "name": "stderr",
     "output_type": "stream",
     "text": [
      "INFO:sklearnex: sklearn.svm.SVC.predict: running accelerated version on CPU\n",
      "INFO:sklearnex: sklearn.svm.SVC.fit: running accelerated version on CPU\n"
     ]
    },
    {
     "name": "stdout",
     "output_type": "stream",
     "text": [
      "[CV 4/5] END .C=0.2, gamma=0.001, kernel=linear;, score=0.872 total time=   0.3s\n"
     ]
    },
    {
     "name": "stderr",
     "output_type": "stream",
     "text": [
      "INFO:sklearnex: sklearn.svm.SVC.predict: running accelerated version on CPU\n",
      "INFO:sklearnex: sklearn.svm.SVC.fit: running accelerated version on CPU\n"
     ]
    },
    {
     "name": "stdout",
     "output_type": "stream",
     "text": [
      "[CV 5/5] END .C=0.2, gamma=0.001, kernel=linear;, score=0.931 total time=   0.3s\n"
     ]
    },
    {
     "name": "stderr",
     "output_type": "stream",
     "text": [
      "INFO:sklearnex: sklearn.svm.SVC.predict: running accelerated version on CPU\n",
      "INFO:sklearnex: sklearn.svm.SVC.fit: running accelerated version on CPU\n"
     ]
    },
    {
     "name": "stdout",
     "output_type": "stream",
     "text": [
      "[CV 1/5] END ......C=0.4, gamma=0.1, kernel=rbf;, score=0.899 total time=   0.3s\n"
     ]
    },
    {
     "name": "stderr",
     "output_type": "stream",
     "text": [
      "INFO:sklearnex: sklearn.svm.SVC.predict: running accelerated version on CPU\n",
      "INFO:sklearnex: sklearn.svm.SVC.fit: running accelerated version on CPU\n"
     ]
    },
    {
     "name": "stdout",
     "output_type": "stream",
     "text": [
      "[CV 2/5] END ......C=0.4, gamma=0.1, kernel=rbf;, score=0.887 total time=   0.2s\n"
     ]
    },
    {
     "name": "stderr",
     "output_type": "stream",
     "text": [
      "INFO:sklearnex: sklearn.svm.SVC.predict: running accelerated version on CPU\n",
      "INFO:sklearnex: sklearn.svm.SVC.fit: running accelerated version on CPU\n"
     ]
    },
    {
     "name": "stdout",
     "output_type": "stream",
     "text": [
      "[CV 3/5] END ......C=0.4, gamma=0.1, kernel=rbf;, score=0.879 total time=   0.2s\n"
     ]
    },
    {
     "name": "stderr",
     "output_type": "stream",
     "text": [
      "INFO:sklearnex: sklearn.svm.SVC.predict: running accelerated version on CPU\n",
      "INFO:sklearnex: sklearn.svm.SVC.fit: running accelerated version on CPU\n"
     ]
    },
    {
     "name": "stdout",
     "output_type": "stream",
     "text": [
      "[CV 4/5] END ......C=0.4, gamma=0.1, kernel=rbf;, score=0.871 total time=   0.2s\n"
     ]
    },
    {
     "name": "stderr",
     "output_type": "stream",
     "text": [
      "INFO:sklearnex: sklearn.svm.SVC.predict: running accelerated version on CPU\n",
      "INFO:sklearnex: sklearn.svm.SVC.fit: running accelerated version on CPU\n"
     ]
    },
    {
     "name": "stdout",
     "output_type": "stream",
     "text": [
      "[CV 5/5] END ......C=0.4, gamma=0.1, kernel=rbf;, score=0.927 total time=   0.3s\n"
     ]
    },
    {
     "name": "stderr",
     "output_type": "stream",
     "text": [
      "INFO:sklearnex: sklearn.svm.SVC.predict: running accelerated version on CPU\n",
      "INFO:sklearnex: sklearn.svm.SVC.fit: running accelerated version on CPU\n"
     ]
    },
    {
     "name": "stdout",
     "output_type": "stream",
     "text": [
      "[CV 1/5] END .....C=0.4, gamma=0.1, kernel=poly;, score=0.875 total time=   0.3s\n"
     ]
    },
    {
     "name": "stderr",
     "output_type": "stream",
     "text": [
      "INFO:sklearnex: sklearn.svm.SVC.predict: running accelerated version on CPU\n",
      "INFO:sklearnex: sklearn.svm.SVC.fit: running accelerated version on CPU\n"
     ]
    },
    {
     "name": "stdout",
     "output_type": "stream",
     "text": [
      "[CV 2/5] END .....C=0.4, gamma=0.1, kernel=poly;, score=0.858 total time=   0.3s\n"
     ]
    },
    {
     "name": "stderr",
     "output_type": "stream",
     "text": [
      "INFO:sklearnex: sklearn.svm.SVC.predict: running accelerated version on CPU\n",
      "INFO:sklearnex: sklearn.svm.SVC.fit: running accelerated version on CPU\n"
     ]
    },
    {
     "name": "stdout",
     "output_type": "stream",
     "text": [
      "[CV 3/5] END .....C=0.4, gamma=0.1, kernel=poly;, score=0.844 total time=   0.3s\n"
     ]
    },
    {
     "name": "stderr",
     "output_type": "stream",
     "text": [
      "INFO:sklearnex: sklearn.svm.SVC.predict: running accelerated version on CPU\n",
      "INFO:sklearnex: sklearn.svm.SVC.fit: running accelerated version on CPU\n"
     ]
    },
    {
     "name": "stdout",
     "output_type": "stream",
     "text": [
      "[CV 4/5] END .....C=0.4, gamma=0.1, kernel=poly;, score=0.827 total time=   0.3s\n"
     ]
    },
    {
     "name": "stderr",
     "output_type": "stream",
     "text": [
      "INFO:sklearnex: sklearn.svm.SVC.predict: running accelerated version on CPU\n",
      "INFO:sklearnex: sklearn.svm.SVC.fit: running accelerated version on CPU\n"
     ]
    },
    {
     "name": "stdout",
     "output_type": "stream",
     "text": [
      "[CV 5/5] END .....C=0.4, gamma=0.1, kernel=poly;, score=0.886 total time=   0.3s\n"
     ]
    },
    {
     "name": "stderr",
     "output_type": "stream",
     "text": [
      "INFO:sklearnex: sklearn.svm.SVC.predict: running accelerated version on CPU\n",
      "INFO:sklearnex: sklearn.svm.SVC.fit: running accelerated version on CPU\n"
     ]
    },
    {
     "name": "stdout",
     "output_type": "stream",
     "text": [
      "[CV 1/5] END ..C=0.4, gamma=0.1, kernel=sigmoid;, score=0.884 total time=   0.3s\n"
     ]
    },
    {
     "name": "stderr",
     "output_type": "stream",
     "text": [
      "INFO:sklearnex: sklearn.svm.SVC.predict: running accelerated version on CPU\n",
      "INFO:sklearnex: sklearn.svm.SVC.fit: running accelerated version on CPU\n"
     ]
    },
    {
     "name": "stdout",
     "output_type": "stream",
     "text": [
      "[CV 2/5] END ..C=0.4, gamma=0.1, kernel=sigmoid;, score=0.879 total time=   0.3s\n"
     ]
    },
    {
     "name": "stderr",
     "output_type": "stream",
     "text": [
      "INFO:sklearnex: sklearn.svm.SVC.predict: running accelerated version on CPU\n",
      "INFO:sklearnex: sklearn.svm.SVC.fit: running accelerated version on CPU\n"
     ]
    },
    {
     "name": "stdout",
     "output_type": "stream",
     "text": [
      "[CV 3/5] END ..C=0.4, gamma=0.1, kernel=sigmoid;, score=0.847 total time=   0.3s\n"
     ]
    },
    {
     "name": "stderr",
     "output_type": "stream",
     "text": [
      "INFO:sklearnex: sklearn.svm.SVC.predict: running accelerated version on CPU\n",
      "INFO:sklearnex: sklearn.svm.SVC.fit: running accelerated version on CPU\n"
     ]
    },
    {
     "name": "stdout",
     "output_type": "stream",
     "text": [
      "[CV 4/5] END ..C=0.4, gamma=0.1, kernel=sigmoid;, score=0.883 total time=   0.3s\n"
     ]
    },
    {
     "name": "stderr",
     "output_type": "stream",
     "text": [
      "INFO:sklearnex: sklearn.svm.SVC.predict: running accelerated version on CPU\n",
      "INFO:sklearnex: sklearn.svm.SVC.fit: running accelerated version on CPU\n"
     ]
    },
    {
     "name": "stdout",
     "output_type": "stream",
     "text": [
      "[CV 5/5] END ..C=0.4, gamma=0.1, kernel=sigmoid;, score=0.894 total time=   0.3s\n"
     ]
    },
    {
     "name": "stderr",
     "output_type": "stream",
     "text": [
      "INFO:sklearnex: sklearn.svm.SVC.predict: running accelerated version on CPU\n",
      "INFO:sklearnex: sklearn.svm.SVC.fit: running accelerated version on CPU\n"
     ]
    },
    {
     "name": "stdout",
     "output_type": "stream",
     "text": [
      "[CV 1/5] END ...C=0.4, gamma=0.1, kernel=linear;, score=0.902 total time=   0.3s\n"
     ]
    },
    {
     "name": "stderr",
     "output_type": "stream",
     "text": [
      "INFO:sklearnex: sklearn.svm.SVC.predict: running accelerated version on CPU\n",
      "INFO:sklearnex: sklearn.svm.SVC.fit: running accelerated version on CPU\n"
     ]
    },
    {
     "name": "stdout",
     "output_type": "stream",
     "text": [
      "[CV 2/5] END ...C=0.4, gamma=0.1, kernel=linear;, score=0.901 total time=   0.3s\n"
     ]
    },
    {
     "name": "stderr",
     "output_type": "stream",
     "text": [
      "INFO:sklearnex: sklearn.svm.SVC.predict: running accelerated version on CPU\n",
      "INFO:sklearnex: sklearn.svm.SVC.fit: running accelerated version on CPU\n"
     ]
    },
    {
     "name": "stdout",
     "output_type": "stream",
     "text": [
      "[CV 3/5] END ...C=0.4, gamma=0.1, kernel=linear;, score=0.883 total time=   0.3s\n"
     ]
    },
    {
     "name": "stderr",
     "output_type": "stream",
     "text": [
      "INFO:sklearnex: sklearn.svm.SVC.predict: running accelerated version on CPU\n",
      "INFO:sklearnex: sklearn.svm.SVC.fit: running accelerated version on CPU\n"
     ]
    },
    {
     "name": "stdout",
     "output_type": "stream",
     "text": [
      "[CV 4/5] END ...C=0.4, gamma=0.1, kernel=linear;, score=0.879 total time=   0.3s\n"
     ]
    },
    {
     "name": "stderr",
     "output_type": "stream",
     "text": [
      "INFO:sklearnex: sklearn.svm.SVC.predict: running accelerated version on CPU\n",
      "INFO:sklearnex: sklearn.svm.SVC.fit: running accelerated version on CPU\n"
     ]
    },
    {
     "name": "stdout",
     "output_type": "stream",
     "text": [
      "[CV 5/5] END ...C=0.4, gamma=0.1, kernel=linear;, score=0.930 total time=   0.3s\n"
     ]
    },
    {
     "name": "stderr",
     "output_type": "stream",
     "text": [
      "INFO:sklearnex: sklearn.svm.SVC.predict: running accelerated version on CPU\n",
      "INFO:sklearnex: sklearn.svm.SVC.fit: running accelerated version on CPU\n"
     ]
    },
    {
     "name": "stdout",
     "output_type": "stream",
     "text": [
      "[CV 1/5] END .....C=0.4, gamma=0.01, kernel=rbf;, score=0.891 total time=   0.2s\n"
     ]
    },
    {
     "name": "stderr",
     "output_type": "stream",
     "text": [
      "INFO:sklearnex: sklearn.svm.SVC.predict: running accelerated version on CPU\n",
      "INFO:sklearnex: sklearn.svm.SVC.fit: running accelerated version on CPU\n"
     ]
    },
    {
     "name": "stdout",
     "output_type": "stream",
     "text": [
      "[CV 2/5] END .....C=0.4, gamma=0.01, kernel=rbf;, score=0.875 total time=   0.2s\n"
     ]
    },
    {
     "name": "stderr",
     "output_type": "stream",
     "text": [
      "INFO:sklearnex: sklearn.svm.SVC.predict: running accelerated version on CPU\n",
      "INFO:sklearnex: sklearn.svm.SVC.fit: running accelerated version on CPU\n"
     ]
    },
    {
     "name": "stdout",
     "output_type": "stream",
     "text": [
      "[CV 3/5] END .....C=0.4, gamma=0.01, kernel=rbf;, score=0.863 total time=   0.2s\n"
     ]
    },
    {
     "name": "stderr",
     "output_type": "stream",
     "text": [
      "INFO:sklearnex: sklearn.svm.SVC.predict: running accelerated version on CPU\n",
      "INFO:sklearnex: sklearn.svm.SVC.fit: running accelerated version on CPU\n"
     ]
    },
    {
     "name": "stdout",
     "output_type": "stream",
     "text": [
      "[CV 4/5] END .....C=0.4, gamma=0.01, kernel=rbf;, score=0.859 total time=   0.3s\n"
     ]
    },
    {
     "name": "stderr",
     "output_type": "stream",
     "text": [
      "INFO:sklearnex: sklearn.svm.SVC.predict: running accelerated version on CPU\n",
      "INFO:sklearnex: sklearn.svm.SVC.fit: running accelerated version on CPU\n"
     ]
    },
    {
     "name": "stdout",
     "output_type": "stream",
     "text": [
      "[CV 5/5] END .....C=0.4, gamma=0.01, kernel=rbf;, score=0.925 total time=   0.2s\n"
     ]
    },
    {
     "name": "stderr",
     "output_type": "stream",
     "text": [
      "INFO:sklearnex: sklearn.svm.SVC.predict: running accelerated version on CPU\n",
      "INFO:sklearnex: sklearn.svm.SVC.fit: running accelerated version on CPU\n"
     ]
    },
    {
     "name": "stdout",
     "output_type": "stream",
     "text": [
      "[CV 1/5] END ....C=0.4, gamma=0.01, kernel=poly;, score=0.523 total time=   0.3s\n"
     ]
    },
    {
     "name": "stderr",
     "output_type": "stream",
     "text": [
      "INFO:sklearnex: sklearn.svm.SVC.predict: running accelerated version on CPU\n",
      "INFO:sklearnex: sklearn.svm.SVC.fit: running accelerated version on CPU\n"
     ]
    },
    {
     "name": "stdout",
     "output_type": "stream",
     "text": [
      "[CV 2/5] END ....C=0.4, gamma=0.01, kernel=poly;, score=0.501 total time=   0.3s\n"
     ]
    },
    {
     "name": "stderr",
     "output_type": "stream",
     "text": [
      "INFO:sklearnex: sklearn.svm.SVC.predict: running accelerated version on CPU\n",
      "INFO:sklearnex: sklearn.svm.SVC.fit: running accelerated version on CPU\n"
     ]
    },
    {
     "name": "stdout",
     "output_type": "stream",
     "text": [
      "[CV 3/5] END ....C=0.4, gamma=0.01, kernel=poly;, score=0.465 total time=   0.3s\n"
     ]
    },
    {
     "name": "stderr",
     "output_type": "stream",
     "text": [
      "INFO:sklearnex: sklearn.svm.SVC.predict: running accelerated version on CPU\n",
      "INFO:sklearnex: sklearn.svm.SVC.fit: running accelerated version on CPU\n"
     ]
    },
    {
     "name": "stdout",
     "output_type": "stream",
     "text": [
      "[CV 4/5] END ....C=0.4, gamma=0.01, kernel=poly;, score=0.518 total time=   0.3s\n"
     ]
    },
    {
     "name": "stderr",
     "output_type": "stream",
     "text": [
      "INFO:sklearnex: sklearn.svm.SVC.predict: running accelerated version on CPU\n",
      "INFO:sklearnex: sklearn.svm.SVC.fit: running accelerated version on CPU\n"
     ]
    },
    {
     "name": "stdout",
     "output_type": "stream",
     "text": [
      "[CV 5/5] END ....C=0.4, gamma=0.01, kernel=poly;, score=0.516 total time=   0.3s\n"
     ]
    },
    {
     "name": "stderr",
     "output_type": "stream",
     "text": [
      "INFO:sklearnex: sklearn.svm.SVC.predict: running accelerated version on CPU\n",
      "INFO:sklearnex: sklearn.svm.SVC.fit: running accelerated version on CPU\n"
     ]
    },
    {
     "name": "stdout",
     "output_type": "stream",
     "text": [
      "[CV 1/5] END .C=0.4, gamma=0.01, kernel=sigmoid;, score=0.876 total time=   0.3s\n"
     ]
    },
    {
     "name": "stderr",
     "output_type": "stream",
     "text": [
      "INFO:sklearnex: sklearn.svm.SVC.predict: running accelerated version on CPU\n",
      "INFO:sklearnex: sklearn.svm.SVC.fit: running accelerated version on CPU\n"
     ]
    },
    {
     "name": "stdout",
     "output_type": "stream",
     "text": [
      "[CV 2/5] END .C=0.4, gamma=0.01, kernel=sigmoid;, score=0.873 total time=   0.3s\n"
     ]
    },
    {
     "name": "stderr",
     "output_type": "stream",
     "text": [
      "INFO:sklearnex: sklearn.svm.SVC.predict: running accelerated version on CPU\n",
      "INFO:sklearnex: sklearn.svm.SVC.fit: running accelerated version on CPU\n"
     ]
    },
    {
     "name": "stdout",
     "output_type": "stream",
     "text": [
      "[CV 3/5] END .C=0.4, gamma=0.01, kernel=sigmoid;, score=0.846 total time=   0.3s\n"
     ]
    },
    {
     "name": "stderr",
     "output_type": "stream",
     "text": [
      "INFO:sklearnex: sklearn.svm.SVC.predict: running accelerated version on CPU\n",
      "INFO:sklearnex: sklearn.svm.SVC.fit: running accelerated version on CPU\n"
     ]
    },
    {
     "name": "stdout",
     "output_type": "stream",
     "text": [
      "[CV 4/5] END .C=0.4, gamma=0.01, kernel=sigmoid;, score=0.847 total time=   0.3s\n"
     ]
    },
    {
     "name": "stderr",
     "output_type": "stream",
     "text": [
      "INFO:sklearnex: sklearn.svm.SVC.predict: running accelerated version on CPU\n",
      "INFO:sklearnex: sklearn.svm.SVC.fit: running accelerated version on CPU\n"
     ]
    },
    {
     "name": "stdout",
     "output_type": "stream",
     "text": [
      "[CV 5/5] END .C=0.4, gamma=0.01, kernel=sigmoid;, score=0.919 total time=   0.3s\n"
     ]
    },
    {
     "name": "stderr",
     "output_type": "stream",
     "text": [
      "INFO:sklearnex: sklearn.svm.SVC.predict: running accelerated version on CPU\n",
      "INFO:sklearnex: sklearn.svm.SVC.fit: running accelerated version on CPU\n"
     ]
    },
    {
     "name": "stdout",
     "output_type": "stream",
     "text": [
      "[CV 1/5] END ..C=0.4, gamma=0.01, kernel=linear;, score=0.902 total time=   0.3s\n"
     ]
    },
    {
     "name": "stderr",
     "output_type": "stream",
     "text": [
      "INFO:sklearnex: sklearn.svm.SVC.predict: running accelerated version on CPU\n",
      "INFO:sklearnex: sklearn.svm.SVC.fit: running accelerated version on CPU\n"
     ]
    },
    {
     "name": "stdout",
     "output_type": "stream",
     "text": [
      "[CV 2/5] END ..C=0.4, gamma=0.01, kernel=linear;, score=0.901 total time=   0.3s\n"
     ]
    },
    {
     "name": "stderr",
     "output_type": "stream",
     "text": [
      "INFO:sklearnex: sklearn.svm.SVC.predict: running accelerated version on CPU\n",
      "INFO:sklearnex: sklearn.svm.SVC.fit: running accelerated version on CPU\n"
     ]
    },
    {
     "name": "stdout",
     "output_type": "stream",
     "text": [
      "[CV 3/5] END ..C=0.4, gamma=0.01, kernel=linear;, score=0.883 total time=   0.3s\n"
     ]
    },
    {
     "name": "stderr",
     "output_type": "stream",
     "text": [
      "INFO:sklearnex: sklearn.svm.SVC.predict: running accelerated version on CPU\n",
      "INFO:sklearnex: sklearn.svm.SVC.fit: running accelerated version on CPU\n"
     ]
    },
    {
     "name": "stdout",
     "output_type": "stream",
     "text": [
      "[CV 4/5] END ..C=0.4, gamma=0.01, kernel=linear;, score=0.879 total time=   0.3s\n"
     ]
    },
    {
     "name": "stderr",
     "output_type": "stream",
     "text": [
      "INFO:sklearnex: sklearn.svm.SVC.predict: running accelerated version on CPU\n",
      "INFO:sklearnex: sklearn.svm.SVC.fit: running accelerated version on CPU\n"
     ]
    },
    {
     "name": "stdout",
     "output_type": "stream",
     "text": [
      "[CV 5/5] END ..C=0.4, gamma=0.01, kernel=linear;, score=0.930 total time=   0.3s\n"
     ]
    },
    {
     "name": "stderr",
     "output_type": "stream",
     "text": [
      "INFO:sklearnex: sklearn.svm.SVC.predict: running accelerated version on CPU\n",
      "INFO:sklearnex: sklearn.svm.SVC.fit: running accelerated version on CPU\n"
     ]
    },
    {
     "name": "stdout",
     "output_type": "stream",
     "text": [
      "[CV 1/5] END ....C=0.4, gamma=0.001, kernel=rbf;, score=0.820 total time=   0.3s\n"
     ]
    },
    {
     "name": "stderr",
     "output_type": "stream",
     "text": [
      "INFO:sklearnex: sklearn.svm.SVC.predict: running accelerated version on CPU\n",
      "INFO:sklearnex: sklearn.svm.SVC.fit: running accelerated version on CPU\n"
     ]
    },
    {
     "name": "stdout",
     "output_type": "stream",
     "text": [
      "[CV 2/5] END ....C=0.4, gamma=0.001, kernel=rbf;, score=0.825 total time=   0.3s\n"
     ]
    },
    {
     "name": "stderr",
     "output_type": "stream",
     "text": [
      "INFO:sklearnex: sklearn.svm.SVC.predict: running accelerated version on CPU\n",
      "INFO:sklearnex: sklearn.svm.SVC.fit: running accelerated version on CPU\n"
     ]
    },
    {
     "name": "stdout",
     "output_type": "stream",
     "text": [
      "[CV 3/5] END ....C=0.4, gamma=0.001, kernel=rbf;, score=0.785 total time=   0.3s\n"
     ]
    },
    {
     "name": "stderr",
     "output_type": "stream",
     "text": [
      "INFO:sklearnex: sklearn.svm.SVC.predict: running accelerated version on CPU\n",
      "INFO:sklearnex: sklearn.svm.SVC.fit: running accelerated version on CPU\n"
     ]
    },
    {
     "name": "stdout",
     "output_type": "stream",
     "text": [
      "[CV 4/5] END ....C=0.4, gamma=0.001, kernel=rbf;, score=0.803 total time=   0.3s\n"
     ]
    },
    {
     "name": "stderr",
     "output_type": "stream",
     "text": [
      "INFO:sklearnex: sklearn.svm.SVC.predict: running accelerated version on CPU\n",
      "INFO:sklearnex: sklearn.svm.SVC.fit: running accelerated version on CPU\n"
     ]
    },
    {
     "name": "stdout",
     "output_type": "stream",
     "text": [
      "[CV 5/5] END ....C=0.4, gamma=0.001, kernel=rbf;, score=0.847 total time=   0.3s\n"
     ]
    },
    {
     "name": "stderr",
     "output_type": "stream",
     "text": [
      "INFO:sklearnex: sklearn.svm.SVC.predict: running accelerated version on CPU\n",
      "INFO:sklearnex: sklearn.svm.SVC.fit: running accelerated version on CPU\n",
      "INFO:sklearnex: sklearn.svm.SVC.predict: running accelerated version on CPU\n"
     ]
    },
    {
     "name": "stdout",
     "output_type": "stream",
     "text": [
      "[CV 1/5] END ...C=0.4, gamma=0.001, kernel=poly;, score=0.333 total time=   0.3s\n"
     ]
    },
    {
     "name": "stderr",
     "output_type": "stream",
     "text": [
      "INFO:sklearnex: sklearn.svm.SVC.fit: running accelerated version on CPU\n"
     ]
    },
    {
     "name": "stdout",
     "output_type": "stream",
     "text": [
      "[CV 2/5] END ...C=0.4, gamma=0.001, kernel=poly;, score=0.333 total time=   0.3s\n"
     ]
    },
    {
     "name": "stderr",
     "output_type": "stream",
     "text": [
      "INFO:sklearnex: sklearn.svm.SVC.predict: running accelerated version on CPU\n",
      "INFO:sklearnex: sklearn.svm.SVC.fit: running accelerated version on CPU\n"
     ]
    },
    {
     "name": "stdout",
     "output_type": "stream",
     "text": [
      "[CV 3/5] END ...C=0.4, gamma=0.001, kernel=poly;, score=0.333 total time=   0.3s\n"
     ]
    },
    {
     "name": "stderr",
     "output_type": "stream",
     "text": [
      "INFO:sklearnex: sklearn.svm.SVC.predict: running accelerated version on CPU\n",
      "INFO:sklearnex: sklearn.svm.SVC.fit: running accelerated version on CPU\n"
     ]
    },
    {
     "name": "stdout",
     "output_type": "stream",
     "text": [
      "[CV 4/5] END ...C=0.4, gamma=0.001, kernel=poly;, score=0.333 total time=   0.3s\n"
     ]
    },
    {
     "name": "stderr",
     "output_type": "stream",
     "text": [
      "INFO:sklearnex: sklearn.svm.SVC.predict: running accelerated version on CPU\n",
      "INFO:sklearnex: sklearn.svm.SVC.fit: running accelerated version on CPU\n"
     ]
    },
    {
     "name": "stdout",
     "output_type": "stream",
     "text": [
      "[CV 5/5] END ...C=0.4, gamma=0.001, kernel=poly;, score=0.333 total time=   0.3s\n"
     ]
    },
    {
     "name": "stderr",
     "output_type": "stream",
     "text": [
      "INFO:sklearnex: sklearn.svm.SVC.predict: running accelerated version on CPU\n",
      "INFO:sklearnex: sklearn.svm.SVC.fit: running accelerated version on CPU\n"
     ]
    },
    {
     "name": "stdout",
     "output_type": "stream",
     "text": [
      "[CV 1/5] END C=0.4, gamma=0.001, kernel=sigmoid;, score=0.771 total time=   0.3s\n"
     ]
    },
    {
     "name": "stderr",
     "output_type": "stream",
     "text": [
      "INFO:sklearnex: sklearn.svm.SVC.predict: running accelerated version on CPU\n",
      "INFO:sklearnex: sklearn.svm.SVC.fit: running accelerated version on CPU\n"
     ]
    },
    {
     "name": "stdout",
     "output_type": "stream",
     "text": [
      "[CV 2/5] END C=0.4, gamma=0.001, kernel=sigmoid;, score=0.801 total time=   0.3s\n"
     ]
    },
    {
     "name": "stderr",
     "output_type": "stream",
     "text": [
      "INFO:sklearnex: sklearn.svm.SVC.predict: running accelerated version on CPU\n",
      "INFO:sklearnex: sklearn.svm.SVC.fit: running accelerated version on CPU\n"
     ]
    },
    {
     "name": "stdout",
     "output_type": "stream",
     "text": [
      "[CV 3/5] END C=0.4, gamma=0.001, kernel=sigmoid;, score=0.748 total time=   0.3s\n"
     ]
    },
    {
     "name": "stderr",
     "output_type": "stream",
     "text": [
      "INFO:sklearnex: sklearn.svm.SVC.predict: running accelerated version on CPU\n",
      "INFO:sklearnex: sklearn.svm.SVC.fit: running accelerated version on CPU\n"
     ]
    },
    {
     "name": "stdout",
     "output_type": "stream",
     "text": [
      "[CV 4/5] END C=0.4, gamma=0.001, kernel=sigmoid;, score=0.778 total time=   0.3s\n"
     ]
    },
    {
     "name": "stderr",
     "output_type": "stream",
     "text": [
      "INFO:sklearnex: sklearn.svm.SVC.predict: running accelerated version on CPU\n",
      "INFO:sklearnex: sklearn.svm.SVC.fit: running accelerated version on CPU\n"
     ]
    },
    {
     "name": "stdout",
     "output_type": "stream",
     "text": [
      "[CV 5/5] END C=0.4, gamma=0.001, kernel=sigmoid;, score=0.830 total time=   0.3s\n"
     ]
    },
    {
     "name": "stderr",
     "output_type": "stream",
     "text": [
      "INFO:sklearnex: sklearn.svm.SVC.predict: running accelerated version on CPU\n",
      "INFO:sklearnex: sklearn.svm.SVC.fit: running accelerated version on CPU\n"
     ]
    },
    {
     "name": "stdout",
     "output_type": "stream",
     "text": [
      "[CV 1/5] END .C=0.4, gamma=0.001, kernel=linear;, score=0.902 total time=   0.3s\n"
     ]
    },
    {
     "name": "stderr",
     "output_type": "stream",
     "text": [
      "INFO:sklearnex: sklearn.svm.SVC.predict: running accelerated version on CPU\n",
      "INFO:sklearnex: sklearn.svm.SVC.fit: running accelerated version on CPU\n"
     ]
    },
    {
     "name": "stdout",
     "output_type": "stream",
     "text": [
      "[CV 2/5] END .C=0.4, gamma=0.001, kernel=linear;, score=0.901 total time=   0.3s\n"
     ]
    },
    {
     "name": "stderr",
     "output_type": "stream",
     "text": [
      "INFO:sklearnex: sklearn.svm.SVC.predict: running accelerated version on CPU\n",
      "INFO:sklearnex: sklearn.svm.SVC.fit: running accelerated version on CPU\n"
     ]
    },
    {
     "name": "stdout",
     "output_type": "stream",
     "text": [
      "[CV 3/5] END .C=0.4, gamma=0.001, kernel=linear;, score=0.883 total time=   0.3s\n"
     ]
    },
    {
     "name": "stderr",
     "output_type": "stream",
     "text": [
      "INFO:sklearnex: sklearn.svm.SVC.predict: running accelerated version on CPU\n",
      "INFO:sklearnex: sklearn.svm.SVC.fit: running accelerated version on CPU\n"
     ]
    },
    {
     "name": "stdout",
     "output_type": "stream",
     "text": [
      "[CV 4/5] END .C=0.4, gamma=0.001, kernel=linear;, score=0.879 total time=   0.3s\n"
     ]
    },
    {
     "name": "stderr",
     "output_type": "stream",
     "text": [
      "INFO:sklearnex: sklearn.svm.SVC.predict: running accelerated version on CPU\n",
      "INFO:sklearnex: sklearn.svm.SVC.fit: running accelerated version on CPU\n"
     ]
    },
    {
     "name": "stdout",
     "output_type": "stream",
     "text": [
      "[CV 5/5] END .C=0.4, gamma=0.001, kernel=linear;, score=0.930 total time=   0.3s\n"
     ]
    },
    {
     "name": "stderr",
     "output_type": "stream",
     "text": [
      "INFO:sklearnex: sklearn.svm.SVC.predict: running accelerated version on CPU\n",
      "INFO:sklearnex: sklearn.svm.SVC.fit: running accelerated version on CPU\n"
     ]
    },
    {
     "name": "stdout",
     "output_type": "stream",
     "text": [
      "[CV 1/5] END ......C=0.6, gamma=0.1, kernel=rbf;, score=0.905 total time=   0.2s\n"
     ]
    },
    {
     "name": "stderr",
     "output_type": "stream",
     "text": [
      "INFO:sklearnex: sklearn.svm.SVC.predict: running accelerated version on CPU\n",
      "INFO:sklearnex: sklearn.svm.SVC.fit: running accelerated version on CPU\n"
     ]
    },
    {
     "name": "stdout",
     "output_type": "stream",
     "text": [
      "[CV 2/5] END ......C=0.6, gamma=0.1, kernel=rbf;, score=0.887 total time=   0.2s\n"
     ]
    },
    {
     "name": "stderr",
     "output_type": "stream",
     "text": [
      "INFO:sklearnex: sklearn.svm.SVC.predict: running accelerated version on CPU\n",
      "INFO:sklearnex: sklearn.svm.SVC.fit: running accelerated version on CPU\n"
     ]
    },
    {
     "name": "stdout",
     "output_type": "stream",
     "text": [
      "[CV 3/5] END ......C=0.6, gamma=0.1, kernel=rbf;, score=0.881 total time=   0.2s\n"
     ]
    },
    {
     "name": "stderr",
     "output_type": "stream",
     "text": [
      "INFO:sklearnex: sklearn.svm.SVC.predict: running accelerated version on CPU\n",
      "INFO:sklearnex: sklearn.svm.SVC.fit: running accelerated version on CPU\n"
     ]
    },
    {
     "name": "stdout",
     "output_type": "stream",
     "text": [
      "[CV 4/5] END ......C=0.6, gamma=0.1, kernel=rbf;, score=0.873 total time=   0.2s\n"
     ]
    },
    {
     "name": "stderr",
     "output_type": "stream",
     "text": [
      "INFO:sklearnex: sklearn.svm.SVC.predict: running accelerated version on CPU\n",
      "INFO:sklearnex: sklearn.svm.SVC.fit: running accelerated version on CPU\n"
     ]
    },
    {
     "name": "stdout",
     "output_type": "stream",
     "text": [
      "[CV 5/5] END ......C=0.6, gamma=0.1, kernel=rbf;, score=0.928 total time=   0.2s\n"
     ]
    },
    {
     "name": "stderr",
     "output_type": "stream",
     "text": [
      "INFO:sklearnex: sklearn.svm.SVC.predict: running accelerated version on CPU\n",
      "INFO:sklearnex: sklearn.svm.SVC.fit: running accelerated version on CPU\n",
      "INFO:sklearnex: sklearn.svm.SVC.predict: running accelerated version on CPU\n"
     ]
    },
    {
     "name": "stdout",
     "output_type": "stream",
     "text": [
      "[CV 1/5] END .....C=0.6, gamma=0.1, kernel=poly;, score=0.875 total time=   0.3s\n"
     ]
    },
    {
     "name": "stderr",
     "output_type": "stream",
     "text": [
      "INFO:sklearnex: sklearn.svm.SVC.fit: running accelerated version on CPU\n"
     ]
    },
    {
     "name": "stdout",
     "output_type": "stream",
     "text": [
      "[CV 2/5] END .....C=0.6, gamma=0.1, kernel=poly;, score=0.854 total time=   0.3s\n"
     ]
    },
    {
     "name": "stderr",
     "output_type": "stream",
     "text": [
      "INFO:sklearnex: sklearn.svm.SVC.predict: running accelerated version on CPU\n",
      "INFO:sklearnex: sklearn.svm.SVC.fit: running accelerated version on CPU\n"
     ]
    },
    {
     "name": "stdout",
     "output_type": "stream",
     "text": [
      "[CV 3/5] END .....C=0.6, gamma=0.1, kernel=poly;, score=0.847 total time=   0.3s\n"
     ]
    },
    {
     "name": "stderr",
     "output_type": "stream",
     "text": [
      "INFO:sklearnex: sklearn.svm.SVC.predict: running accelerated version on CPU\n",
      "INFO:sklearnex: sklearn.svm.SVC.fit: running accelerated version on CPU\n"
     ]
    },
    {
     "name": "stdout",
     "output_type": "stream",
     "text": [
      "[CV 4/5] END .....C=0.6, gamma=0.1, kernel=poly;, score=0.836 total time=   0.3s\n"
     ]
    },
    {
     "name": "stderr",
     "output_type": "stream",
     "text": [
      "INFO:sklearnex: sklearn.svm.SVC.predict: running accelerated version on CPU\n",
      "INFO:sklearnex: sklearn.svm.SVC.fit: running accelerated version on CPU\n"
     ]
    },
    {
     "name": "stdout",
     "output_type": "stream",
     "text": [
      "[CV 5/5] END .....C=0.6, gamma=0.1, kernel=poly;, score=0.895 total time=   0.3s\n"
     ]
    },
    {
     "name": "stderr",
     "output_type": "stream",
     "text": [
      "INFO:sklearnex: sklearn.svm.SVC.predict: running accelerated version on CPU\n",
      "INFO:sklearnex: sklearn.svm.SVC.fit: running accelerated version on CPU\n"
     ]
    },
    {
     "name": "stdout",
     "output_type": "stream",
     "text": [
      "[CV 1/5] END ..C=0.6, gamma=0.1, kernel=sigmoid;, score=0.879 total time=   0.3s\n"
     ]
    },
    {
     "name": "stderr",
     "output_type": "stream",
     "text": [
      "INFO:sklearnex: sklearn.svm.SVC.predict: running accelerated version on CPU\n",
      "INFO:sklearnex: sklearn.svm.SVC.fit: running accelerated version on CPU\n"
     ]
    },
    {
     "name": "stdout",
     "output_type": "stream",
     "text": [
      "[CV 2/5] END ..C=0.6, gamma=0.1, kernel=sigmoid;, score=0.873 total time=   0.3s\n"
     ]
    },
    {
     "name": "stderr",
     "output_type": "stream",
     "text": [
      "INFO:sklearnex: sklearn.svm.SVC.predict: running accelerated version on CPU\n",
      "INFO:sklearnex: sklearn.svm.SVC.fit: running accelerated version on CPU\n"
     ]
    },
    {
     "name": "stdout",
     "output_type": "stream",
     "text": [
      "[CV 3/5] END ..C=0.6, gamma=0.1, kernel=sigmoid;, score=0.847 total time=   0.3s\n"
     ]
    },
    {
     "name": "stderr",
     "output_type": "stream",
     "text": [
      "INFO:sklearnex: sklearn.svm.SVC.predict: running accelerated version on CPU\n",
      "INFO:sklearnex: sklearn.svm.SVC.fit: running accelerated version on CPU\n"
     ]
    },
    {
     "name": "stdout",
     "output_type": "stream",
     "text": [
      "[CV 4/5] END ..C=0.6, gamma=0.1, kernel=sigmoid;, score=0.858 total time=   0.3s\n"
     ]
    },
    {
     "name": "stderr",
     "output_type": "stream",
     "text": [
      "INFO:sklearnex: sklearn.svm.SVC.predict: running accelerated version on CPU\n",
      "INFO:sklearnex: sklearn.svm.SVC.fit: running accelerated version on CPU\n"
     ]
    },
    {
     "name": "stdout",
     "output_type": "stream",
     "text": [
      "[CV 5/5] END ..C=0.6, gamma=0.1, kernel=sigmoid;, score=0.868 total time=   0.3s\n"
     ]
    },
    {
     "name": "stderr",
     "output_type": "stream",
     "text": [
      "INFO:sklearnex: sklearn.svm.SVC.predict: running accelerated version on CPU\n",
      "INFO:sklearnex: sklearn.svm.SVC.fit: running accelerated version on CPU\n"
     ]
    },
    {
     "name": "stdout",
     "output_type": "stream",
     "text": [
      "[CV 1/5] END ...C=0.6, gamma=0.1, kernel=linear;, score=0.903 total time=   0.3s\n"
     ]
    },
    {
     "name": "stderr",
     "output_type": "stream",
     "text": [
      "INFO:sklearnex: sklearn.svm.SVC.predict: running accelerated version on CPU\n",
      "INFO:sklearnex: sklearn.svm.SVC.fit: running accelerated version on CPU\n"
     ]
    },
    {
     "name": "stdout",
     "output_type": "stream",
     "text": [
      "[CV 2/5] END ...C=0.6, gamma=0.1, kernel=linear;, score=0.901 total time=   0.3s\n"
     ]
    },
    {
     "name": "stderr",
     "output_type": "stream",
     "text": [
      "INFO:sklearnex: sklearn.svm.SVC.predict: running accelerated version on CPU\n",
      "INFO:sklearnex: sklearn.svm.SVC.fit: running accelerated version on CPU\n"
     ]
    },
    {
     "name": "stdout",
     "output_type": "stream",
     "text": [
      "[CV 3/5] END ...C=0.6, gamma=0.1, kernel=linear;, score=0.886 total time=   0.3s\n"
     ]
    },
    {
     "name": "stderr",
     "output_type": "stream",
     "text": [
      "INFO:sklearnex: sklearn.svm.SVC.predict: running accelerated version on CPU\n",
      "INFO:sklearnex: sklearn.svm.SVC.fit: running accelerated version on CPU\n"
     ]
    },
    {
     "name": "stdout",
     "output_type": "stream",
     "text": [
      "[CV 4/5] END ...C=0.6, gamma=0.1, kernel=linear;, score=0.882 total time=   0.3s\n"
     ]
    },
    {
     "name": "stderr",
     "output_type": "stream",
     "text": [
      "INFO:sklearnex: sklearn.svm.SVC.predict: running accelerated version on CPU\n",
      "INFO:sklearnex: sklearn.svm.SVC.fit: running accelerated version on CPU\n"
     ]
    },
    {
     "name": "stdout",
     "output_type": "stream",
     "text": [
      "[CV 5/5] END ...C=0.6, gamma=0.1, kernel=linear;, score=0.930 total time=   0.3s\n"
     ]
    },
    {
     "name": "stderr",
     "output_type": "stream",
     "text": [
      "INFO:sklearnex: sklearn.svm.SVC.predict: running accelerated version on CPU\n",
      "INFO:sklearnex: sklearn.svm.SVC.fit: running accelerated version on CPU\n"
     ]
    },
    {
     "name": "stdout",
     "output_type": "stream",
     "text": [
      "[CV 1/5] END .....C=0.6, gamma=0.01, kernel=rbf;, score=0.895 total time=   0.2s\n"
     ]
    },
    {
     "name": "stderr",
     "output_type": "stream",
     "text": [
      "INFO:sklearnex: sklearn.svm.SVC.predict: running accelerated version on CPU\n",
      "INFO:sklearnex: sklearn.svm.SVC.fit: running accelerated version on CPU\n"
     ]
    },
    {
     "name": "stdout",
     "output_type": "stream",
     "text": [
      "[CV 2/5] END .....C=0.6, gamma=0.01, kernel=rbf;, score=0.883 total time=   0.2s\n"
     ]
    },
    {
     "name": "stderr",
     "output_type": "stream",
     "text": [
      "INFO:sklearnex: sklearn.svm.SVC.predict: running accelerated version on CPU\n",
      "INFO:sklearnex: sklearn.svm.SVC.fit: running accelerated version on CPU\n"
     ]
    },
    {
     "name": "stdout",
     "output_type": "stream",
     "text": [
      "[CV 3/5] END .....C=0.6, gamma=0.01, kernel=rbf;, score=0.863 total time=   0.2s\n"
     ]
    },
    {
     "name": "stderr",
     "output_type": "stream",
     "text": [
      "INFO:sklearnex: sklearn.svm.SVC.predict: running accelerated version on CPU\n",
      "INFO:sklearnex: sklearn.svm.SVC.fit: running accelerated version on CPU\n"
     ]
    },
    {
     "name": "stdout",
     "output_type": "stream",
     "text": [
      "[CV 4/5] END .....C=0.6, gamma=0.01, kernel=rbf;, score=0.862 total time=   0.2s\n"
     ]
    },
    {
     "name": "stderr",
     "output_type": "stream",
     "text": [
      "INFO:sklearnex: sklearn.svm.SVC.predict: running accelerated version on CPU\n",
      "INFO:sklearnex: sklearn.svm.SVC.fit: running accelerated version on CPU\n"
     ]
    },
    {
     "name": "stdout",
     "output_type": "stream",
     "text": [
      "[CV 5/5] END .....C=0.6, gamma=0.01, kernel=rbf;, score=0.928 total time=   0.2s\n"
     ]
    },
    {
     "name": "stderr",
     "output_type": "stream",
     "text": [
      "INFO:sklearnex: sklearn.svm.SVC.predict: running accelerated version on CPU\n",
      "INFO:sklearnex: sklearn.svm.SVC.fit: running accelerated version on CPU\n"
     ]
    },
    {
     "name": "stdout",
     "output_type": "stream",
     "text": [
      "[CV 1/5] END ....C=0.6, gamma=0.01, kernel=poly;, score=0.632 total time=   0.3s\n"
     ]
    },
    {
     "name": "stderr",
     "output_type": "stream",
     "text": [
      "INFO:sklearnex: sklearn.svm.SVC.predict: running accelerated version on CPU\n",
      "INFO:sklearnex: sklearn.svm.SVC.fit: running accelerated version on CPU\n"
     ]
    },
    {
     "name": "stdout",
     "output_type": "stream",
     "text": [
      "[CV 2/5] END ....C=0.6, gamma=0.01, kernel=poly;, score=0.657 total time=   0.3s\n"
     ]
    },
    {
     "name": "stderr",
     "output_type": "stream",
     "text": [
      "INFO:sklearnex: sklearn.svm.SVC.predict: running accelerated version on CPU\n",
      "INFO:sklearnex: sklearn.svm.SVC.fit: running accelerated version on CPU\n"
     ]
    },
    {
     "name": "stdout",
     "output_type": "stream",
     "text": [
      "[CV 3/5] END ....C=0.6, gamma=0.01, kernel=poly;, score=0.658 total time=   0.3s\n"
     ]
    },
    {
     "name": "stderr",
     "output_type": "stream",
     "text": [
      "INFO:sklearnex: sklearn.svm.SVC.predict: running accelerated version on CPU\n",
      "INFO:sklearnex: sklearn.svm.SVC.fit: running accelerated version on CPU\n"
     ]
    },
    {
     "name": "stdout",
     "output_type": "stream",
     "text": [
      "[CV 4/5] END ....C=0.6, gamma=0.01, kernel=poly;, score=0.617 total time=   0.3s\n"
     ]
    },
    {
     "name": "stderr",
     "output_type": "stream",
     "text": [
      "INFO:sklearnex: sklearn.svm.SVC.predict: running accelerated version on CPU\n",
      "INFO:sklearnex: sklearn.svm.SVC.fit: running accelerated version on CPU\n"
     ]
    },
    {
     "name": "stdout",
     "output_type": "stream",
     "text": [
      "[CV 5/5] END ....C=0.6, gamma=0.01, kernel=poly;, score=0.673 total time=   0.3s\n"
     ]
    },
    {
     "name": "stderr",
     "output_type": "stream",
     "text": [
      "INFO:sklearnex: sklearn.svm.SVC.predict: running accelerated version on CPU\n",
      "INFO:sklearnex: sklearn.svm.SVC.fit: running accelerated version on CPU\n"
     ]
    },
    {
     "name": "stdout",
     "output_type": "stream",
     "text": [
      "[CV 1/5] END .C=0.6, gamma=0.01, kernel=sigmoid;, score=0.887 total time=   0.3s\n"
     ]
    },
    {
     "name": "stderr",
     "output_type": "stream",
     "text": [
      "INFO:sklearnex: sklearn.svm.SVC.predict: running accelerated version on CPU\n",
      "INFO:sklearnex: sklearn.svm.SVC.fit: running accelerated version on CPU\n"
     ]
    },
    {
     "name": "stdout",
     "output_type": "stream",
     "text": [
      "[CV 2/5] END .C=0.6, gamma=0.01, kernel=sigmoid;, score=0.868 total time=   0.3s\n"
     ]
    },
    {
     "name": "stderr",
     "output_type": "stream",
     "text": [
      "INFO:sklearnex: sklearn.svm.SVC.predict: running accelerated version on CPU\n",
      "INFO:sklearnex: sklearn.svm.SVC.fit: running accelerated version on CPU\n"
     ]
    },
    {
     "name": "stdout",
     "output_type": "stream",
     "text": [
      "[CV 3/5] END .C=0.6, gamma=0.01, kernel=sigmoid;, score=0.855 total time=   0.3s\n"
     ]
    },
    {
     "name": "stderr",
     "output_type": "stream",
     "text": [
      "INFO:sklearnex: sklearn.svm.SVC.predict: running accelerated version on CPU\n",
      "INFO:sklearnex: sklearn.svm.SVC.fit: running accelerated version on CPU\n",
      "INFO:sklearnex: sklearn.svm.SVC.predict: running accelerated version on CPU\n"
     ]
    },
    {
     "name": "stdout",
     "output_type": "stream",
     "text": [
      "[CV 4/5] END .C=0.6, gamma=0.01, kernel=sigmoid;, score=0.854 total time=   0.3s\n"
     ]
    },
    {
     "name": "stderr",
     "output_type": "stream",
     "text": [
      "INFO:sklearnex: sklearn.svm.SVC.fit: running accelerated version on CPU\n"
     ]
    },
    {
     "name": "stdout",
     "output_type": "stream",
     "text": [
      "[CV 5/5] END .C=0.6, gamma=0.01, kernel=sigmoid;, score=0.924 total time=   0.3s\n"
     ]
    },
    {
     "name": "stderr",
     "output_type": "stream",
     "text": [
      "INFO:sklearnex: sklearn.svm.SVC.predict: running accelerated version on CPU\n",
      "INFO:sklearnex: sklearn.svm.SVC.fit: running accelerated version on CPU\n"
     ]
    },
    {
     "name": "stdout",
     "output_type": "stream",
     "text": [
      "[CV 1/5] END ..C=0.6, gamma=0.01, kernel=linear;, score=0.903 total time=   0.3s\n"
     ]
    },
    {
     "name": "stderr",
     "output_type": "stream",
     "text": [
      "INFO:sklearnex: sklearn.svm.SVC.predict: running accelerated version on CPU\n",
      "INFO:sklearnex: sklearn.svm.SVC.fit: running accelerated version on CPU\n"
     ]
    },
    {
     "name": "stdout",
     "output_type": "stream",
     "text": [
      "[CV 2/5] END ..C=0.6, gamma=0.01, kernel=linear;, score=0.901 total time=   0.3s\n"
     ]
    },
    {
     "name": "stderr",
     "output_type": "stream",
     "text": [
      "INFO:sklearnex: sklearn.svm.SVC.predict: running accelerated version on CPU\n",
      "INFO:sklearnex: sklearn.svm.SVC.fit: running accelerated version on CPU\n"
     ]
    },
    {
     "name": "stdout",
     "output_type": "stream",
     "text": [
      "[CV 3/5] END ..C=0.6, gamma=0.01, kernel=linear;, score=0.886 total time=   0.3s\n"
     ]
    },
    {
     "name": "stderr",
     "output_type": "stream",
     "text": [
      "INFO:sklearnex: sklearn.svm.SVC.predict: running accelerated version on CPU\n",
      "INFO:sklearnex: sklearn.svm.SVC.fit: running accelerated version on CPU\n"
     ]
    },
    {
     "name": "stdout",
     "output_type": "stream",
     "text": [
      "[CV 4/5] END ..C=0.6, gamma=0.01, kernel=linear;, score=0.882 total time=   0.3s\n"
     ]
    },
    {
     "name": "stderr",
     "output_type": "stream",
     "text": [
      "INFO:sklearnex: sklearn.svm.SVC.predict: running accelerated version on CPU\n",
      "INFO:sklearnex: sklearn.svm.SVC.fit: running accelerated version on CPU\n"
     ]
    },
    {
     "name": "stdout",
     "output_type": "stream",
     "text": [
      "[CV 5/5] END ..C=0.6, gamma=0.01, kernel=linear;, score=0.930 total time=   0.3s\n"
     ]
    },
    {
     "name": "stderr",
     "output_type": "stream",
     "text": [
      "INFO:sklearnex: sklearn.svm.SVC.predict: running accelerated version on CPU\n",
      "INFO:sklearnex: sklearn.svm.SVC.fit: running accelerated version on CPU\n"
     ]
    },
    {
     "name": "stdout",
     "output_type": "stream",
     "text": [
      "[CV 1/5] END ....C=0.6, gamma=0.001, kernel=rbf;, score=0.831 total time=   0.3s\n"
     ]
    },
    {
     "name": "stderr",
     "output_type": "stream",
     "text": [
      "INFO:sklearnex: sklearn.svm.SVC.predict: running accelerated version on CPU\n",
      "INFO:sklearnex: sklearn.svm.SVC.fit: running accelerated version on CPU\n"
     ]
    },
    {
     "name": "stdout",
     "output_type": "stream",
     "text": [
      "[CV 2/5] END ....C=0.6, gamma=0.001, kernel=rbf;, score=0.842 total time=   0.3s\n"
     ]
    },
    {
     "name": "stderr",
     "output_type": "stream",
     "text": [
      "INFO:sklearnex: sklearn.svm.SVC.predict: running accelerated version on CPU\n",
      "INFO:sklearnex: sklearn.svm.SVC.fit: running accelerated version on CPU\n"
     ]
    },
    {
     "name": "stdout",
     "output_type": "stream",
     "text": [
      "[CV 3/5] END ....C=0.6, gamma=0.001, kernel=rbf;, score=0.808 total time=   0.3s\n"
     ]
    },
    {
     "name": "stderr",
     "output_type": "stream",
     "text": [
      "INFO:sklearnex: sklearn.svm.SVC.predict: running accelerated version on CPU\n",
      "INFO:sklearnex: sklearn.svm.SVC.fit: running accelerated version on CPU\n"
     ]
    },
    {
     "name": "stdout",
     "output_type": "stream",
     "text": [
      "[CV 4/5] END ....C=0.6, gamma=0.001, kernel=rbf;, score=0.814 total time=   0.3s\n"
     ]
    },
    {
     "name": "stderr",
     "output_type": "stream",
     "text": [
      "INFO:sklearnex: sklearn.svm.SVC.predict: running accelerated version on CPU\n",
      "INFO:sklearnex: sklearn.svm.SVC.fit: running accelerated version on CPU\n"
     ]
    },
    {
     "name": "stdout",
     "output_type": "stream",
     "text": [
      "[CV 5/5] END ....C=0.6, gamma=0.001, kernel=rbf;, score=0.868 total time=   0.3s\n"
     ]
    },
    {
     "name": "stderr",
     "output_type": "stream",
     "text": [
      "INFO:sklearnex: sklearn.svm.SVC.predict: running accelerated version on CPU\n",
      "INFO:sklearnex: sklearn.svm.SVC.fit: running accelerated version on CPU\n"
     ]
    },
    {
     "name": "stdout",
     "output_type": "stream",
     "text": [
      "[CV 1/5] END ...C=0.6, gamma=0.001, kernel=poly;, score=0.333 total time=   0.3s\n"
     ]
    },
    {
     "name": "stderr",
     "output_type": "stream",
     "text": [
      "INFO:sklearnex: sklearn.svm.SVC.predict: running accelerated version on CPU\n",
      "INFO:sklearnex: sklearn.svm.SVC.fit: running accelerated version on CPU\n"
     ]
    },
    {
     "name": "stdout",
     "output_type": "stream",
     "text": [
      "[CV 2/5] END ...C=0.6, gamma=0.001, kernel=poly;, score=0.333 total time=   0.3s\n"
     ]
    },
    {
     "name": "stderr",
     "output_type": "stream",
     "text": [
      "INFO:sklearnex: sklearn.svm.SVC.predict: running accelerated version on CPU\n",
      "INFO:sklearnex: sklearn.svm.SVC.fit: running accelerated version on CPU\n"
     ]
    },
    {
     "name": "stdout",
     "output_type": "stream",
     "text": [
      "[CV 3/5] END ...C=0.6, gamma=0.001, kernel=poly;, score=0.333 total time=   0.3s\n"
     ]
    },
    {
     "name": "stderr",
     "output_type": "stream",
     "text": [
      "INFO:sklearnex: sklearn.svm.SVC.predict: running accelerated version on CPU\n",
      "INFO:sklearnex: sklearn.svm.SVC.fit: running accelerated version on CPU\n"
     ]
    },
    {
     "name": "stdout",
     "output_type": "stream",
     "text": [
      "[CV 4/5] END ...C=0.6, gamma=0.001, kernel=poly;, score=0.333 total time=   0.3s\n"
     ]
    },
    {
     "name": "stderr",
     "output_type": "stream",
     "text": [
      "INFO:sklearnex: sklearn.svm.SVC.predict: running accelerated version on CPU\n",
      "INFO:sklearnex: sklearn.svm.SVC.fit: running accelerated version on CPU\n"
     ]
    },
    {
     "name": "stdout",
     "output_type": "stream",
     "text": [
      "[CV 5/5] END ...C=0.6, gamma=0.001, kernel=poly;, score=0.333 total time=   0.3s\n"
     ]
    },
    {
     "name": "stderr",
     "output_type": "stream",
     "text": [
      "INFO:sklearnex: sklearn.svm.SVC.predict: running accelerated version on CPU\n",
      "INFO:sklearnex: sklearn.svm.SVC.fit: running accelerated version on CPU\n"
     ]
    },
    {
     "name": "stdout",
     "output_type": "stream",
     "text": [
      "[CV 1/5] END C=0.6, gamma=0.001, kernel=sigmoid;, score=0.806 total time=   0.3s\n"
     ]
    },
    {
     "name": "stderr",
     "output_type": "stream",
     "text": [
      "INFO:sklearnex: sklearn.svm.SVC.predict: running accelerated version on CPU\n",
      "INFO:sklearnex: sklearn.svm.SVC.fit: running accelerated version on CPU\n"
     ]
    },
    {
     "name": "stdout",
     "output_type": "stream",
     "text": [
      "[CV 2/5] END C=0.6, gamma=0.001, kernel=sigmoid;, score=0.815 total time=   0.3s\n"
     ]
    },
    {
     "name": "stderr",
     "output_type": "stream",
     "text": [
      "INFO:sklearnex: sklearn.svm.SVC.predict: running accelerated version on CPU\n",
      "INFO:sklearnex: sklearn.svm.SVC.fit: running accelerated version on CPU\n"
     ]
    },
    {
     "name": "stdout",
     "output_type": "stream",
     "text": [
      "[CV 3/5] END C=0.6, gamma=0.001, kernel=sigmoid;, score=0.772 total time=   0.3s\n"
     ]
    },
    {
     "name": "stderr",
     "output_type": "stream",
     "text": [
      "INFO:sklearnex: sklearn.svm.SVC.predict: running accelerated version on CPU\n",
      "INFO:sklearnex: sklearn.svm.SVC.fit: running accelerated version on CPU\n"
     ]
    },
    {
     "name": "stdout",
     "output_type": "stream",
     "text": [
      "[CV 4/5] END C=0.6, gamma=0.001, kernel=sigmoid;, score=0.792 total time=   0.3s\n"
     ]
    },
    {
     "name": "stderr",
     "output_type": "stream",
     "text": [
      "INFO:sklearnex: sklearn.svm.SVC.predict: running accelerated version on CPU\n",
      "INFO:sklearnex: sklearn.svm.SVC.fit: running accelerated version on CPU\n"
     ]
    },
    {
     "name": "stdout",
     "output_type": "stream",
     "text": [
      "[CV 5/5] END C=0.6, gamma=0.001, kernel=sigmoid;, score=0.837 total time=   0.3s\n"
     ]
    },
    {
     "name": "stderr",
     "output_type": "stream",
     "text": [
      "INFO:sklearnex: sklearn.svm.SVC.predict: running accelerated version on CPU\n",
      "INFO:sklearnex: sklearn.svm.SVC.fit: running accelerated version on CPU\n"
     ]
    },
    {
     "name": "stdout",
     "output_type": "stream",
     "text": [
      "[CV 1/5] END .C=0.6, gamma=0.001, kernel=linear;, score=0.903 total time=   0.3s\n"
     ]
    },
    {
     "name": "stderr",
     "output_type": "stream",
     "text": [
      "INFO:sklearnex: sklearn.svm.SVC.predict: running accelerated version on CPU\n",
      "INFO:sklearnex: sklearn.svm.SVC.fit: running accelerated version on CPU\n"
     ]
    },
    {
     "name": "stdout",
     "output_type": "stream",
     "text": [
      "[CV 2/5] END .C=0.6, gamma=0.001, kernel=linear;, score=0.901 total time=   0.3s\n"
     ]
    },
    {
     "name": "stderr",
     "output_type": "stream",
     "text": [
      "INFO:sklearnex: sklearn.svm.SVC.predict: running accelerated version on CPU\n",
      "INFO:sklearnex: sklearn.svm.SVC.fit: running accelerated version on CPU\n"
     ]
    },
    {
     "name": "stdout",
     "output_type": "stream",
     "text": [
      "[CV 3/5] END .C=0.6, gamma=0.001, kernel=linear;, score=0.886 total time=   0.3s\n"
     ]
    },
    {
     "name": "stderr",
     "output_type": "stream",
     "text": [
      "INFO:sklearnex: sklearn.svm.SVC.predict: running accelerated version on CPU\n",
      "INFO:sklearnex: sklearn.svm.SVC.fit: running accelerated version on CPU\n"
     ]
    },
    {
     "name": "stdout",
     "output_type": "stream",
     "text": [
      "[CV 4/5] END .C=0.6, gamma=0.001, kernel=linear;, score=0.882 total time=   0.3s\n"
     ]
    },
    {
     "name": "stderr",
     "output_type": "stream",
     "text": [
      "INFO:sklearnex: sklearn.svm.SVC.predict: running accelerated version on CPU\n",
      "INFO:sklearnex: sklearn.svm.SVC.fit: running accelerated version on CPU\n"
     ]
    },
    {
     "name": "stdout",
     "output_type": "stream",
     "text": [
      "[CV 5/5] END .C=0.6, gamma=0.001, kernel=linear;, score=0.930 total time=   0.3s\n"
     ]
    },
    {
     "name": "stderr",
     "output_type": "stream",
     "text": [
      "INFO:sklearnex: sklearn.svm.SVC.predict: running accelerated version on CPU\n",
      "INFO:sklearnex: sklearn.svm.SVC.fit: running accelerated version on CPU\n"
     ]
    },
    {
     "name": "stdout",
     "output_type": "stream",
     "text": [
      "[CV 1/5] END ......C=0.8, gamma=0.1, kernel=rbf;, score=0.908 total time=   0.2s\n"
     ]
    },
    {
     "name": "stderr",
     "output_type": "stream",
     "text": [
      "INFO:sklearnex: sklearn.svm.SVC.predict: running accelerated version on CPU\n",
      "INFO:sklearnex: sklearn.svm.SVC.fit: running accelerated version on CPU\n"
     ]
    },
    {
     "name": "stdout",
     "output_type": "stream",
     "text": [
      "[CV 2/5] END ......C=0.8, gamma=0.1, kernel=rbf;, score=0.886 total time=   0.2s\n"
     ]
    },
    {
     "name": "stderr",
     "output_type": "stream",
     "text": [
      "INFO:sklearnex: sklearn.svm.SVC.predict: running accelerated version on CPU\n",
      "INFO:sklearnex: sklearn.svm.SVC.fit: running accelerated version on CPU\n"
     ]
    },
    {
     "name": "stdout",
     "output_type": "stream",
     "text": [
      "[CV 3/5] END ......C=0.8, gamma=0.1, kernel=rbf;, score=0.882 total time=   0.2s\n"
     ]
    },
    {
     "name": "stderr",
     "output_type": "stream",
     "text": [
      "INFO:sklearnex: sklearn.svm.SVC.predict: running accelerated version on CPU\n",
      "INFO:sklearnex: sklearn.svm.SVC.fit: running accelerated version on CPU\n"
     ]
    },
    {
     "name": "stdout",
     "output_type": "stream",
     "text": [
      "[CV 4/5] END ......C=0.8, gamma=0.1, kernel=rbf;, score=0.876 total time=   0.2s\n"
     ]
    },
    {
     "name": "stderr",
     "output_type": "stream",
     "text": [
      "INFO:sklearnex: sklearn.svm.SVC.predict: running accelerated version on CPU\n",
      "INFO:sklearnex: sklearn.svm.SVC.fit: running accelerated version on CPU\n"
     ]
    },
    {
     "name": "stdout",
     "output_type": "stream",
     "text": [
      "[CV 5/5] END ......C=0.8, gamma=0.1, kernel=rbf;, score=0.928 total time=   0.2s\n"
     ]
    },
    {
     "name": "stderr",
     "output_type": "stream",
     "text": [
      "INFO:sklearnex: sklearn.svm.SVC.predict: running accelerated version on CPU\n",
      "INFO:sklearnex: sklearn.svm.SVC.fit: running accelerated version on CPU\n"
     ]
    },
    {
     "name": "stdout",
     "output_type": "stream",
     "text": [
      "[CV 1/5] END .....C=0.8, gamma=0.1, kernel=poly;, score=0.872 total time=   0.3s\n"
     ]
    },
    {
     "name": "stderr",
     "output_type": "stream",
     "text": [
      "INFO:sklearnex: sklearn.svm.SVC.predict: running accelerated version on CPU\n",
      "INFO:sklearnex: sklearn.svm.SVC.fit: running accelerated version on CPU\n"
     ]
    },
    {
     "name": "stdout",
     "output_type": "stream",
     "text": [
      "[CV 2/5] END .....C=0.8, gamma=0.1, kernel=poly;, score=0.852 total time=   0.3s\n"
     ]
    },
    {
     "name": "stderr",
     "output_type": "stream",
     "text": [
      "INFO:sklearnex: sklearn.svm.SVC.predict: running accelerated version on CPU\n",
      "INFO:sklearnex: sklearn.svm.SVC.fit: running accelerated version on CPU\n"
     ]
    },
    {
     "name": "stdout",
     "output_type": "stream",
     "text": [
      "[CV 3/5] END .....C=0.8, gamma=0.1, kernel=poly;, score=0.851 total time=   0.3s\n"
     ]
    },
    {
     "name": "stderr",
     "output_type": "stream",
     "text": [
      "INFO:sklearnex: sklearn.svm.SVC.predict: running accelerated version on CPU\n",
      "INFO:sklearnex: sklearn.svm.SVC.fit: running accelerated version on CPU\n"
     ]
    },
    {
     "name": "stdout",
     "output_type": "stream",
     "text": [
      "[CV 4/5] END .....C=0.8, gamma=0.1, kernel=poly;, score=0.837 total time=   0.3s\n"
     ]
    },
    {
     "name": "stderr",
     "output_type": "stream",
     "text": [
      "INFO:sklearnex: sklearn.svm.SVC.predict: running accelerated version on CPU\n",
      "INFO:sklearnex: sklearn.svm.SVC.fit: running accelerated version on CPU\n"
     ]
    },
    {
     "name": "stdout",
     "output_type": "stream",
     "text": [
      "[CV 5/5] END .....C=0.8, gamma=0.1, kernel=poly;, score=0.905 total time=   0.3s\n"
     ]
    },
    {
     "name": "stderr",
     "output_type": "stream",
     "text": [
      "INFO:sklearnex: sklearn.svm.SVC.predict: running accelerated version on CPU\n",
      "INFO:sklearnex: sklearn.svm.SVC.fit: running accelerated version on CPU\n"
     ]
    },
    {
     "name": "stdout",
     "output_type": "stream",
     "text": [
      "[CV 1/5] END ..C=0.8, gamma=0.1, kernel=sigmoid;, score=0.869 total time=   0.3s\n"
     ]
    },
    {
     "name": "stderr",
     "output_type": "stream",
     "text": [
      "INFO:sklearnex: sklearn.svm.SVC.predict: running accelerated version on CPU\n",
      "INFO:sklearnex: sklearn.svm.SVC.fit: running accelerated version on CPU\n"
     ]
    },
    {
     "name": "stdout",
     "output_type": "stream",
     "text": [
      "[CV 2/5] END ..C=0.8, gamma=0.1, kernel=sigmoid;, score=0.861 total time=   0.3s\n"
     ]
    },
    {
     "name": "stderr",
     "output_type": "stream",
     "text": [
      "INFO:sklearnex: sklearn.svm.SVC.predict: running accelerated version on CPU\n",
      "INFO:sklearnex: sklearn.svm.SVC.fit: running accelerated version on CPU\n"
     ]
    },
    {
     "name": "stdout",
     "output_type": "stream",
     "text": [
      "[CV 3/5] END ..C=0.8, gamma=0.1, kernel=sigmoid;, score=0.844 total time=   0.3s\n"
     ]
    },
    {
     "name": "stderr",
     "output_type": "stream",
     "text": [
      "INFO:sklearnex: sklearn.svm.SVC.predict: running accelerated version on CPU\n",
      "INFO:sklearnex: sklearn.svm.SVC.fit: running accelerated version on CPU\n"
     ]
    },
    {
     "name": "stdout",
     "output_type": "stream",
     "text": [
      "[CV 4/5] END ..C=0.8, gamma=0.1, kernel=sigmoid;, score=0.851 total time=   0.3s\n"
     ]
    },
    {
     "name": "stderr",
     "output_type": "stream",
     "text": [
      "INFO:sklearnex: sklearn.svm.SVC.predict: running accelerated version on CPU\n",
      "INFO:sklearnex: sklearn.svm.SVC.fit: running accelerated version on CPU\n"
     ]
    },
    {
     "name": "stdout",
     "output_type": "stream",
     "text": [
      "[CV 5/5] END ..C=0.8, gamma=0.1, kernel=sigmoid;, score=0.861 total time=   0.3s\n"
     ]
    },
    {
     "name": "stderr",
     "output_type": "stream",
     "text": [
      "INFO:sklearnex: sklearn.svm.SVC.predict: running accelerated version on CPU\n",
      "INFO:sklearnex: sklearn.svm.SVC.fit: running accelerated version on CPU\n"
     ]
    },
    {
     "name": "stdout",
     "output_type": "stream",
     "text": [
      "[CV 1/5] END ...C=0.8, gamma=0.1, kernel=linear;, score=0.903 total time=   0.3s\n"
     ]
    },
    {
     "name": "stderr",
     "output_type": "stream",
     "text": [
      "INFO:sklearnex: sklearn.svm.SVC.predict: running accelerated version on CPU\n",
      "INFO:sklearnex: sklearn.svm.SVC.fit: running accelerated version on CPU\n"
     ]
    },
    {
     "name": "stdout",
     "output_type": "stream",
     "text": [
      "[CV 2/5] END ...C=0.8, gamma=0.1, kernel=linear;, score=0.898 total time=   0.3s\n"
     ]
    },
    {
     "name": "stderr",
     "output_type": "stream",
     "text": [
      "INFO:sklearnex: sklearn.svm.SVC.predict: running accelerated version on CPU\n",
      "INFO:sklearnex: sklearn.svm.SVC.fit: running accelerated version on CPU\n"
     ]
    },
    {
     "name": "stdout",
     "output_type": "stream",
     "text": [
      "[CV 3/5] END ...C=0.8, gamma=0.1, kernel=linear;, score=0.885 total time=   0.3s\n"
     ]
    },
    {
     "name": "stderr",
     "output_type": "stream",
     "text": [
      "INFO:sklearnex: sklearn.svm.SVC.predict: running accelerated version on CPU\n",
      "INFO:sklearnex: sklearn.svm.SVC.fit: running accelerated version on CPU\n"
     ]
    },
    {
     "name": "stdout",
     "output_type": "stream",
     "text": [
      "[CV 4/5] END ...C=0.8, gamma=0.1, kernel=linear;, score=0.882 total time=   0.3s\n"
     ]
    },
    {
     "name": "stderr",
     "output_type": "stream",
     "text": [
      "INFO:sklearnex: sklearn.svm.SVC.predict: running accelerated version on CPU\n",
      "INFO:sklearnex: sklearn.svm.SVC.fit: running accelerated version on CPU\n"
     ]
    },
    {
     "name": "stdout",
     "output_type": "stream",
     "text": [
      "[CV 5/5] END ...C=0.8, gamma=0.1, kernel=linear;, score=0.930 total time=   0.3s\n"
     ]
    },
    {
     "name": "stderr",
     "output_type": "stream",
     "text": [
      "INFO:sklearnex: sklearn.svm.SVC.predict: running accelerated version on CPU\n",
      "INFO:sklearnex: sklearn.svm.SVC.fit: running accelerated version on CPU\n"
     ]
    },
    {
     "name": "stdout",
     "output_type": "stream",
     "text": [
      "[CV 1/5] END .....C=0.8, gamma=0.01, kernel=rbf;, score=0.894 total time=   0.3s\n"
     ]
    },
    {
     "name": "stderr",
     "output_type": "stream",
     "text": [
      "INFO:sklearnex: sklearn.svm.SVC.predict: running accelerated version on CPU\n",
      "INFO:sklearnex: sklearn.svm.SVC.fit: running accelerated version on CPU\n"
     ]
    },
    {
     "name": "stdout",
     "output_type": "stream",
     "text": [
      "[CV 2/5] END .....C=0.8, gamma=0.01, kernel=rbf;, score=0.883 total time=   0.3s\n"
     ]
    },
    {
     "name": "stderr",
     "output_type": "stream",
     "text": [
      "INFO:sklearnex: sklearn.svm.SVC.predict: running accelerated version on CPU\n",
      "INFO:sklearnex: sklearn.svm.SVC.fit: running accelerated version on CPU\n"
     ]
    },
    {
     "name": "stdout",
     "output_type": "stream",
     "text": [
      "[CV 3/5] END .....C=0.8, gamma=0.01, kernel=rbf;, score=0.866 total time=   0.2s\n"
     ]
    },
    {
     "name": "stderr",
     "output_type": "stream",
     "text": [
      "INFO:sklearnex: sklearn.svm.SVC.predict: running accelerated version on CPU\n",
      "INFO:sklearnex: sklearn.svm.SVC.fit: running accelerated version on CPU\n"
     ]
    },
    {
     "name": "stdout",
     "output_type": "stream",
     "text": [
      "[CV 4/5] END .....C=0.8, gamma=0.01, kernel=rbf;, score=0.865 total time=   0.2s\n"
     ]
    },
    {
     "name": "stderr",
     "output_type": "stream",
     "text": [
      "INFO:sklearnex: sklearn.svm.SVC.predict: running accelerated version on CPU\n",
      "INFO:sklearnex: sklearn.svm.SVC.fit: running accelerated version on CPU\n"
     ]
    },
    {
     "name": "stdout",
     "output_type": "stream",
     "text": [
      "[CV 5/5] END .....C=0.8, gamma=0.01, kernel=rbf;, score=0.926 total time=   0.2s\n"
     ]
    },
    {
     "name": "stderr",
     "output_type": "stream",
     "text": [
      "INFO:sklearnex: sklearn.svm.SVC.predict: running accelerated version on CPU\n",
      "INFO:sklearnex: sklearn.svm.SVC.fit: running accelerated version on CPU\n"
     ]
    },
    {
     "name": "stdout",
     "output_type": "stream",
     "text": [
      "[CV 1/5] END ....C=0.8, gamma=0.01, kernel=poly;, score=0.596 total time=   0.3s\n"
     ]
    },
    {
     "name": "stderr",
     "output_type": "stream",
     "text": [
      "INFO:sklearnex: sklearn.svm.SVC.predict: running accelerated version on CPU\n",
      "INFO:sklearnex: sklearn.svm.SVC.fit: running accelerated version on CPU\n"
     ]
    },
    {
     "name": "stdout",
     "output_type": "stream",
     "text": [
      "[CV 2/5] END ....C=0.8, gamma=0.01, kernel=poly;, score=0.630 total time=   0.3s\n"
     ]
    },
    {
     "name": "stderr",
     "output_type": "stream",
     "text": [
      "INFO:sklearnex: sklearn.svm.SVC.predict: running accelerated version on CPU\n",
      "INFO:sklearnex: sklearn.svm.SVC.fit: running accelerated version on CPU\n",
      "INFO:sklearnex: sklearn.svm.SVC.predict: running accelerated version on CPU\n"
     ]
    },
    {
     "name": "stdout",
     "output_type": "stream",
     "text": [
      "[CV 3/5] END ....C=0.8, gamma=0.01, kernel=poly;, score=0.621 total time=   0.3s\n"
     ]
    },
    {
     "name": "stderr",
     "output_type": "stream",
     "text": [
      "INFO:sklearnex: sklearn.svm.SVC.fit: running accelerated version on CPU\n"
     ]
    },
    {
     "name": "stdout",
     "output_type": "stream",
     "text": [
      "[CV 4/5] END ....C=0.8, gamma=0.01, kernel=poly;, score=0.580 total time=   0.3s\n"
     ]
    },
    {
     "name": "stderr",
     "output_type": "stream",
     "text": [
      "INFO:sklearnex: sklearn.svm.SVC.predict: running accelerated version on CPU\n",
      "INFO:sklearnex: sklearn.svm.SVC.fit: running accelerated version on CPU\n"
     ]
    },
    {
     "name": "stdout",
     "output_type": "stream",
     "text": [
      "[CV 5/5] END ....C=0.8, gamma=0.01, kernel=poly;, score=0.635 total time=   0.3s\n"
     ]
    },
    {
     "name": "stderr",
     "output_type": "stream",
     "text": [
      "INFO:sklearnex: sklearn.svm.SVC.predict: running accelerated version on CPU\n",
      "INFO:sklearnex: sklearn.svm.SVC.fit: running accelerated version on CPU\n"
     ]
    },
    {
     "name": "stdout",
     "output_type": "stream",
     "text": [
      "[CV 1/5] END .C=0.8, gamma=0.01, kernel=sigmoid;, score=0.890 total time=   0.3s\n"
     ]
    },
    {
     "name": "stderr",
     "output_type": "stream",
     "text": [
      "INFO:sklearnex: sklearn.svm.SVC.predict: running accelerated version on CPU\n",
      "INFO:sklearnex: sklearn.svm.SVC.fit: running accelerated version on CPU\n"
     ]
    },
    {
     "name": "stdout",
     "output_type": "stream",
     "text": [
      "[CV 2/5] END .C=0.8, gamma=0.01, kernel=sigmoid;, score=0.878 total time=   0.3s\n"
     ]
    },
    {
     "name": "stderr",
     "output_type": "stream",
     "text": [
      "INFO:sklearnex: sklearn.svm.SVC.predict: running accelerated version on CPU\n",
      "INFO:sklearnex: sklearn.svm.SVC.fit: running accelerated version on CPU\n"
     ]
    },
    {
     "name": "stdout",
     "output_type": "stream",
     "text": [
      "[CV 3/5] END .C=0.8, gamma=0.01, kernel=sigmoid;, score=0.861 total time=   0.3s\n"
     ]
    },
    {
     "name": "stderr",
     "output_type": "stream",
     "text": [
      "INFO:sklearnex: sklearn.svm.SVC.predict: running accelerated version on CPU\n",
      "INFO:sklearnex: sklearn.svm.SVC.fit: running accelerated version on CPU\n"
     ]
    },
    {
     "name": "stdout",
     "output_type": "stream",
     "text": [
      "[CV 4/5] END .C=0.8, gamma=0.01, kernel=sigmoid;, score=0.859 total time=   0.3s\n"
     ]
    },
    {
     "name": "stderr",
     "output_type": "stream",
     "text": [
      "INFO:sklearnex: sklearn.svm.SVC.predict: running accelerated version on CPU\n",
      "INFO:sklearnex: sklearn.svm.SVC.fit: running accelerated version on CPU\n"
     ]
    },
    {
     "name": "stdout",
     "output_type": "stream",
     "text": [
      "[CV 5/5] END .C=0.8, gamma=0.01, kernel=sigmoid;, score=0.925 total time=   0.3s\n"
     ]
    },
    {
     "name": "stderr",
     "output_type": "stream",
     "text": [
      "INFO:sklearnex: sklearn.svm.SVC.predict: running accelerated version on CPU\n",
      "INFO:sklearnex: sklearn.svm.SVC.fit: running accelerated version on CPU\n"
     ]
    },
    {
     "name": "stdout",
     "output_type": "stream",
     "text": [
      "[CV 1/5] END ..C=0.8, gamma=0.01, kernel=linear;, score=0.903 total time=   0.3s\n"
     ]
    },
    {
     "name": "stderr",
     "output_type": "stream",
     "text": [
      "INFO:sklearnex: sklearn.svm.SVC.predict: running accelerated version on CPU\n",
      "INFO:sklearnex: sklearn.svm.SVC.fit: running accelerated version on CPU\n"
     ]
    },
    {
     "name": "stdout",
     "output_type": "stream",
     "text": [
      "[CV 2/5] END ..C=0.8, gamma=0.01, kernel=linear;, score=0.898 total time=   0.3s\n"
     ]
    },
    {
     "name": "stderr",
     "output_type": "stream",
     "text": [
      "INFO:sklearnex: sklearn.svm.SVC.predict: running accelerated version on CPU\n",
      "INFO:sklearnex: sklearn.svm.SVC.fit: running accelerated version on CPU\n"
     ]
    },
    {
     "name": "stdout",
     "output_type": "stream",
     "text": [
      "[CV 3/5] END ..C=0.8, gamma=0.01, kernel=linear;, score=0.885 total time=   0.3s\n"
     ]
    },
    {
     "name": "stderr",
     "output_type": "stream",
     "text": [
      "INFO:sklearnex: sklearn.svm.SVC.predict: running accelerated version on CPU\n",
      "INFO:sklearnex: sklearn.svm.SVC.fit: running accelerated version on CPU\n"
     ]
    },
    {
     "name": "stdout",
     "output_type": "stream",
     "text": [
      "[CV 4/5] END ..C=0.8, gamma=0.01, kernel=linear;, score=0.882 total time=   0.3s\n"
     ]
    },
    {
     "name": "stderr",
     "output_type": "stream",
     "text": [
      "INFO:sklearnex: sklearn.svm.SVC.predict: running accelerated version on CPU\n",
      "INFO:sklearnex: sklearn.svm.SVC.fit: running accelerated version on CPU\n"
     ]
    },
    {
     "name": "stdout",
     "output_type": "stream",
     "text": [
      "[CV 5/5] END ..C=0.8, gamma=0.01, kernel=linear;, score=0.930 total time=   0.3s\n"
     ]
    },
    {
     "name": "stderr",
     "output_type": "stream",
     "text": [
      "INFO:sklearnex: sklearn.svm.SVC.predict: running accelerated version on CPU\n",
      "INFO:sklearnex: sklearn.svm.SVC.fit: running accelerated version on CPU\n"
     ]
    },
    {
     "name": "stdout",
     "output_type": "stream",
     "text": [
      "[CV 1/5] END ....C=0.8, gamma=0.001, kernel=rbf;, score=0.844 total time=   0.2s\n"
     ]
    },
    {
     "name": "stderr",
     "output_type": "stream",
     "text": [
      "INFO:sklearnex: sklearn.svm.SVC.predict: running accelerated version on CPU\n",
      "INFO:sklearnex: sklearn.svm.SVC.fit: running accelerated version on CPU\n"
     ]
    },
    {
     "name": "stdout",
     "output_type": "stream",
     "text": [
      "[CV 2/5] END ....C=0.8, gamma=0.001, kernel=rbf;, score=0.847 total time=   0.2s\n"
     ]
    },
    {
     "name": "stderr",
     "output_type": "stream",
     "text": [
      "INFO:sklearnex: sklearn.svm.SVC.predict: running accelerated version on CPU\n",
      "INFO:sklearnex: sklearn.svm.SVC.fit: running accelerated version on CPU\n"
     ]
    },
    {
     "name": "stdout",
     "output_type": "stream",
     "text": [
      "[CV 3/5] END ....C=0.8, gamma=0.001, kernel=rbf;, score=0.832 total time=   0.2s\n"
     ]
    },
    {
     "name": "stderr",
     "output_type": "stream",
     "text": [
      "INFO:sklearnex: sklearn.svm.SVC.predict: running accelerated version on CPU\n",
      "INFO:sklearnex: sklearn.svm.SVC.fit: running accelerated version on CPU\n"
     ]
    },
    {
     "name": "stdout",
     "output_type": "stream",
     "text": [
      "[CV 4/5] END ....C=0.8, gamma=0.001, kernel=rbf;, score=0.828 total time=   0.2s\n"
     ]
    },
    {
     "name": "stderr",
     "output_type": "stream",
     "text": [
      "INFO:sklearnex: sklearn.svm.SVC.predict: running accelerated version on CPU\n",
      "INFO:sklearnex: sklearn.svm.SVC.fit: running accelerated version on CPU\n"
     ]
    },
    {
     "name": "stdout",
     "output_type": "stream",
     "text": [
      "[CV 5/5] END ....C=0.8, gamma=0.001, kernel=rbf;, score=0.882 total time=   0.2s\n"
     ]
    },
    {
     "name": "stderr",
     "output_type": "stream",
     "text": [
      "INFO:sklearnex: sklearn.svm.SVC.predict: running accelerated version on CPU\n",
      "INFO:sklearnex: sklearn.svm.SVC.fit: running accelerated version on CPU\n"
     ]
    },
    {
     "name": "stdout",
     "output_type": "stream",
     "text": [
      "[CV 1/5] END ...C=0.8, gamma=0.001, kernel=poly;, score=0.333 total time=   0.3s\n"
     ]
    },
    {
     "name": "stderr",
     "output_type": "stream",
     "text": [
      "INFO:sklearnex: sklearn.svm.SVC.predict: running accelerated version on CPU\n",
      "INFO:sklearnex: sklearn.svm.SVC.fit: running accelerated version on CPU\n"
     ]
    },
    {
     "name": "stdout",
     "output_type": "stream",
     "text": [
      "[CV 2/5] END ...C=0.8, gamma=0.001, kernel=poly;, score=0.333 total time=   0.3s\n"
     ]
    },
    {
     "name": "stderr",
     "output_type": "stream",
     "text": [
      "INFO:sklearnex: sklearn.svm.SVC.predict: running accelerated version on CPU\n",
      "INFO:sklearnex: sklearn.svm.SVC.fit: running accelerated version on CPU\n"
     ]
    },
    {
     "name": "stdout",
     "output_type": "stream",
     "text": [
      "[CV 3/5] END ...C=0.8, gamma=0.001, kernel=poly;, score=0.333 total time=   0.3s\n"
     ]
    },
    {
     "name": "stderr",
     "output_type": "stream",
     "text": [
      "INFO:sklearnex: sklearn.svm.SVC.predict: running accelerated version on CPU\n",
      "INFO:sklearnex: sklearn.svm.SVC.fit: running accelerated version on CPU\n"
     ]
    },
    {
     "name": "stdout",
     "output_type": "stream",
     "text": [
      "[CV 4/5] END ...C=0.8, gamma=0.001, kernel=poly;, score=0.333 total time=   0.3s\n"
     ]
    },
    {
     "name": "stderr",
     "output_type": "stream",
     "text": [
      "INFO:sklearnex: sklearn.svm.SVC.predict: running accelerated version on CPU\n",
      "INFO:sklearnex: sklearn.svm.SVC.fit: running accelerated version on CPU\n"
     ]
    },
    {
     "name": "stdout",
     "output_type": "stream",
     "text": [
      "[CV 5/5] END ...C=0.8, gamma=0.001, kernel=poly;, score=0.333 total time=   0.3s\n"
     ]
    },
    {
     "name": "stderr",
     "output_type": "stream",
     "text": [
      "INFO:sklearnex: sklearn.svm.SVC.predict: running accelerated version on CPU\n",
      "INFO:sklearnex: sklearn.svm.SVC.fit: running accelerated version on CPU\n"
     ]
    },
    {
     "name": "stdout",
     "output_type": "stream",
     "text": [
      "[CV 1/5] END C=0.8, gamma=0.001, kernel=sigmoid;, score=0.820 total time=   0.3s\n"
     ]
    },
    {
     "name": "stderr",
     "output_type": "stream",
     "text": [
      "INFO:sklearnex: sklearn.svm.SVC.predict: running accelerated version on CPU\n",
      "INFO:sklearnex: sklearn.svm.SVC.fit: running accelerated version on CPU\n"
     ]
    },
    {
     "name": "stdout",
     "output_type": "stream",
     "text": [
      "[CV 2/5] END C=0.8, gamma=0.001, kernel=sigmoid;, score=0.826 total time=   0.3s\n"
     ]
    },
    {
     "name": "stderr",
     "output_type": "stream",
     "text": [
      "INFO:sklearnex: sklearn.svm.SVC.predict: running accelerated version on CPU\n",
      "INFO:sklearnex: sklearn.svm.SVC.fit: running accelerated version on CPU\n"
     ]
    },
    {
     "name": "stdout",
     "output_type": "stream",
     "text": [
      "[CV 3/5] END C=0.8, gamma=0.001, kernel=sigmoid;, score=0.785 total time=   0.3s\n"
     ]
    },
    {
     "name": "stderr",
     "output_type": "stream",
     "text": [
      "INFO:sklearnex: sklearn.svm.SVC.predict: running accelerated version on CPU\n",
      "INFO:sklearnex: sklearn.svm.SVC.fit: running accelerated version on CPU\n"
     ]
    },
    {
     "name": "stdout",
     "output_type": "stream",
     "text": [
      "[CV 4/5] END C=0.8, gamma=0.001, kernel=sigmoid;, score=0.803 total time=   0.3s\n"
     ]
    },
    {
     "name": "stderr",
     "output_type": "stream",
     "text": [
      "INFO:sklearnex: sklearn.svm.SVC.predict: running accelerated version on CPU\n",
      "INFO:sklearnex: sklearn.svm.SVC.fit: running accelerated version on CPU\n"
     ]
    },
    {
     "name": "stdout",
     "output_type": "stream",
     "text": [
      "[CV 5/5] END C=0.8, gamma=0.001, kernel=sigmoid;, score=0.847 total time=   0.3s\n"
     ]
    },
    {
     "name": "stderr",
     "output_type": "stream",
     "text": [
      "INFO:sklearnex: sklearn.svm.SVC.predict: running accelerated version on CPU\n",
      "INFO:sklearnex: sklearn.svm.SVC.fit: running accelerated version on CPU\n"
     ]
    },
    {
     "name": "stdout",
     "output_type": "stream",
     "text": [
      "[CV 1/5] END .C=0.8, gamma=0.001, kernel=linear;, score=0.903 total time=   0.3s\n"
     ]
    },
    {
     "name": "stderr",
     "output_type": "stream",
     "text": [
      "INFO:sklearnex: sklearn.svm.SVC.predict: running accelerated version on CPU\n",
      "INFO:sklearnex: sklearn.svm.SVC.fit: running accelerated version on CPU\n"
     ]
    },
    {
     "name": "stdout",
     "output_type": "stream",
     "text": [
      "[CV 2/5] END .C=0.8, gamma=0.001, kernel=linear;, score=0.898 total time=   0.3s\n"
     ]
    },
    {
     "name": "stderr",
     "output_type": "stream",
     "text": [
      "INFO:sklearnex: sklearn.svm.SVC.predict: running accelerated version on CPU\n",
      "INFO:sklearnex: sklearn.svm.SVC.fit: running accelerated version on CPU\n"
     ]
    },
    {
     "name": "stdout",
     "output_type": "stream",
     "text": [
      "[CV 3/5] END .C=0.8, gamma=0.001, kernel=linear;, score=0.885 total time=   0.3s\n"
     ]
    },
    {
     "name": "stderr",
     "output_type": "stream",
     "text": [
      "INFO:sklearnex: sklearn.svm.SVC.predict: running accelerated version on CPU\n",
      "INFO:sklearnex: sklearn.svm.SVC.fit: running accelerated version on CPU\n"
     ]
    },
    {
     "name": "stdout",
     "output_type": "stream",
     "text": [
      "[CV 4/5] END .C=0.8, gamma=0.001, kernel=linear;, score=0.882 total time=   0.3s\n"
     ]
    },
    {
     "name": "stderr",
     "output_type": "stream",
     "text": [
      "INFO:sklearnex: sklearn.svm.SVC.predict: running accelerated version on CPU\n",
      "INFO:sklearnex: sklearn.svm.SVC.fit: running accelerated version on CPU\n"
     ]
    },
    {
     "name": "stdout",
     "output_type": "stream",
     "text": [
      "[CV 5/5] END .C=0.8, gamma=0.001, kernel=linear;, score=0.930 total time=   0.3s\n"
     ]
    },
    {
     "name": "stderr",
     "output_type": "stream",
     "text": [
      "INFO:sklearnex: sklearn.svm.SVC.predict: running accelerated version on CPU\n",
      "INFO:sklearnex: sklearn.svm.SVC.fit: running accelerated version on CPU\n"
     ]
    },
    {
     "name": "stdout",
     "output_type": "stream",
     "text": [
      "[CV 1/5] END ........C=1, gamma=0.1, kernel=rbf;, score=0.908 total time=   0.2s\n"
     ]
    },
    {
     "name": "stderr",
     "output_type": "stream",
     "text": [
      "INFO:sklearnex: sklearn.svm.SVC.predict: running accelerated version on CPU\n",
      "INFO:sklearnex: sklearn.svm.SVC.fit: running accelerated version on CPU\n"
     ]
    },
    {
     "name": "stdout",
     "output_type": "stream",
     "text": [
      "[CV 2/5] END ........C=1, gamma=0.1, kernel=rbf;, score=0.889 total time=   0.2s\n"
     ]
    },
    {
     "name": "stderr",
     "output_type": "stream",
     "text": [
      "INFO:sklearnex: sklearn.svm.SVC.predict: running accelerated version on CPU\n",
      "INFO:sklearnex: sklearn.svm.SVC.fit: running accelerated version on CPU\n"
     ]
    },
    {
     "name": "stdout",
     "output_type": "stream",
     "text": [
      "[CV 3/5] END ........C=1, gamma=0.1, kernel=rbf;, score=0.878 total time=   0.2s\n"
     ]
    },
    {
     "name": "stderr",
     "output_type": "stream",
     "text": [
      "INFO:sklearnex: sklearn.svm.SVC.predict: running accelerated version on CPU\n",
      "INFO:sklearnex: sklearn.svm.SVC.fit: running accelerated version on CPU\n"
     ]
    },
    {
     "name": "stdout",
     "output_type": "stream",
     "text": [
      "[CV 4/5] END ........C=1, gamma=0.1, kernel=rbf;, score=0.873 total time=   0.2s\n"
     ]
    },
    {
     "name": "stderr",
     "output_type": "stream",
     "text": [
      "INFO:sklearnex: sklearn.svm.SVC.predict: running accelerated version on CPU\n",
      "INFO:sklearnex: sklearn.svm.SVC.fit: running accelerated version on CPU\n"
     ]
    },
    {
     "name": "stdout",
     "output_type": "stream",
     "text": [
      "[CV 5/5] END ........C=1, gamma=0.1, kernel=rbf;, score=0.928 total time=   0.2s\n"
     ]
    },
    {
     "name": "stderr",
     "output_type": "stream",
     "text": [
      "INFO:sklearnex: sklearn.svm.SVC.predict: running accelerated version on CPU\n",
      "INFO:sklearnex: sklearn.svm.SVC.fit: running accelerated version on CPU\n"
     ]
    },
    {
     "name": "stdout",
     "output_type": "stream",
     "text": [
      "[CV 1/5] END .......C=1, gamma=0.1, kernel=poly;, score=0.877 total time=   0.3s\n"
     ]
    },
    {
     "name": "stderr",
     "output_type": "stream",
     "text": [
      "INFO:sklearnex: sklearn.svm.SVC.predict: running accelerated version on CPU\n",
      "INFO:sklearnex: sklearn.svm.SVC.fit: running accelerated version on CPU\n"
     ]
    },
    {
     "name": "stdout",
     "output_type": "stream",
     "text": [
      "[CV 2/5] END .......C=1, gamma=0.1, kernel=poly;, score=0.857 total time=   0.3s\n"
     ]
    },
    {
     "name": "stderr",
     "output_type": "stream",
     "text": [
      "INFO:sklearnex: sklearn.svm.SVC.predict: running accelerated version on CPU\n",
      "INFO:sklearnex: sklearn.svm.SVC.fit: running accelerated version on CPU\n"
     ]
    },
    {
     "name": "stdout",
     "output_type": "stream",
     "text": [
      "[CV 3/5] END .......C=1, gamma=0.1, kernel=poly;, score=0.851 total time=   0.3s\n"
     ]
    },
    {
     "name": "stderr",
     "output_type": "stream",
     "text": [
      "INFO:sklearnex: sklearn.svm.SVC.predict: running accelerated version on CPU\n",
      "INFO:sklearnex: sklearn.svm.SVC.fit: running accelerated version on CPU\n"
     ]
    },
    {
     "name": "stdout",
     "output_type": "stream",
     "text": [
      "[CV 4/5] END .......C=1, gamma=0.1, kernel=poly;, score=0.843 total time=   0.3s\n"
     ]
    },
    {
     "name": "stderr",
     "output_type": "stream",
     "text": [
      "INFO:sklearnex: sklearn.svm.SVC.predict: running accelerated version on CPU\n",
      "INFO:sklearnex: sklearn.svm.SVC.fit: running accelerated version on CPU\n"
     ]
    },
    {
     "name": "stdout",
     "output_type": "stream",
     "text": [
      "[CV 5/5] END .......C=1, gamma=0.1, kernel=poly;, score=0.904 total time=   0.3s\n"
     ]
    },
    {
     "name": "stderr",
     "output_type": "stream",
     "text": [
      "INFO:sklearnex: sklearn.svm.SVC.predict: running accelerated version on CPU\n",
      "INFO:sklearnex: sklearn.svm.SVC.fit: running accelerated version on CPU\n"
     ]
    },
    {
     "name": "stdout",
     "output_type": "stream",
     "text": [
      "[CV 1/5] END ....C=1, gamma=0.1, kernel=sigmoid;, score=0.868 total time=   0.3s\n"
     ]
    },
    {
     "name": "stderr",
     "output_type": "stream",
     "text": [
      "INFO:sklearnex: sklearn.svm.SVC.predict: running accelerated version on CPU\n",
      "INFO:sklearnex: sklearn.svm.SVC.fit: running accelerated version on CPU\n"
     ]
    },
    {
     "name": "stdout",
     "output_type": "stream",
     "text": [
      "[CV 2/5] END ....C=1, gamma=0.1, kernel=sigmoid;, score=0.855 total time=   0.3s\n"
     ]
    },
    {
     "name": "stderr",
     "output_type": "stream",
     "text": [
      "INFO:sklearnex: sklearn.svm.SVC.predict: running accelerated version on CPU\n",
      "INFO:sklearnex: sklearn.svm.SVC.fit: running accelerated version on CPU\n"
     ]
    },
    {
     "name": "stdout",
     "output_type": "stream",
     "text": [
      "[CV 3/5] END ....C=1, gamma=0.1, kernel=sigmoid;, score=0.835 total time=   0.3s\n"
     ]
    },
    {
     "name": "stderr",
     "output_type": "stream",
     "text": [
      "INFO:sklearnex: sklearn.svm.SVC.predict: running accelerated version on CPU\n",
      "INFO:sklearnex: sklearn.svm.SVC.fit: running accelerated version on CPU\n"
     ]
    },
    {
     "name": "stdout",
     "output_type": "stream",
     "text": [
      "[CV 4/5] END ....C=1, gamma=0.1, kernel=sigmoid;, score=0.845 total time=   0.3s\n"
     ]
    },
    {
     "name": "stderr",
     "output_type": "stream",
     "text": [
      "INFO:sklearnex: sklearn.svm.SVC.predict: running accelerated version on CPU\n",
      "INFO:sklearnex: sklearn.svm.SVC.fit: running accelerated version on CPU\n"
     ]
    },
    {
     "name": "stdout",
     "output_type": "stream",
     "text": [
      "[CV 5/5] END ....C=1, gamma=0.1, kernel=sigmoid;, score=0.848 total time=   0.3s\n"
     ]
    },
    {
     "name": "stderr",
     "output_type": "stream",
     "text": [
      "INFO:sklearnex: sklearn.svm.SVC.predict: running accelerated version on CPU\n",
      "INFO:sklearnex: sklearn.svm.SVC.fit: running accelerated version on CPU\n"
     ]
    },
    {
     "name": "stdout",
     "output_type": "stream",
     "text": [
      "[CV 1/5] END .....C=1, gamma=0.1, kernel=linear;, score=0.899 total time=   0.3s\n"
     ]
    },
    {
     "name": "stderr",
     "output_type": "stream",
     "text": [
      "INFO:sklearnex: sklearn.svm.SVC.predict: running accelerated version on CPU\n",
      "INFO:sklearnex: sklearn.svm.SVC.fit: running accelerated version on CPU\n"
     ]
    },
    {
     "name": "stdout",
     "output_type": "stream",
     "text": [
      "[CV 2/5] END .....C=1, gamma=0.1, kernel=linear;, score=0.898 total time=   0.3s\n"
     ]
    },
    {
     "name": "stderr",
     "output_type": "stream",
     "text": [
      "INFO:sklearnex: sklearn.svm.SVC.predict: running accelerated version on CPU\n",
      "INFO:sklearnex: sklearn.svm.SVC.fit: running accelerated version on CPU\n"
     ]
    },
    {
     "name": "stdout",
     "output_type": "stream",
     "text": [
      "[CV 3/5] END .....C=1, gamma=0.1, kernel=linear;, score=0.885 total time=   0.3s\n"
     ]
    },
    {
     "name": "stderr",
     "output_type": "stream",
     "text": [
      "INFO:sklearnex: sklearn.svm.SVC.predict: running accelerated version on CPU\n",
      "INFO:sklearnex: sklearn.svm.SVC.fit: running accelerated version on CPU\n"
     ]
    },
    {
     "name": "stdout",
     "output_type": "stream",
     "text": [
      "[CV 4/5] END .....C=1, gamma=0.1, kernel=linear;, score=0.885 total time=   0.3s\n"
     ]
    },
    {
     "name": "stderr",
     "output_type": "stream",
     "text": [
      "INFO:sklearnex: sklearn.svm.SVC.predict: running accelerated version on CPU\n",
      "INFO:sklearnex: sklearn.svm.SVC.fit: running accelerated version on CPU\n"
     ]
    },
    {
     "name": "stdout",
     "output_type": "stream",
     "text": [
      "[CV 5/5] END .....C=1, gamma=0.1, kernel=linear;, score=0.930 total time=   0.3s\n"
     ]
    },
    {
     "name": "stderr",
     "output_type": "stream",
     "text": [
      "INFO:sklearnex: sklearn.svm.SVC.predict: running accelerated version on CPU\n",
      "INFO:sklearnex: sklearn.svm.SVC.fit: running accelerated version on CPU\n"
     ]
    },
    {
     "name": "stdout",
     "output_type": "stream",
     "text": [
      "[CV 1/5] END .......C=1, gamma=0.01, kernel=rbf;, score=0.895 total time=   0.3s\n"
     ]
    },
    {
     "name": "stderr",
     "output_type": "stream",
     "text": [
      "INFO:sklearnex: sklearn.svm.SVC.predict: running accelerated version on CPU\n",
      "INFO:sklearnex: sklearn.svm.SVC.fit: running accelerated version on CPU\n"
     ]
    },
    {
     "name": "stdout",
     "output_type": "stream",
     "text": [
      "[CV 2/5] END .......C=1, gamma=0.01, kernel=rbf;, score=0.881 total time=   0.2s\n"
     ]
    },
    {
     "name": "stderr",
     "output_type": "stream",
     "text": [
      "INFO:sklearnex: sklearn.svm.SVC.predict: running accelerated version on CPU\n",
      "INFO:sklearnex: sklearn.svm.SVC.fit: running accelerated version on CPU\n"
     ]
    },
    {
     "name": "stdout",
     "output_type": "stream",
     "text": [
      "[CV 3/5] END .......C=1, gamma=0.01, kernel=rbf;, score=0.866 total time=   0.2s\n"
     ]
    },
    {
     "name": "stderr",
     "output_type": "stream",
     "text": [
      "INFO:sklearnex: sklearn.svm.SVC.predict: running accelerated version on CPU\n",
      "INFO:sklearnex: sklearn.svm.SVC.fit: running accelerated version on CPU\n"
     ]
    },
    {
     "name": "stdout",
     "output_type": "stream",
     "text": [
      "[CV 4/5] END .......C=1, gamma=0.01, kernel=rbf;, score=0.863 total time=   0.2s\n"
     ]
    },
    {
     "name": "stderr",
     "output_type": "stream",
     "text": [
      "INFO:sklearnex: sklearn.svm.SVC.predict: running accelerated version on CPU\n",
      "INFO:sklearnex: sklearn.svm.SVC.fit: running accelerated version on CPU\n"
     ]
    },
    {
     "name": "stdout",
     "output_type": "stream",
     "text": [
      "[CV 5/5] END .......C=1, gamma=0.01, kernel=rbf;, score=0.926 total time=   0.2s\n"
     ]
    },
    {
     "name": "stderr",
     "output_type": "stream",
     "text": [
      "INFO:sklearnex: sklearn.svm.SVC.predict: running accelerated version on CPU\n",
      "INFO:sklearnex: sklearn.svm.SVC.fit: running accelerated version on CPU\n"
     ]
    },
    {
     "name": "stdout",
     "output_type": "stream",
     "text": [
      "[CV 1/5] END ......C=1, gamma=0.01, kernel=poly;, score=0.604 total time=   0.3s\n"
     ]
    },
    {
     "name": "stderr",
     "output_type": "stream",
     "text": [
      "INFO:sklearnex: sklearn.svm.SVC.predict: running accelerated version on CPU\n",
      "INFO:sklearnex: sklearn.svm.SVC.fit: running accelerated version on CPU\n"
     ]
    },
    {
     "name": "stdout",
     "output_type": "stream",
     "text": [
      "[CV 2/5] END ......C=1, gamma=0.01, kernel=poly;, score=0.643 total time=   0.3s\n"
     ]
    },
    {
     "name": "stderr",
     "output_type": "stream",
     "text": [
      "INFO:sklearnex: sklearn.svm.SVC.predict: running accelerated version on CPU\n",
      "INFO:sklearnex: sklearn.svm.SVC.fit: running accelerated version on CPU\n"
     ]
    },
    {
     "name": "stdout",
     "output_type": "stream",
     "text": [
      "[CV 3/5] END ......C=1, gamma=0.01, kernel=poly;, score=0.623 total time=   0.3s\n"
     ]
    },
    {
     "name": "stderr",
     "output_type": "stream",
     "text": [
      "INFO:sklearnex: sklearn.svm.SVC.predict: running accelerated version on CPU\n",
      "INFO:sklearnex: sklearn.svm.SVC.fit: running accelerated version on CPU\n"
     ]
    },
    {
     "name": "stdout",
     "output_type": "stream",
     "text": [
      "[CV 4/5] END ......C=1, gamma=0.01, kernel=poly;, score=0.591 total time=   0.3s\n"
     ]
    },
    {
     "name": "stderr",
     "output_type": "stream",
     "text": [
      "INFO:sklearnex: sklearn.svm.SVC.predict: running accelerated version on CPU\n",
      "INFO:sklearnex: sklearn.svm.SVC.fit: running accelerated version on CPU\n"
     ]
    },
    {
     "name": "stdout",
     "output_type": "stream",
     "text": [
      "[CV 5/5] END ......C=1, gamma=0.01, kernel=poly;, score=0.645 total time=   0.3s\n"
     ]
    },
    {
     "name": "stderr",
     "output_type": "stream",
     "text": [
      "INFO:sklearnex: sklearn.svm.SVC.predict: running accelerated version on CPU\n",
      "INFO:sklearnex: sklearn.svm.SVC.fit: running accelerated version on CPU\n"
     ]
    },
    {
     "name": "stdout",
     "output_type": "stream",
     "text": [
      "[CV 1/5] END ...C=1, gamma=0.01, kernel=sigmoid;, score=0.891 total time=   0.3s\n"
     ]
    },
    {
     "name": "stderr",
     "output_type": "stream",
     "text": [
      "INFO:sklearnex: sklearn.svm.SVC.predict: running accelerated version on CPU\n",
      "INFO:sklearnex: sklearn.svm.SVC.fit: running accelerated version on CPU\n"
     ]
    },
    {
     "name": "stdout",
     "output_type": "stream",
     "text": [
      "[CV 2/5] END ...C=1, gamma=0.01, kernel=sigmoid;, score=0.881 total time=   0.3s\n"
     ]
    },
    {
     "name": "stderr",
     "output_type": "stream",
     "text": [
      "INFO:sklearnex: sklearn.svm.SVC.predict: running accelerated version on CPU\n",
      "INFO:sklearnex: sklearn.svm.SVC.fit: running accelerated version on CPU\n"
     ]
    },
    {
     "name": "stdout",
     "output_type": "stream",
     "text": [
      "[CV 3/5] END ...C=1, gamma=0.01, kernel=sigmoid;, score=0.861 total time=   0.3s\n"
     ]
    },
    {
     "name": "stderr",
     "output_type": "stream",
     "text": [
      "INFO:sklearnex: sklearn.svm.SVC.predict: running accelerated version on CPU\n",
      "INFO:sklearnex: sklearn.svm.SVC.fit: running accelerated version on CPU\n"
     ]
    },
    {
     "name": "stdout",
     "output_type": "stream",
     "text": [
      "[CV 4/5] END ...C=1, gamma=0.01, kernel=sigmoid;, score=0.862 total time=   0.3s\n"
     ]
    },
    {
     "name": "stderr",
     "output_type": "stream",
     "text": [
      "INFO:sklearnex: sklearn.svm.SVC.predict: running accelerated version on CPU\n",
      "INFO:sklearnex: sklearn.svm.SVC.fit: running accelerated version on CPU\n"
     ]
    },
    {
     "name": "stdout",
     "output_type": "stream",
     "text": [
      "[CV 5/5] END ...C=1, gamma=0.01, kernel=sigmoid;, score=0.927 total time=   0.3s\n"
     ]
    },
    {
     "name": "stderr",
     "output_type": "stream",
     "text": [
      "INFO:sklearnex: sklearn.svm.SVC.predict: running accelerated version on CPU\n",
      "INFO:sklearnex: sklearn.svm.SVC.fit: running accelerated version on CPU\n"
     ]
    },
    {
     "name": "stdout",
     "output_type": "stream",
     "text": [
      "[CV 1/5] END ....C=1, gamma=0.01, kernel=linear;, score=0.899 total time=   0.3s\n"
     ]
    },
    {
     "name": "stderr",
     "output_type": "stream",
     "text": [
      "INFO:sklearnex: sklearn.svm.SVC.predict: running accelerated version on CPU\n",
      "INFO:sklearnex: sklearn.svm.SVC.fit: running accelerated version on CPU\n"
     ]
    },
    {
     "name": "stdout",
     "output_type": "stream",
     "text": [
      "[CV 2/5] END ....C=1, gamma=0.01, kernel=linear;, score=0.898 total time=   0.3s\n"
     ]
    },
    {
     "name": "stderr",
     "output_type": "stream",
     "text": [
      "INFO:sklearnex: sklearn.svm.SVC.predict: running accelerated version on CPU\n",
      "INFO:sklearnex: sklearn.svm.SVC.fit: running accelerated version on CPU\n"
     ]
    },
    {
     "name": "stdout",
     "output_type": "stream",
     "text": [
      "[CV 3/5] END ....C=1, gamma=0.01, kernel=linear;, score=0.885 total time=   0.3s\n"
     ]
    },
    {
     "name": "stderr",
     "output_type": "stream",
     "text": [
      "INFO:sklearnex: sklearn.svm.SVC.predict: running accelerated version on CPU\n",
      "INFO:sklearnex: sklearn.svm.SVC.fit: running accelerated version on CPU\n"
     ]
    },
    {
     "name": "stdout",
     "output_type": "stream",
     "text": [
      "[CV 4/5] END ....C=1, gamma=0.01, kernel=linear;, score=0.885 total time=   0.3s\n"
     ]
    },
    {
     "name": "stderr",
     "output_type": "stream",
     "text": [
      "INFO:sklearnex: sklearn.svm.SVC.predict: running accelerated version on CPU\n",
      "INFO:sklearnex: sklearn.svm.SVC.fit: running accelerated version on CPU\n",
      "INFO:sklearnex: sklearn.svm.SVC.predict: running accelerated version on CPU\n"
     ]
    },
    {
     "name": "stdout",
     "output_type": "stream",
     "text": [
      "[CV 5/5] END ....C=1, gamma=0.01, kernel=linear;, score=0.930 total time=   0.3s\n"
     ]
    },
    {
     "name": "stderr",
     "output_type": "stream",
     "text": [
      "INFO:sklearnex: sklearn.svm.SVC.fit: running accelerated version on CPU\n"
     ]
    },
    {
     "name": "stdout",
     "output_type": "stream",
     "text": [
      "[CV 1/5] END ......C=1, gamma=0.001, kernel=rbf;, score=0.854 total time=   0.3s\n"
     ]
    },
    {
     "name": "stderr",
     "output_type": "stream",
     "text": [
      "INFO:sklearnex: sklearn.svm.SVC.predict: running accelerated version on CPU\n",
      "INFO:sklearnex: sklearn.svm.SVC.fit: running accelerated version on CPU\n"
     ]
    },
    {
     "name": "stdout",
     "output_type": "stream",
     "text": [
      "[CV 2/5] END ......C=1, gamma=0.001, kernel=rbf;, score=0.852 total time=   0.3s\n"
     ]
    },
    {
     "name": "stderr",
     "output_type": "stream",
     "text": [
      "INFO:sklearnex: sklearn.svm.SVC.predict: running accelerated version on CPU\n",
      "INFO:sklearnex: sklearn.svm.SVC.fit: running accelerated version on CPU\n"
     ]
    },
    {
     "name": "stdout",
     "output_type": "stream",
     "text": [
      "[CV 3/5] END ......C=1, gamma=0.001, kernel=rbf;, score=0.835 total time=   0.2s\n"
     ]
    },
    {
     "name": "stderr",
     "output_type": "stream",
     "text": [
      "INFO:sklearnex: sklearn.svm.SVC.predict: running accelerated version on CPU\n",
      "INFO:sklearnex: sklearn.svm.SVC.fit: running accelerated version on CPU\n",
      "INFO:sklearnex: sklearn.svm.SVC.predict: running accelerated version on CPU\n"
     ]
    },
    {
     "name": "stdout",
     "output_type": "stream",
     "text": [
      "[CV 4/5] END ......C=1, gamma=0.001, kernel=rbf;, score=0.831 total time=   0.2s\n"
     ]
    },
    {
     "name": "stderr",
     "output_type": "stream",
     "text": [
      "INFO:sklearnex: sklearn.svm.SVC.fit: running accelerated version on CPU\n"
     ]
    },
    {
     "name": "stdout",
     "output_type": "stream",
     "text": [
      "[CV 5/5] END ......C=1, gamma=0.001, kernel=rbf;, score=0.897 total time=   0.3s\n"
     ]
    },
    {
     "name": "stderr",
     "output_type": "stream",
     "text": [
      "INFO:sklearnex: sklearn.svm.SVC.predict: running accelerated version on CPU\n",
      "INFO:sklearnex: sklearn.svm.SVC.fit: running accelerated version on CPU\n"
     ]
    },
    {
     "name": "stdout",
     "output_type": "stream",
     "text": [
      "[CV 1/5] END .....C=1, gamma=0.001, kernel=poly;, score=0.333 total time=   0.3s\n"
     ]
    },
    {
     "name": "stderr",
     "output_type": "stream",
     "text": [
      "INFO:sklearnex: sklearn.svm.SVC.predict: running accelerated version on CPU\n",
      "INFO:sklearnex: sklearn.svm.SVC.fit: running accelerated version on CPU\n"
     ]
    },
    {
     "name": "stdout",
     "output_type": "stream",
     "text": [
      "[CV 2/5] END .....C=1, gamma=0.001, kernel=poly;, score=0.333 total time=   0.3s\n"
     ]
    },
    {
     "name": "stderr",
     "output_type": "stream",
     "text": [
      "INFO:sklearnex: sklearn.svm.SVC.predict: running accelerated version on CPU\n",
      "INFO:sklearnex: sklearn.svm.SVC.fit: running accelerated version on CPU\n"
     ]
    },
    {
     "name": "stdout",
     "output_type": "stream",
     "text": [
      "[CV 3/5] END .....C=1, gamma=0.001, kernel=poly;, score=0.333 total time=   0.3s\n"
     ]
    },
    {
     "name": "stderr",
     "output_type": "stream",
     "text": [
      "INFO:sklearnex: sklearn.svm.SVC.predict: running accelerated version on CPU\n",
      "INFO:sklearnex: sklearn.svm.SVC.fit: running accelerated version on CPU\n"
     ]
    },
    {
     "name": "stdout",
     "output_type": "stream",
     "text": [
      "[CV 4/5] END .....C=1, gamma=0.001, kernel=poly;, score=0.333 total time=   0.3s\n"
     ]
    },
    {
     "name": "stderr",
     "output_type": "stream",
     "text": [
      "INFO:sklearnex: sklearn.svm.SVC.predict: running accelerated version on CPU\n",
      "INFO:sklearnex: sklearn.svm.SVC.fit: running accelerated version on CPU\n"
     ]
    },
    {
     "name": "stdout",
     "output_type": "stream",
     "text": [
      "[CV 5/5] END .....C=1, gamma=0.001, kernel=poly;, score=0.333 total time=   0.3s\n"
     ]
    },
    {
     "name": "stderr",
     "output_type": "stream",
     "text": [
      "INFO:sklearnex: sklearn.svm.SVC.predict: running accelerated version on CPU\n",
      "INFO:sklearnex: sklearn.svm.SVC.fit: running accelerated version on CPU\n"
     ]
    },
    {
     "name": "stdout",
     "output_type": "stream",
     "text": [
      "[CV 1/5] END ..C=1, gamma=0.001, kernel=sigmoid;, score=0.822 total time=   0.3s\n"
     ]
    },
    {
     "name": "stderr",
     "output_type": "stream",
     "text": [
      "INFO:sklearnex: sklearn.svm.SVC.predict: running accelerated version on CPU\n",
      "INFO:sklearnex: sklearn.svm.SVC.fit: running accelerated version on CPU\n"
     ]
    },
    {
     "name": "stdout",
     "output_type": "stream",
     "text": [
      "[CV 2/5] END ..C=1, gamma=0.001, kernel=sigmoid;, score=0.838 total time=   0.3s\n"
     ]
    },
    {
     "name": "stderr",
     "output_type": "stream",
     "text": [
      "INFO:sklearnex: sklearn.svm.SVC.predict: running accelerated version on CPU\n",
      "INFO:sklearnex: sklearn.svm.SVC.fit: running accelerated version on CPU\n"
     ]
    },
    {
     "name": "stdout",
     "output_type": "stream",
     "text": [
      "[CV 3/5] END ..C=1, gamma=0.001, kernel=sigmoid;, score=0.791 total time=   0.3s\n"
     ]
    },
    {
     "name": "stderr",
     "output_type": "stream",
     "text": [
      "INFO:sklearnex: sklearn.svm.SVC.predict: running accelerated version on CPU\n",
      "INFO:sklearnex: sklearn.svm.SVC.fit: running accelerated version on CPU\n"
     ]
    },
    {
     "name": "stdout",
     "output_type": "stream",
     "text": [
      "[CV 4/5] END ..C=1, gamma=0.001, kernel=sigmoid;, score=0.807 total time=   0.3s\n"
     ]
    },
    {
     "name": "stderr",
     "output_type": "stream",
     "text": [
      "INFO:sklearnex: sklearn.svm.SVC.predict: running accelerated version on CPU\n",
      "INFO:sklearnex: sklearn.svm.SVC.fit: running accelerated version on CPU\n"
     ]
    },
    {
     "name": "stdout",
     "output_type": "stream",
     "text": [
      "[CV 5/5] END ..C=1, gamma=0.001, kernel=sigmoid;, score=0.859 total time=   0.3s\n"
     ]
    },
    {
     "name": "stderr",
     "output_type": "stream",
     "text": [
      "INFO:sklearnex: sklearn.svm.SVC.predict: running accelerated version on CPU\n",
      "INFO:sklearnex: sklearn.svm.SVC.fit: running accelerated version on CPU\n"
     ]
    },
    {
     "name": "stdout",
     "output_type": "stream",
     "text": [
      "[CV 1/5] END ...C=1, gamma=0.001, kernel=linear;, score=0.899 total time=   0.3s\n"
     ]
    },
    {
     "name": "stderr",
     "output_type": "stream",
     "text": [
      "INFO:sklearnex: sklearn.svm.SVC.predict: running accelerated version on CPU\n",
      "INFO:sklearnex: sklearn.svm.SVC.fit: running accelerated version on CPU\n"
     ]
    },
    {
     "name": "stdout",
     "output_type": "stream",
     "text": [
      "[CV 2/5] END ...C=1, gamma=0.001, kernel=linear;, score=0.898 total time=   0.3s\n"
     ]
    },
    {
     "name": "stderr",
     "output_type": "stream",
     "text": [
      "INFO:sklearnex: sklearn.svm.SVC.predict: running accelerated version on CPU\n",
      "INFO:sklearnex: sklearn.svm.SVC.fit: running accelerated version on CPU\n"
     ]
    },
    {
     "name": "stdout",
     "output_type": "stream",
     "text": [
      "[CV 3/5] END ...C=1, gamma=0.001, kernel=linear;, score=0.885 total time=   0.3s\n"
     ]
    },
    {
     "name": "stderr",
     "output_type": "stream",
     "text": [
      "INFO:sklearnex: sklearn.svm.SVC.predict: running accelerated version on CPU\n",
      "INFO:sklearnex: sklearn.svm.SVC.fit: running accelerated version on CPU\n"
     ]
    },
    {
     "name": "stdout",
     "output_type": "stream",
     "text": [
      "[CV 4/5] END ...C=1, gamma=0.001, kernel=linear;, score=0.885 total time=   0.3s\n"
     ]
    },
    {
     "name": "stderr",
     "output_type": "stream",
     "text": [
      "INFO:sklearnex: sklearn.svm.SVC.predict: running accelerated version on CPU\n",
      "INFO:sklearnex: sklearn.svm.SVC.fit: running accelerated version on CPU\n"
     ]
    },
    {
     "name": "stdout",
     "output_type": "stream",
     "text": [
      "[CV 5/5] END ...C=1, gamma=0.001, kernel=linear;, score=0.930 total time=   0.3s\n"
     ]
    },
    {
     "name": "stderr",
     "output_type": "stream",
     "text": [
      "INFO:sklearnex: sklearn.svm.SVC.predict: running accelerated version on CPU\n",
      "INFO:sklearnex: sklearn.svm.SVC.fit: running accelerated version on CPU\n"
     ]
    },
    {
     "name": "stdout",
     "output_type": "stream",
     "text": [
      "[CV 1/5] END ......C=1.2, gamma=0.1, kernel=rbf;, score=0.906 total time=   0.2s\n"
     ]
    },
    {
     "name": "stderr",
     "output_type": "stream",
     "text": [
      "INFO:sklearnex: sklearn.svm.SVC.predict: running accelerated version on CPU\n",
      "INFO:sklearnex: sklearn.svm.SVC.fit: running accelerated version on CPU\n"
     ]
    },
    {
     "name": "stdout",
     "output_type": "stream",
     "text": [
      "[CV 2/5] END ......C=1.2, gamma=0.1, kernel=rbf;, score=0.892 total time=   0.2s\n"
     ]
    },
    {
     "name": "stderr",
     "output_type": "stream",
     "text": [
      "INFO:sklearnex: sklearn.svm.SVC.predict: running accelerated version on CPU\n",
      "INFO:sklearnex: sklearn.svm.SVC.fit: running accelerated version on CPU\n"
     ]
    },
    {
     "name": "stdout",
     "output_type": "stream",
     "text": [
      "[CV 3/5] END ......C=1.2, gamma=0.1, kernel=rbf;, score=0.882 total time=   0.2s\n"
     ]
    },
    {
     "name": "stderr",
     "output_type": "stream",
     "text": [
      "INFO:sklearnex: sklearn.svm.SVC.predict: running accelerated version on CPU\n",
      "INFO:sklearnex: sklearn.svm.SVC.fit: running accelerated version on CPU\n"
     ]
    },
    {
     "name": "stdout",
     "output_type": "stream",
     "text": [
      "[CV 4/5] END ......C=1.2, gamma=0.1, kernel=rbf;, score=0.873 total time=   0.2s\n"
     ]
    },
    {
     "name": "stderr",
     "output_type": "stream",
     "text": [
      "INFO:sklearnex: sklearn.svm.SVC.predict: running accelerated version on CPU\n",
      "INFO:sklearnex: sklearn.svm.SVC.fit: running accelerated version on CPU\n"
     ]
    },
    {
     "name": "stdout",
     "output_type": "stream",
     "text": [
      "[CV 5/5] END ......C=1.2, gamma=0.1, kernel=rbf;, score=0.928 total time=   0.2s\n"
     ]
    },
    {
     "name": "stderr",
     "output_type": "stream",
     "text": [
      "INFO:sklearnex: sklearn.svm.SVC.predict: running accelerated version on CPU\n",
      "INFO:sklearnex: sklearn.svm.SVC.fit: running accelerated version on CPU\n"
     ]
    },
    {
     "name": "stdout",
     "output_type": "stream",
     "text": [
      "[CV 1/5] END .....C=1.2, gamma=0.1, kernel=poly;, score=0.880 total time=   0.3s\n"
     ]
    },
    {
     "name": "stderr",
     "output_type": "stream",
     "text": [
      "INFO:sklearnex: sklearn.svm.SVC.predict: running accelerated version on CPU\n",
      "INFO:sklearnex: sklearn.svm.SVC.fit: running accelerated version on CPU\n"
     ]
    },
    {
     "name": "stdout",
     "output_type": "stream",
     "text": [
      "[CV 2/5] END .....C=1.2, gamma=0.1, kernel=poly;, score=0.868 total time=   0.3s\n"
     ]
    },
    {
     "name": "stderr",
     "output_type": "stream",
     "text": [
      "INFO:sklearnex: sklearn.svm.SVC.predict: running accelerated version on CPU\n",
      "INFO:sklearnex: sklearn.svm.SVC.fit: running accelerated version on CPU\n"
     ]
    },
    {
     "name": "stdout",
     "output_type": "stream",
     "text": [
      "[CV 3/5] END .....C=1.2, gamma=0.1, kernel=poly;, score=0.854 total time=   0.3s\n"
     ]
    },
    {
     "name": "stderr",
     "output_type": "stream",
     "text": [
      "INFO:sklearnex: sklearn.svm.SVC.predict: running accelerated version on CPU\n",
      "INFO:sklearnex: sklearn.svm.SVC.fit: running accelerated version on CPU\n"
     ]
    },
    {
     "name": "stdout",
     "output_type": "stream",
     "text": [
      "[CV 4/5] END .....C=1.2, gamma=0.1, kernel=poly;, score=0.841 total time=   0.3s\n"
     ]
    },
    {
     "name": "stderr",
     "output_type": "stream",
     "text": [
      "INFO:sklearnex: sklearn.svm.SVC.predict: running accelerated version on CPU\n",
      "INFO:sklearnex: sklearn.svm.SVC.fit: running accelerated version on CPU\n"
     ]
    },
    {
     "name": "stdout",
     "output_type": "stream",
     "text": [
      "[CV 5/5] END .....C=1.2, gamma=0.1, kernel=poly;, score=0.910 total time=   0.3s\n"
     ]
    },
    {
     "name": "stderr",
     "output_type": "stream",
     "text": [
      "INFO:sklearnex: sklearn.svm.SVC.predict: running accelerated version on CPU\n",
      "INFO:sklearnex: sklearn.svm.SVC.fit: running accelerated version on CPU\n"
     ]
    },
    {
     "name": "stdout",
     "output_type": "stream",
     "text": [
      "[CV 1/5] END ..C=1.2, gamma=0.1, kernel=sigmoid;, score=0.868 total time=   0.3s\n"
     ]
    },
    {
     "name": "stderr",
     "output_type": "stream",
     "text": [
      "INFO:sklearnex: sklearn.svm.SVC.predict: running accelerated version on CPU\n",
      "INFO:sklearnex: sklearn.svm.SVC.fit: running accelerated version on CPU\n"
     ]
    },
    {
     "name": "stdout",
     "output_type": "stream",
     "text": [
      "[CV 2/5] END ..C=1.2, gamma=0.1, kernel=sigmoid;, score=0.852 total time=   0.3s\n"
     ]
    },
    {
     "name": "stderr",
     "output_type": "stream",
     "text": [
      "INFO:sklearnex: sklearn.svm.SVC.predict: running accelerated version on CPU\n",
      "INFO:sklearnex: sklearn.svm.SVC.fit: running accelerated version on CPU\n"
     ]
    },
    {
     "name": "stdout",
     "output_type": "stream",
     "text": [
      "[CV 3/5] END ..C=1.2, gamma=0.1, kernel=sigmoid;, score=0.825 total time=   0.3s\n"
     ]
    },
    {
     "name": "stderr",
     "output_type": "stream",
     "text": [
      "INFO:sklearnex: sklearn.svm.SVC.predict: running accelerated version on CPU\n",
      "INFO:sklearnex: sklearn.svm.SVC.fit: running accelerated version on CPU\n"
     ]
    },
    {
     "name": "stdout",
     "output_type": "stream",
     "text": [
      "[CV 4/5] END ..C=1.2, gamma=0.1, kernel=sigmoid;, score=0.842 total time=   0.3s\n"
     ]
    },
    {
     "name": "stderr",
     "output_type": "stream",
     "text": [
      "INFO:sklearnex: sklearn.svm.SVC.predict: running accelerated version on CPU\n",
      "INFO:sklearnex: sklearn.svm.SVC.fit: running accelerated version on CPU\n"
     ]
    },
    {
     "name": "stdout",
     "output_type": "stream",
     "text": [
      "[CV 5/5] END ..C=1.2, gamma=0.1, kernel=sigmoid;, score=0.847 total time=   0.3s\n"
     ]
    },
    {
     "name": "stderr",
     "output_type": "stream",
     "text": [
      "INFO:sklearnex: sklearn.svm.SVC.predict: running accelerated version on CPU\n",
      "INFO:sklearnex: sklearn.svm.SVC.fit: running accelerated version on CPU\n"
     ]
    },
    {
     "name": "stdout",
     "output_type": "stream",
     "text": [
      "[CV 1/5] END ...C=1.2, gamma=0.1, kernel=linear;, score=0.899 total time=   0.3s\n"
     ]
    },
    {
     "name": "stderr",
     "output_type": "stream",
     "text": [
      "INFO:sklearnex: sklearn.svm.SVC.predict: running accelerated version on CPU\n",
      "INFO:sklearnex: sklearn.svm.SVC.fit: running accelerated version on CPU\n"
     ]
    },
    {
     "name": "stdout",
     "output_type": "stream",
     "text": [
      "[CV 2/5] END ...C=1.2, gamma=0.1, kernel=linear;, score=0.898 total time=   0.3s\n"
     ]
    },
    {
     "name": "stderr",
     "output_type": "stream",
     "text": [
      "INFO:sklearnex: sklearn.svm.SVC.predict: running accelerated version on CPU\n",
      "INFO:sklearnex: sklearn.svm.SVC.fit: running accelerated version on CPU\n"
     ]
    },
    {
     "name": "stdout",
     "output_type": "stream",
     "text": [
      "[CV 3/5] END ...C=1.2, gamma=0.1, kernel=linear;, score=0.885 total time=   0.3s\n"
     ]
    },
    {
     "name": "stderr",
     "output_type": "stream",
     "text": [
      "INFO:sklearnex: sklearn.svm.SVC.predict: running accelerated version on CPU\n",
      "INFO:sklearnex: sklearn.svm.SVC.fit: running accelerated version on CPU\n"
     ]
    },
    {
     "name": "stdout",
     "output_type": "stream",
     "text": [
      "[CV 4/5] END ...C=1.2, gamma=0.1, kernel=linear;, score=0.888 total time=   0.3s\n"
     ]
    },
    {
     "name": "stderr",
     "output_type": "stream",
     "text": [
      "INFO:sklearnex: sklearn.svm.SVC.predict: running accelerated version on CPU\n",
      "INFO:sklearnex: sklearn.svm.SVC.fit: running accelerated version on CPU\n"
     ]
    },
    {
     "name": "stdout",
     "output_type": "stream",
     "text": [
      "[CV 5/5] END ...C=1.2, gamma=0.1, kernel=linear;, score=0.930 total time=   0.3s\n"
     ]
    },
    {
     "name": "stderr",
     "output_type": "stream",
     "text": [
      "INFO:sklearnex: sklearn.svm.SVC.predict: running accelerated version on CPU\n",
      "INFO:sklearnex: sklearn.svm.SVC.fit: running accelerated version on CPU\n"
     ]
    },
    {
     "name": "stdout",
     "output_type": "stream",
     "text": [
      "[CV 1/5] END .....C=1.2, gamma=0.01, kernel=rbf;, score=0.895 total time=   0.2s\n"
     ]
    },
    {
     "name": "stderr",
     "output_type": "stream",
     "text": [
      "INFO:sklearnex: sklearn.svm.SVC.predict: running accelerated version on CPU\n",
      "INFO:sklearnex: sklearn.svm.SVC.fit: running accelerated version on CPU\n"
     ]
    },
    {
     "name": "stdout",
     "output_type": "stream",
     "text": [
      "[CV 2/5] END .....C=1.2, gamma=0.01, kernel=rbf;, score=0.890 total time=   0.3s\n"
     ]
    },
    {
     "name": "stderr",
     "output_type": "stream",
     "text": [
      "INFO:sklearnex: sklearn.svm.SVC.predict: running accelerated version on CPU\n",
      "INFO:sklearnex: sklearn.svm.SVC.fit: running accelerated version on CPU\n"
     ]
    },
    {
     "name": "stdout",
     "output_type": "stream",
     "text": [
      "[CV 3/5] END .....C=1.2, gamma=0.01, kernel=rbf;, score=0.877 total time=   0.3s\n"
     ]
    },
    {
     "name": "stderr",
     "output_type": "stream",
     "text": [
      "INFO:sklearnex: sklearn.svm.SVC.predict: running accelerated version on CPU\n",
      "INFO:sklearnex: sklearn.svm.SVC.fit: running accelerated version on CPU\n"
     ]
    },
    {
     "name": "stdout",
     "output_type": "stream",
     "text": [
      "[CV 4/5] END .....C=1.2, gamma=0.01, kernel=rbf;, score=0.869 total time=   0.2s\n"
     ]
    },
    {
     "name": "stderr",
     "output_type": "stream",
     "text": [
      "INFO:sklearnex: sklearn.svm.SVC.predict: running accelerated version on CPU\n",
      "INFO:sklearnex: sklearn.svm.SVC.fit: running accelerated version on CPU\n"
     ]
    },
    {
     "name": "stdout",
     "output_type": "stream",
     "text": [
      "[CV 5/5] END .....C=1.2, gamma=0.01, kernel=rbf;, score=0.926 total time=   0.2s\n"
     ]
    },
    {
     "name": "stderr",
     "output_type": "stream",
     "text": [
      "INFO:sklearnex: sklearn.svm.SVC.predict: running accelerated version on CPU\n",
      "INFO:sklearnex: sklearn.svm.SVC.fit: running accelerated version on CPU\n"
     ]
    },
    {
     "name": "stdout",
     "output_type": "stream",
     "text": [
      "[CV 1/5] END ....C=1.2, gamma=0.01, kernel=poly;, score=0.616 total time=   0.3s\n"
     ]
    },
    {
     "name": "stderr",
     "output_type": "stream",
     "text": [
      "INFO:sklearnex: sklearn.svm.SVC.predict: running accelerated version on CPU\n",
      "INFO:sklearnex: sklearn.svm.SVC.fit: running accelerated version on CPU\n"
     ]
    },
    {
     "name": "stdout",
     "output_type": "stream",
     "text": [
      "[CV 2/5] END ....C=1.2, gamma=0.01, kernel=poly;, score=0.644 total time=   0.3s\n"
     ]
    },
    {
     "name": "stderr",
     "output_type": "stream",
     "text": [
      "INFO:sklearnex: sklearn.svm.SVC.predict: running accelerated version on CPU\n",
      "INFO:sklearnex: sklearn.svm.SVC.fit: running accelerated version on CPU\n"
     ]
    },
    {
     "name": "stdout",
     "output_type": "stream",
     "text": [
      "[CV 3/5] END ....C=1.2, gamma=0.01, kernel=poly;, score=0.630 total time=   0.3s\n"
     ]
    },
    {
     "name": "stderr",
     "output_type": "stream",
     "text": [
      "INFO:sklearnex: sklearn.svm.SVC.predict: running accelerated version on CPU\n",
      "INFO:sklearnex: sklearn.svm.SVC.fit: running accelerated version on CPU\n"
     ]
    },
    {
     "name": "stdout",
     "output_type": "stream",
     "text": [
      "[CV 4/5] END ....C=1.2, gamma=0.01, kernel=poly;, score=0.593 total time=   0.3s\n"
     ]
    },
    {
     "name": "stderr",
     "output_type": "stream",
     "text": [
      "INFO:sklearnex: sklearn.svm.SVC.predict: running accelerated version on CPU\n",
      "INFO:sklearnex: sklearn.svm.SVC.fit: running accelerated version on CPU\n"
     ]
    },
    {
     "name": "stdout",
     "output_type": "stream",
     "text": [
      "[CV 5/5] END ....C=1.2, gamma=0.01, kernel=poly;, score=0.643 total time=   0.3s\n"
     ]
    },
    {
     "name": "stderr",
     "output_type": "stream",
     "text": [
      "INFO:sklearnex: sklearn.svm.SVC.predict: running accelerated version on CPU\n",
      "INFO:sklearnex: sklearn.svm.SVC.fit: running accelerated version on CPU\n"
     ]
    },
    {
     "name": "stdout",
     "output_type": "stream",
     "text": [
      "[CV 1/5] END .C=1.2, gamma=0.01, kernel=sigmoid;, score=0.894 total time=   0.3s\n"
     ]
    },
    {
     "name": "stderr",
     "output_type": "stream",
     "text": [
      "INFO:sklearnex: sklearn.svm.SVC.predict: running accelerated version on CPU\n",
      "INFO:sklearnex: sklearn.svm.SVC.fit: running accelerated version on CPU\n"
     ]
    },
    {
     "name": "stdout",
     "output_type": "stream",
     "text": [
      "[CV 2/5] END .C=1.2, gamma=0.01, kernel=sigmoid;, score=0.883 total time=   0.3s\n"
     ]
    },
    {
     "name": "stderr",
     "output_type": "stream",
     "text": [
      "INFO:sklearnex: sklearn.svm.SVC.predict: running accelerated version on CPU\n",
      "INFO:sklearnex: sklearn.svm.SVC.fit: running accelerated version on CPU\n"
     ]
    },
    {
     "name": "stdout",
     "output_type": "stream",
     "text": [
      "[CV 3/5] END .C=1.2, gamma=0.01, kernel=sigmoid;, score=0.860 total time=   0.3s\n"
     ]
    },
    {
     "name": "stderr",
     "output_type": "stream",
     "text": [
      "INFO:sklearnex: sklearn.svm.SVC.predict: running accelerated version on CPU\n",
      "INFO:sklearnex: sklearn.svm.SVC.fit: running accelerated version on CPU\n"
     ]
    },
    {
     "name": "stdout",
     "output_type": "stream",
     "text": [
      "[CV 4/5] END .C=1.2, gamma=0.01, kernel=sigmoid;, score=0.862 total time=   0.3s\n"
     ]
    },
    {
     "name": "stderr",
     "output_type": "stream",
     "text": [
      "INFO:sklearnex: sklearn.svm.SVC.predict: running accelerated version on CPU\n",
      "INFO:sklearnex: sklearn.svm.SVC.fit: running accelerated version on CPU\n"
     ]
    },
    {
     "name": "stdout",
     "output_type": "stream",
     "text": [
      "[CV 5/5] END .C=1.2, gamma=0.01, kernel=sigmoid;, score=0.928 total time=   0.3s\n"
     ]
    },
    {
     "name": "stderr",
     "output_type": "stream",
     "text": [
      "INFO:sklearnex: sklearn.svm.SVC.predict: running accelerated version on CPU\n",
      "INFO:sklearnex: sklearn.svm.SVC.fit: running accelerated version on CPU\n"
     ]
    },
    {
     "name": "stdout",
     "output_type": "stream",
     "text": [
      "[CV 1/5] END ..C=1.2, gamma=0.01, kernel=linear;, score=0.899 total time=   0.3s\n"
     ]
    },
    {
     "name": "stderr",
     "output_type": "stream",
     "text": [
      "INFO:sklearnex: sklearn.svm.SVC.predict: running accelerated version on CPU\n",
      "INFO:sklearnex: sklearn.svm.SVC.fit: running accelerated version on CPU\n"
     ]
    },
    {
     "name": "stdout",
     "output_type": "stream",
     "text": [
      "[CV 2/5] END ..C=1.2, gamma=0.01, kernel=linear;, score=0.898 total time=   0.3s\n"
     ]
    },
    {
     "name": "stderr",
     "output_type": "stream",
     "text": [
      "INFO:sklearnex: sklearn.svm.SVC.predict: running accelerated version on CPU\n",
      "INFO:sklearnex: sklearn.svm.SVC.fit: running accelerated version on CPU\n"
     ]
    },
    {
     "name": "stdout",
     "output_type": "stream",
     "text": [
      "[CV 3/5] END ..C=1.2, gamma=0.01, kernel=linear;, score=0.885 total time=   0.3s\n"
     ]
    },
    {
     "name": "stderr",
     "output_type": "stream",
     "text": [
      "INFO:sklearnex: sklearn.svm.SVC.predict: running accelerated version on CPU\n",
      "INFO:sklearnex: sklearn.svm.SVC.fit: running accelerated version on CPU\n"
     ]
    },
    {
     "name": "stdout",
     "output_type": "stream",
     "text": [
      "[CV 4/5] END ..C=1.2, gamma=0.01, kernel=linear;, score=0.888 total time=   0.3s\n"
     ]
    },
    {
     "name": "stderr",
     "output_type": "stream",
     "text": [
      "INFO:sklearnex: sklearn.svm.SVC.predict: running accelerated version on CPU\n",
      "INFO:sklearnex: sklearn.svm.SVC.fit: running accelerated version on CPU\n"
     ]
    },
    {
     "name": "stdout",
     "output_type": "stream",
     "text": [
      "[CV 5/5] END ..C=1.2, gamma=0.01, kernel=linear;, score=0.930 total time=   0.3s\n"
     ]
    },
    {
     "name": "stderr",
     "output_type": "stream",
     "text": [
      "INFO:sklearnex: sklearn.svm.SVC.predict: running accelerated version on CPU\n",
      "INFO:sklearnex: sklearn.svm.SVC.fit: running accelerated version on CPU\n"
     ]
    },
    {
     "name": "stdout",
     "output_type": "stream",
     "text": [
      "[CV 1/5] END ....C=1.2, gamma=0.001, kernel=rbf;, score=0.863 total time=   0.2s\n"
     ]
    },
    {
     "name": "stderr",
     "output_type": "stream",
     "text": [
      "INFO:sklearnex: sklearn.svm.SVC.predict: running accelerated version on CPU\n",
      "INFO:sklearnex: sklearn.svm.SVC.fit: running accelerated version on CPU\n"
     ]
    },
    {
     "name": "stdout",
     "output_type": "stream",
     "text": [
      "[CV 2/5] END ....C=1.2, gamma=0.001, kernel=rbf;, score=0.858 total time=   0.2s\n"
     ]
    },
    {
     "name": "stderr",
     "output_type": "stream",
     "text": [
      "INFO:sklearnex: sklearn.svm.SVC.predict: running accelerated version on CPU\n",
      "INFO:sklearnex: sklearn.svm.SVC.fit: running accelerated version on CPU\n"
     ]
    },
    {
     "name": "stdout",
     "output_type": "stream",
     "text": [
      "[CV 3/5] END ....C=1.2, gamma=0.001, kernel=rbf;, score=0.839 total time=   0.2s\n"
     ]
    },
    {
     "name": "stderr",
     "output_type": "stream",
     "text": [
      "INFO:sklearnex: sklearn.svm.SVC.predict: running accelerated version on CPU\n",
      "INFO:sklearnex: sklearn.svm.SVC.fit: running accelerated version on CPU\n"
     ]
    },
    {
     "name": "stdout",
     "output_type": "stream",
     "text": [
      "[CV 4/5] END ....C=1.2, gamma=0.001, kernel=rbf;, score=0.840 total time=   0.3s\n"
     ]
    },
    {
     "name": "stderr",
     "output_type": "stream",
     "text": [
      "INFO:sklearnex: sklearn.svm.SVC.predict: running accelerated version on CPU\n",
      "INFO:sklearnex: sklearn.svm.SVC.fit: running accelerated version on CPU\n"
     ]
    },
    {
     "name": "stdout",
     "output_type": "stream",
     "text": [
      "[CV 5/5] END ....C=1.2, gamma=0.001, kernel=rbf;, score=0.900 total time=   0.3s\n"
     ]
    },
    {
     "name": "stderr",
     "output_type": "stream",
     "text": [
      "INFO:sklearnex: sklearn.svm.SVC.predict: running accelerated version on CPU\n",
      "INFO:sklearnex: sklearn.svm.SVC.fit: running accelerated version on CPU\n"
     ]
    },
    {
     "name": "stdout",
     "output_type": "stream",
     "text": [
      "[CV 1/5] END ...C=1.2, gamma=0.001, kernel=poly;, score=0.333 total time=   0.3s\n"
     ]
    },
    {
     "name": "stderr",
     "output_type": "stream",
     "text": [
      "INFO:sklearnex: sklearn.svm.SVC.predict: running accelerated version on CPU\n",
      "INFO:sklearnex: sklearn.svm.SVC.fit: running accelerated version on CPU\n"
     ]
    },
    {
     "name": "stdout",
     "output_type": "stream",
     "text": [
      "[CV 2/5] END ...C=1.2, gamma=0.001, kernel=poly;, score=0.333 total time=   0.3s\n"
     ]
    },
    {
     "name": "stderr",
     "output_type": "stream",
     "text": [
      "INFO:sklearnex: sklearn.svm.SVC.predict: running accelerated version on CPU\n",
      "INFO:sklearnex: sklearn.svm.SVC.fit: running accelerated version on CPU\n"
     ]
    },
    {
     "name": "stdout",
     "output_type": "stream",
     "text": [
      "[CV 3/5] END ...C=1.2, gamma=0.001, kernel=poly;, score=0.333 total time=   0.3s\n"
     ]
    },
    {
     "name": "stderr",
     "output_type": "stream",
     "text": [
      "INFO:sklearnex: sklearn.svm.SVC.predict: running accelerated version on CPU\n",
      "INFO:sklearnex: sklearn.svm.SVC.fit: running accelerated version on CPU\n"
     ]
    },
    {
     "name": "stdout",
     "output_type": "stream",
     "text": [
      "[CV 4/5] END ...C=1.2, gamma=0.001, kernel=poly;, score=0.333 total time=   0.3s\n"
     ]
    },
    {
     "name": "stderr",
     "output_type": "stream",
     "text": [
      "INFO:sklearnex: sklearn.svm.SVC.predict: running accelerated version on CPU\n",
      "INFO:sklearnex: sklearn.svm.SVC.fit: running accelerated version on CPU\n"
     ]
    },
    {
     "name": "stdout",
     "output_type": "stream",
     "text": [
      "[CV 5/5] END ...C=1.2, gamma=0.001, kernel=poly;, score=0.333 total time=   0.3s\n"
     ]
    },
    {
     "name": "stderr",
     "output_type": "stream",
     "text": [
      "INFO:sklearnex: sklearn.svm.SVC.predict: running accelerated version on CPU\n",
      "INFO:sklearnex: sklearn.svm.SVC.fit: running accelerated version on CPU\n"
     ]
    },
    {
     "name": "stdout",
     "output_type": "stream",
     "text": [
      "[CV 1/5] END C=1.2, gamma=0.001, kernel=sigmoid;, score=0.834 total time=   0.3s\n"
     ]
    },
    {
     "name": "stderr",
     "output_type": "stream",
     "text": [
      "INFO:sklearnex: sklearn.svm.SVC.predict: running accelerated version on CPU\n",
      "INFO:sklearnex: sklearn.svm.SVC.fit: running accelerated version on CPU\n"
     ]
    },
    {
     "name": "stdout",
     "output_type": "stream",
     "text": [
      "[CV 2/5] END C=1.2, gamma=0.001, kernel=sigmoid;, score=0.842 total time=   0.3s\n"
     ]
    },
    {
     "name": "stderr",
     "output_type": "stream",
     "text": [
      "INFO:sklearnex: sklearn.svm.SVC.predict: running accelerated version on CPU\n",
      "INFO:sklearnex: sklearn.svm.SVC.fit: running accelerated version on CPU\n"
     ]
    },
    {
     "name": "stdout",
     "output_type": "stream",
     "text": [
      "[CV 3/5] END C=1.2, gamma=0.001, kernel=sigmoid;, score=0.808 total time=   0.3s\n"
     ]
    },
    {
     "name": "stderr",
     "output_type": "stream",
     "text": [
      "INFO:sklearnex: sklearn.svm.SVC.predict: running accelerated version on CPU\n",
      "INFO:sklearnex: sklearn.svm.SVC.fit: running accelerated version on CPU\n"
     ]
    },
    {
     "name": "stdout",
     "output_type": "stream",
     "text": [
      "[CV 4/5] END C=1.2, gamma=0.001, kernel=sigmoid;, score=0.814 total time=   0.3s\n"
     ]
    },
    {
     "name": "stderr",
     "output_type": "stream",
     "text": [
      "INFO:sklearnex: sklearn.svm.SVC.predict: running accelerated version on CPU\n",
      "INFO:sklearnex: sklearn.svm.SVC.fit: running accelerated version on CPU\n"
     ]
    },
    {
     "name": "stdout",
     "output_type": "stream",
     "text": [
      "[CV 5/5] END C=1.2, gamma=0.001, kernel=sigmoid;, score=0.868 total time=   0.3s\n"
     ]
    },
    {
     "name": "stderr",
     "output_type": "stream",
     "text": [
      "INFO:sklearnex: sklearn.svm.SVC.predict: running accelerated version on CPU\n",
      "INFO:sklearnex: sklearn.svm.SVC.fit: running accelerated version on CPU\n"
     ]
    },
    {
     "name": "stdout",
     "output_type": "stream",
     "text": [
      "[CV 1/5] END .C=1.2, gamma=0.001, kernel=linear;, score=0.899 total time=   0.3s\n"
     ]
    },
    {
     "name": "stderr",
     "output_type": "stream",
     "text": [
      "INFO:sklearnex: sklearn.svm.SVC.predict: running accelerated version on CPU\n",
      "INFO:sklearnex: sklearn.svm.SVC.fit: running accelerated version on CPU\n"
     ]
    },
    {
     "name": "stdout",
     "output_type": "stream",
     "text": [
      "[CV 2/5] END .C=1.2, gamma=0.001, kernel=linear;, score=0.898 total time=   0.3s\n"
     ]
    },
    {
     "name": "stderr",
     "output_type": "stream",
     "text": [
      "INFO:sklearnex: sklearn.svm.SVC.predict: running accelerated version on CPU\n",
      "INFO:sklearnex: sklearn.svm.SVC.fit: running accelerated version on CPU\n"
     ]
    },
    {
     "name": "stdout",
     "output_type": "stream",
     "text": [
      "[CV 3/5] END .C=1.2, gamma=0.001, kernel=linear;, score=0.885 total time=   0.3s\n"
     ]
    },
    {
     "name": "stderr",
     "output_type": "stream",
     "text": [
      "INFO:sklearnex: sklearn.svm.SVC.predict: running accelerated version on CPU\n",
      "INFO:sklearnex: sklearn.svm.SVC.fit: running accelerated version on CPU\n"
     ]
    },
    {
     "name": "stdout",
     "output_type": "stream",
     "text": [
      "[CV 4/5] END .C=1.2, gamma=0.001, kernel=linear;, score=0.888 total time=   0.3s\n"
     ]
    },
    {
     "name": "stderr",
     "output_type": "stream",
     "text": [
      "INFO:sklearnex: sklearn.svm.SVC.predict: running accelerated version on CPU\n",
      "INFO:sklearnex: sklearn.svm.SVC.fit: running accelerated version on CPU\n",
      "INFO:sklearnex: sklearn.utils.validation._assert_all_finite: running accelerated version on CPU\n"
     ]
    },
    {
     "name": "stdout",
     "output_type": "stream",
     "text": [
      "[CV 5/5] END .C=1.2, gamma=0.001, kernel=linear;, score=0.930 total time=   0.3s\n"
     ]
    },
    {
     "data": {
      "text/plain": [
       "{'C': 0.6, 'gamma': 0.1, 'kernel': 'linear'}"
      ]
     },
     "execution_count": 17,
     "metadata": {},
     "output_type": "execute_result"
    }
   ],
   "source": [
    "param_grid = {\n",
    "    'C': [0.2,0.4,0.6,0.8,1,1.2],\n",
    "    'gamma': [0.1, 0.01, 0.001],\n",
    "    'kernel': ['rbf', 'poly', 'sigmoid','linear']\n",
    "}\n",
    "\n",
    "grid = GridSearchCV(SVC(), param_grid, cv=5,verbose=4,scoring=\"balanced_accuracy\")\n",
    "\n",
    "grid.fit(combined_train, y_train)\n",
    "\n",
    "grid.best_params_"
   ]
  },
  {
   "cell_type": "code",
   "execution_count": 18,
   "id": "67a192f6",
   "metadata": {
    "execution": {
     "iopub.execute_input": "2024-04-25T12:48:47.489734Z",
     "iopub.status.busy": "2024-04-25T12:48:47.488836Z",
     "iopub.status.idle": "2024-04-25T12:48:47.802283Z",
     "shell.execute_reply": "2024-04-25T12:48:47.801230Z"
    },
    "papermill": {
     "duration": 0.39175,
     "end_time": "2024-04-25T12:48:47.804723",
     "exception": false,
     "start_time": "2024-04-25T12:48:47.412973",
     "status": "completed"
    },
    "tags": []
   },
   "outputs": [
    {
     "name": "stderr",
     "output_type": "stream",
     "text": [
      "INFO:sklearnex: sklearn.svm.SVC.fit: running accelerated version on CPU\n",
      "INFO:sklearnex: sklearn.utils.validation._assert_all_finite: running accelerated version on CPU\n"
     ]
    },
    {
     "data": {
      "text/html": [
       "<style>#sk-container-id-1 {color: black;background-color: white;}#sk-container-id-1 pre{padding: 0;}#sk-container-id-1 div.sk-toggleable {background-color: white;}#sk-container-id-1 label.sk-toggleable__label {cursor: pointer;display: block;width: 100%;margin-bottom: 0;padding: 0.3em;box-sizing: border-box;text-align: center;}#sk-container-id-1 label.sk-toggleable__label-arrow:before {content: \"▸\";float: left;margin-right: 0.25em;color: #696969;}#sk-container-id-1 label.sk-toggleable__label-arrow:hover:before {color: black;}#sk-container-id-1 div.sk-estimator:hover label.sk-toggleable__label-arrow:before {color: black;}#sk-container-id-1 div.sk-toggleable__content {max-height: 0;max-width: 0;overflow: hidden;text-align: left;background-color: #f0f8ff;}#sk-container-id-1 div.sk-toggleable__content pre {margin: 0.2em;color: black;border-radius: 0.25em;background-color: #f0f8ff;}#sk-container-id-1 input.sk-toggleable__control:checked~div.sk-toggleable__content {max-height: 200px;max-width: 100%;overflow: auto;}#sk-container-id-1 input.sk-toggleable__control:checked~label.sk-toggleable__label-arrow:before {content: \"▾\";}#sk-container-id-1 div.sk-estimator input.sk-toggleable__control:checked~label.sk-toggleable__label {background-color: #d4ebff;}#sk-container-id-1 div.sk-label input.sk-toggleable__control:checked~label.sk-toggleable__label {background-color: #d4ebff;}#sk-container-id-1 input.sk-hidden--visually {border: 0;clip: rect(1px 1px 1px 1px);clip: rect(1px, 1px, 1px, 1px);height: 1px;margin: -1px;overflow: hidden;padding: 0;position: absolute;width: 1px;}#sk-container-id-1 div.sk-estimator {font-family: monospace;background-color: #f0f8ff;border: 1px dotted black;border-radius: 0.25em;box-sizing: border-box;margin-bottom: 0.5em;}#sk-container-id-1 div.sk-estimator:hover {background-color: #d4ebff;}#sk-container-id-1 div.sk-parallel-item::after {content: \"\";width: 100%;border-bottom: 1px solid gray;flex-grow: 1;}#sk-container-id-1 div.sk-label:hover label.sk-toggleable__label {background-color: #d4ebff;}#sk-container-id-1 div.sk-serial::before {content: \"\";position: absolute;border-left: 1px solid gray;box-sizing: border-box;top: 0;bottom: 0;left: 50%;z-index: 0;}#sk-container-id-1 div.sk-serial {display: flex;flex-direction: column;align-items: center;background-color: white;padding-right: 0.2em;padding-left: 0.2em;position: relative;}#sk-container-id-1 div.sk-item {position: relative;z-index: 1;}#sk-container-id-1 div.sk-parallel {display: flex;align-items: stretch;justify-content: center;background-color: white;position: relative;}#sk-container-id-1 div.sk-item::before, #sk-container-id-1 div.sk-parallel-item::before {content: \"\";position: absolute;border-left: 1px solid gray;box-sizing: border-box;top: 0;bottom: 0;left: 50%;z-index: -1;}#sk-container-id-1 div.sk-parallel-item {display: flex;flex-direction: column;z-index: 1;position: relative;background-color: white;}#sk-container-id-1 div.sk-parallel-item:first-child::after {align-self: flex-end;width: 50%;}#sk-container-id-1 div.sk-parallel-item:last-child::after {align-self: flex-start;width: 50%;}#sk-container-id-1 div.sk-parallel-item:only-child::after {width: 0;}#sk-container-id-1 div.sk-dashed-wrapped {border: 1px dashed gray;margin: 0 0.4em 0.5em 0.4em;box-sizing: border-box;padding-bottom: 0.4em;background-color: white;}#sk-container-id-1 div.sk-label label {font-family: monospace;font-weight: bold;display: inline-block;line-height: 1.2em;}#sk-container-id-1 div.sk-label-container {text-align: center;}#sk-container-id-1 div.sk-container {/* jupyter's `normalize.less` sets `[hidden] { display: none; }` but bootstrap.min.css set `[hidden] { display: none !important; }` so we also need the `!important` here to be able to override the default hidden behavior on the sphinx rendered scikit-learn.org. See: https://github.com/scikit-learn/scikit-learn/issues/21755 */display: inline-block !important;position: relative;}#sk-container-id-1 div.sk-text-repr-fallback {display: none;}</style><div id=\"sk-container-id-1\" class=\"sk-top-container\"><div class=\"sk-text-repr-fallback\"><pre>SVC(C=0.6, gamma=0.1, kernel=&#x27;linear&#x27;)</pre><b>In a Jupyter environment, please rerun this cell to show the HTML representation or trust the notebook. <br />On GitHub, the HTML representation is unable to render, please try loading this page with nbviewer.org.</b></div><div class=\"sk-container\" hidden><div class=\"sk-item\"><div class=\"sk-estimator sk-toggleable\"><input class=\"sk-toggleable__control sk-hidden--visually\" id=\"sk-estimator-id-1\" type=\"checkbox\" checked><label for=\"sk-estimator-id-1\" class=\"sk-toggleable__label sk-toggleable__label-arrow\">SVC</label><div class=\"sk-toggleable__content\"><pre>SVC(C=0.6, gamma=0.1, kernel=&#x27;linear&#x27;)</pre></div></div></div></div></div>"
      ],
      "text/plain": [
       "SVC(C=0.6, gamma=0.1, kernel='linear')"
      ]
     },
     "execution_count": 18,
     "metadata": {},
     "output_type": "execute_result"
    }
   ],
   "source": [
    "C = grid.best_params_['C']\n",
    "gamma = grid.best_params_['gamma']\n",
    "kernel = grid.best_params_['kernel']\n",
    "model = SVC(C=C,gamma=gamma,kernel=kernel)\n",
    "model.fit(combined_train,y_train)"
   ]
  },
  {
   "cell_type": "code",
   "execution_count": 19,
   "id": "cfa96823",
   "metadata": {
    "execution": {
     "iopub.execute_input": "2024-04-25T12:48:48.025108Z",
     "iopub.status.busy": "2024-04-25T12:48:48.023817Z",
     "iopub.status.idle": "2024-04-25T12:48:48.080250Z",
     "shell.execute_reply": "2024-04-25T12:48:48.078409Z"
    },
    "papermill": {
     "duration": 0.137319,
     "end_time": "2024-04-25T12:48:48.082833",
     "exception": false,
     "start_time": "2024-04-25T12:48:47.945514",
     "status": "completed"
    },
    "tags": []
   },
   "outputs": [
    {
     "name": "stderr",
     "output_type": "stream",
     "text": [
      "INFO:sklearnex: sklearn.svm.SVC.predict: running accelerated version on CPU\n",
      "INFO:sklearnex: sklearn.utils.validation._assert_all_finite: running accelerated version on CPU\n",
      "INFO:sklearnex: sklearn.svm.SVC.predict: running accelerated version on CPU\n"
     ]
    },
    {
     "name": "stdout",
     "output_type": "stream",
     "text": [
      "Training Metrics\n",
      "0.9018150913272515\n",
      "0.9076546587737853\n",
      "              precision    recall  f1-score   support\n",
      "\n",
      "           0       0.94      0.87      0.90       559\n",
      "           1       0.89      0.94      0.91      1274\n",
      "           2       0.92      0.90      0.91      1367\n",
      "\n",
      "    accuracy                           0.91      3200\n",
      "   macro avg       0.91      0.90      0.91      3200\n",
      "weighted avg       0.91      0.91      0.91      3200\n",
      "\n",
      "Validation Metrics\n",
      "0.7244869558302395\n",
      "0.7292373918426698\n",
      "              precision    recall  f1-score   support\n",
      "\n",
      "           0       0.73      0.67      0.70       143\n",
      "           1       0.71      0.79      0.75       322\n",
      "           2       0.76      0.72      0.74       335\n",
      "\n",
      "    accuracy                           0.74       800\n",
      "   macro avg       0.74      0.72      0.73       800\n",
      "weighted avg       0.74      0.74      0.74       800\n",
      "\n"
     ]
    }
   ],
   "source": [
    "y_pred_train=model.predict(combined_train)\n",
    "y_pred_val=model.predict(combined_val)\n",
    "\n",
    "print(\"Training Metrics\")\n",
    "print(balanced_accuracy_score(y_train,y_pred_train))\n",
    "print(f1_score(y_train,y_pred_train,average='macro'))\n",
    "print(classification_report(y_train,y_pred_train))\n",
    "\n",
    "print(\"Validation Metrics\")\n",
    "print(balanced_accuracy_score(y_val,y_pred_val))\n",
    "print(f1_score(y_val,y_pred_val,average='macro'))\n",
    "print(classification_report(y_val,y_pred_val))"
   ]
  },
  {
   "cell_type": "code",
   "execution_count": 20,
   "id": "a1636071",
   "metadata": {
    "execution": {
     "iopub.execute_input": "2024-04-25T12:48:48.238614Z",
     "iopub.status.busy": "2024-04-25T12:48:48.238188Z",
     "iopub.status.idle": "2024-04-25T12:48:48.245900Z",
     "shell.execute_reply": "2024-04-25T12:48:48.244913Z"
    },
    "papermill": {
     "duration": 0.088392,
     "end_time": "2024-04-25T12:48:48.248074",
     "exception": false,
     "start_time": "2024-04-25T12:48:48.159682",
     "status": "completed"
    },
    "tags": []
   },
   "outputs": [],
   "source": [
    "with open('svm_ensemble.pkl', 'wb') as file:\n",
    "    pickle.dump(model, file)"
   ]
  },
  {
   "cell_type": "code",
   "execution_count": 21,
   "id": "22dc18f8",
   "metadata": {
    "execution": {
     "iopub.execute_input": "2024-04-25T12:48:48.410042Z",
     "iopub.status.busy": "2024-04-25T12:48:48.408850Z",
     "iopub.status.idle": "2024-04-25T12:48:48.440959Z",
     "shell.execute_reply": "2024-04-25T12:48:48.439485Z"
    },
    "papermill": {
     "duration": 0.116591,
     "end_time": "2024-04-25T12:48:48.443671",
     "exception": false,
     "start_time": "2024-04-25T12:48:48.327080",
     "status": "completed"
    },
    "tags": []
   },
   "outputs": [],
   "source": [
    "with open(\"svm_ensemble.pkl\",\"rb\") as f:\n",
    "    loaded_model = pickle.load(f)"
   ]
  },
  {
   "cell_type": "code",
   "execution_count": 22,
   "id": "8a6793f0",
   "metadata": {
    "execution": {
     "iopub.execute_input": "2024-04-25T12:48:48.600261Z",
     "iopub.status.busy": "2024-04-25T12:48:48.599644Z",
     "iopub.status.idle": "2024-04-25T12:48:48.624638Z",
     "shell.execute_reply": "2024-04-25T12:48:48.623594Z"
    },
    "papermill": {
     "duration": 0.104805,
     "end_time": "2024-04-25T12:48:48.626999",
     "exception": false,
     "start_time": "2024-04-25T12:48:48.522194",
     "status": "completed"
    },
    "tags": []
   },
   "outputs": [
    {
     "name": "stderr",
     "output_type": "stream",
     "text": [
      "INFO:sklearnex: sklearn.svm.SVC.predict: running accelerated version on CPU\n"
     ]
    },
    {
     "name": "stdout",
     "output_type": "stream",
     "text": [
      "Testing accuracy 0.7250\n",
      "Testing data metrics:\n",
      "Balanced Accuracy 0.6987 : \n",
      "Balacned F1 Score 0.7062 : \n",
      "              precision    recall  f1-score   support\n",
      "\n",
      "           0       0.69      0.59      0.63       174\n",
      "           1       0.72      0.78      0.75       403\n",
      "           2       0.74      0.73      0.74       423\n",
      "\n",
      "    accuracy                           0.73      1000\n",
      "   macro avg       0.72      0.70      0.71      1000\n",
      "weighted avg       0.72      0.72      0.72      1000\n",
      "\n"
     ]
    }
   ],
   "source": [
    "y_pred = loaded_model.predict(combined_test)\n",
    "print('Testing accuracy {:.4f}'.format(accuracy_score(y_test, y_pred)))\n",
    "print(\"Testing data metrics:\")\n",
    "print(\"Balanced Accuracy {:.4f} : \".format(balanced_accuracy_score(y_test,y_pred)))\n",
    "print(\"Balacned F1 Score {:.4f} : \".format(f1_score(y_test,y_pred,  average='macro')))\n",
    "print(classification_report(y_test,y_pred))"
   ]
  }
 ],
 "metadata": {
  "kaggle": {
   "accelerator": "none",
   "dataSources": [
    {
     "datasetId": 4749278,
     "sourceId": 8052995,
     "sourceType": "datasetVersion"
    },
    {
     "datasetId": 4877737,
     "sourceId": 8226323,
     "sourceType": "datasetVersion"
    }
   ],
   "dockerImageVersionId": 30698,
   "isGpuEnabled": false,
   "isInternetEnabled": true,
   "language": "python",
   "sourceType": "notebook"
  },
  "kernelspec": {
   "display_name": "Python 3",
   "language": "python",
   "name": "python3"
  },
  "language_info": {
   "codemirror_mode": {
    "name": "ipython",
    "version": 3
   },
   "file_extension": ".py",
   "mimetype": "text/x-python",
   "name": "python",
   "nbconvert_exporter": "python",
   "pygments_lexer": "ipython3",
   "version": "3.10.13"
  },
  "papermill": {
   "default_parameters": {},
   "duration": 167.376825,
   "end_time": "2024-04-25T12:48:51.426783",
   "environment_variables": {},
   "exception": null,
   "input_path": "__notebook__.ipynb",
   "output_path": "__notebook__.ipynb",
   "parameters": {},
   "start_time": "2024-04-25T12:46:04.049958",
   "version": "2.5.0"
  }
 },
 "nbformat": 4,
 "nbformat_minor": 5
}
